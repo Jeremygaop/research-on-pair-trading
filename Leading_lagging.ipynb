{
 "cells": [
  {
   "cell_type": "code",
   "execution_count": 43,
   "id": "5626cb2d",
   "metadata": {},
   "outputs": [],
   "source": [
    "import pandas as pd\n",
    "import os\n",
    "import numpy as np\n",
    "from tqdm import tqdm\n",
    "import warnings\n",
    "import matplotlib.pyplot as plt"
   ]
  },
  {
   "cell_type": "code",
   "execution_count": 44,
   "id": "92096b14",
   "metadata": {},
   "outputs": [],
   "source": [
    "def test_signal(spread, stock, future, name):\n",
    "    test_data = spread\n",
    "    spread_upper = spread['0'].quantile(0.8)\n",
    "    spread_lower = spread['0'].quantile(0.2)\n",
    "    test_data['signal'] = (test_data['0'] > spread_upper) | (test_data['0'] < spread_lower)\n",
    "    test_data['direction'] = 1 * (test_data['0'] - test_data['0'].shift() > 0)\n",
    "    indices = test_data.index[(test_data['signal'].shift() == False) & (test_data['signal'] == True)]\n",
    "    signal_occur = test_data.loc[indices]\n",
    "    test_stock = stock\n",
    "    test_stock['direction'] = 1 * (test_stock['price'] - test_stock['price'].shift() > 0)\n",
    "    test_future = future\n",
    "    test_future['direction'] = 1 * (test_future['midQ'] - test_future['midQ'].shift() > 0)\n",
    "    stock_signal = test_stock.loc[indices]\n",
    "    future_signal = test_future.loc[indices]\n",
    "    stock_futures = pd.merge(future_signal, stock_signal, left_index=True, right_index=True, how='inner',suffixes=('_futures', '_stock')).dropna()\n",
    "    signal_data = pd.merge(stock_futures, signal_occur, left_index=True, right_index=True, how='inner').dropna()\n",
    "    together_diff = ((signal_data['direction'] == signal_data['direction_stock']) & (signal_data['direction'] != signal_data['direction_futures'])).sum()\n",
    "    stock_lead_larger = ((signal_data['direction'] == signal_data['direction_stock']) & (signal_data['direction'] == signal_data['direction_futures'])).sum()\n",
    "    future_lead = ((signal_data['direction'] != signal_data['direction_stock']) & (signal_data['direction'] != signal_data['direction_futures'])).sum()\n",
    "    total = len(indices)\n",
    "    together_diff_ratio = together_diff / total\n",
    "    stock_lead_larger_ratio = stock_lead_larger / total\n",
    "    future_lead_ratio = future_lead / total\n",
    "    summary = [together_diff_ratio,stock_lead_larger_ratio,future_lead_ratio]\n",
    "    return summary\n",
    "    #print(stock_lead,'\\n')\n",
    "    #print(stock_lead_larger ,'\\n')\n",
    "    #print(future_lead ,'\\n')"
   ]
  },
  {
   "cell_type": "code",
   "execution_count": 45,
   "id": "47ca15fd",
   "metadata": {},
   "outputs": [],
   "source": [
    "Path_dir = \"/Users/lyq/Documents/Github/IndependentProject/SummerIndependentProject_GP/project_data/Chris_data/\"    \n",
    "name_list = []\n",
    "for i in os.listdir(Path_dir):\n",
    "    name_list.append(i)\n",
    "name_list.remove('.DS_Store')"
   ]
  },
  {
   "cell_type": "code",
   "execution_count": 46,
   "id": "e5c135d2",
   "metadata": {},
   "outputs": [
    {
     "name": "stderr",
     "output_type": "stream",
     "text": [
      "100%|███████████████████████████████████████████| 10/10 [05:07<00:00, 30.72s/it]\n"
     ]
    }
   ],
   "source": [
    "Path_dir = \"/Users/lyq/Documents/Github/IndependentProject/SummerIndependentProject_GP/project_data/Chris_data/\"\n",
    "leading_result = []\n",
    "for _ in tqdm(name_list):\n",
    "    spread = pd.read_csv(Path + _ + '/spread' +'.csv.gz',index_col=0, parse_dates=True)\n",
    "    stock = pd.read_csv(Path+ _ + '/stock' +'.csv.gz',index_col=0, parse_dates=True)\n",
    "    future = pd.read_csv(Path+ _ + '/future' +'.csv.gz',index_col=0, parse_dates=True)\n",
    "    result = test_signal(spread, stock, future, _)\n",
    "    leading_result.append(result)"
   ]
  },
  {
   "cell_type": "code",
   "execution_count": 49,
   "id": "053ba294",
   "metadata": {},
   "outputs": [],
   "source": [
    "together_diff = [item[0] for item in leading_result]\n",
    "stock = [item[1] for item in leading_result]\n",
    "future = [item[2] for item in leading_result]\n",
    "df = pd.DataFrame({'together':together_diff, 'stock' : stock,'future' : future}, index=name_list)"
   ]
  },
  {
   "cell_type": "code",
   "execution_count": 50,
   "id": "ab96b5d1",
   "metadata": {},
   "outputs": [
    {
     "data": {
      "text/html": [
       "<div>\n",
       "<style scoped>\n",
       "    .dataframe tbody tr th:only-of-type {\n",
       "        vertical-align: middle;\n",
       "    }\n",
       "\n",
       "    .dataframe tbody tr th {\n",
       "        vertical-align: top;\n",
       "    }\n",
       "\n",
       "    .dataframe thead th {\n",
       "        text-align: right;\n",
       "    }\n",
       "</style>\n",
       "<table border=\"1\" class=\"dataframe\">\n",
       "  <thead>\n",
       "    <tr style=\"text-align: right;\">\n",
       "      <th></th>\n",
       "      <th>together</th>\n",
       "      <th>stock</th>\n",
       "      <th>future</th>\n",
       "    </tr>\n",
       "  </thead>\n",
       "  <tbody>\n",
       "    <tr>\n",
       "      <th>HCF-2498</th>\n",
       "      <td>0.508681</td>\n",
       "      <td>0.196457</td>\n",
       "      <td>0.294862</td>\n",
       "    </tr>\n",
       "    <tr>\n",
       "      <th>NAF-3105</th>\n",
       "      <td>0.537976</td>\n",
       "      <td>0.298523</td>\n",
       "      <td>0.163501</td>\n",
       "    </tr>\n",
       "    <tr>\n",
       "      <th>DBF-2610</th>\n",
       "      <td>0.539997</td>\n",
       "      <td>0.306972</td>\n",
       "      <td>0.153031</td>\n",
       "    </tr>\n",
       "    <tr>\n",
       "      <th>EHF-1319</th>\n",
       "      <td>0.485414</td>\n",
       "      <td>0.364445</td>\n",
       "      <td>0.150140</td>\n",
       "    </tr>\n",
       "    <tr>\n",
       "      <th>QXF-2615</th>\n",
       "      <td>0.489317</td>\n",
       "      <td>0.289830</td>\n",
       "      <td>0.220853</td>\n",
       "    </tr>\n",
       "    <tr>\n",
       "      <th>IIF-3006</th>\n",
       "      <td>0.506710</td>\n",
       "      <td>0.237875</td>\n",
       "      <td>0.255414</td>\n",
       "    </tr>\n",
       "    <tr>\n",
       "      <th>QWF-2388</th>\n",
       "      <td>0.489673</td>\n",
       "      <td>0.299127</td>\n",
       "      <td>0.211200</td>\n",
       "    </tr>\n",
       "    <tr>\n",
       "      <th>PEF-5425</th>\n",
       "      <td>0.492635</td>\n",
       "      <td>0.296327</td>\n",
       "      <td>0.211038</td>\n",
       "    </tr>\n",
       "    <tr>\n",
       "      <th>JBF-3443</th>\n",
       "      <td>0.505897</td>\n",
       "      <td>0.191396</td>\n",
       "      <td>0.302707</td>\n",
       "    </tr>\n",
       "    <tr>\n",
       "      <th>IPF-3035</th>\n",
       "      <td>0.491116</td>\n",
       "      <td>0.322249</td>\n",
       "      <td>0.186635</td>\n",
       "    </tr>\n",
       "  </tbody>\n",
       "</table>\n",
       "</div>"
      ],
      "text/plain": [
       "          together     stock    future\n",
       "HCF-2498  0.508681  0.196457  0.294862\n",
       "NAF-3105  0.537976  0.298523  0.163501\n",
       "DBF-2610  0.539997  0.306972  0.153031\n",
       "EHF-1319  0.485414  0.364445  0.150140\n",
       "QXF-2615  0.489317  0.289830  0.220853\n",
       "IIF-3006  0.506710  0.237875  0.255414\n",
       "QWF-2388  0.489673  0.299127  0.211200\n",
       "PEF-5425  0.492635  0.296327  0.211038\n",
       "JBF-3443  0.505897  0.191396  0.302707\n",
       "IPF-3035  0.491116  0.322249  0.186635"
      ]
     },
     "execution_count": 50,
     "metadata": {},
     "output_type": "execute_result"
    }
   ],
   "source": [
    "df"
   ]
  },
  {
   "cell_type": "code",
   "execution_count": null,
   "id": "f1367b01",
   "metadata": {},
   "outputs": [],
   "source": []
  }
 ],
 "metadata": {
  "kernelspec": {
   "display_name": "Python 3 (ipykernel)",
   "language": "python",
   "name": "python3"
  },
  "language_info": {
   "codemirror_mode": {
    "name": "ipython",
    "version": 3
   },
   "file_extension": ".py",
   "mimetype": "text/x-python",
   "name": "python",
   "nbconvert_exporter": "python",
   "pygments_lexer": "ipython3",
   "version": "3.8.17"
  }
 },
 "nbformat": 4,
 "nbformat_minor": 5
}
