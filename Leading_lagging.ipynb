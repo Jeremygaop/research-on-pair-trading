{
 "cells": [
  {
   "cell_type": "code",
   "execution_count": 1,
   "id": "f1686435",
   "metadata": {},
   "outputs": [],
   "source": [
    "import pandas as pd\n",
    "import os\n",
    "import numpy as np\n",
    "from tqdm import tqdm\n",
    "import warnings\n",
    "import matplotlib.pyplot as plt"
   ]
  },
  {
   "cell_type": "code",
   "execution_count": 13,
   "id": "c72aaf93",
   "metadata": {},
   "outputs": [],
   "source": [
    "spread['direction'] = spread['0'].diff().apply(lambda x: 1 if x > 0 else -1 if x < 0 else 0)"
   ]
  },
  {
   "cell_type": "code",
   "execution_count": 24,
   "id": "8849ac0b",
   "metadata": {},
   "outputs": [],
   "source": [
    "def test_signal(spread, stock, future, name):\n",
    "    test_data = spread\n",
    "    spread_upper = spread['0'].quantile(0.8)\n",
    "    spread_lower = spread['0'].quantile(0.2)\n",
    "    test_data['signal'] = (test_data['0'] > spread_upper) | (test_data['0'] < spread_lower)\n",
    "    test_data['direction'] = test_data['0'].diff().apply(lambda x: 1 if x > 0 else -1 if x < 0 else 0)\n",
    "    indices = test_data.index[(test_data['signal'].shift() == False) & (test_data['signal'] == True)]\n",
    "    signal_occur = test_data.loc[indices]\n",
    "    test_stock = stock\n",
    "    test_stock['direction'] = test_stock['price'].diff().apply(lambda x: 1 if x > 0 else -1 if x < 0 else 0)\n",
    "    test_future = future\n",
    "    test_future['direction'] = test_future['midQ'].diff().apply(lambda x: 1 if x > 0 else -1 if x < 0 else 0)\n",
    "    stock_signal = test_stock.loc[indices]\n",
    "    future_signal = test_future.loc[indices]\n",
    "    stock_futures = pd.merge(future_signal, stock_signal, left_index=True, right_index=True, how='inner',suffixes=('_futures', '_stock')).dropna()\n",
    "    signal_data = pd.merge(stock_futures, signal_occur, left_index=True, right_index=True, how='inner').dropna()\n",
    "    together_diff = ((signal_data['direction'] == signal_data['direction_stock']) & (signal_data['direction'] * signal_data['direction_futures'] == -1)).sum()\n",
    "    stock_lead = ((signal_data['direction'] == signal_data['direction_stock']) & (signal_data['direction'] * signal_data['direction_futures'] != -1)).sum()\n",
    "    future_lead = ((signal_data['direction'] != signal_data['direction_stock']) & (signal_data['direction'] != signal_data['direction_futures'])).sum()\n",
    "    total = len(indices)\n",
    "    together_diff_ratio = together_diff / total\n",
    "    stock_lead_larger_ratio = stock_lead/ total\n",
    "    future_lead_ratio = future_lead / total\n",
    "    summary = [together_diff_ratio,stock_lead_larger_ratio,future_lead_ratio]\n",
    "    return summary\n",
    "    #print(stock_lead,'\\n')\n",
    "    #print(stock_lead_larger ,'\\n')\n",
    "    #print(future_lead ,'\\n')"
   ]
  },
  {
   "cell_type": "code",
   "execution_count": 25,
   "id": "040ad9eb",
   "metadata": {},
   "outputs": [],
   "source": [
    "Path_dir = \"/Users/lyq/Documents/Github/IndependentProject/SummerIndependentProject_GP/project_data/Chris_data/\"    \n",
    "name_list = []\n",
    "for i in os.listdir(Path_dir):\n",
    "    name_list.append(i)\n",
    "name_list.remove('.DS_Store')"
   ]
  },
  {
   "cell_type": "code",
   "execution_count": 26,
   "id": "7a8f33e1",
   "metadata": {},
   "outputs": [
    {
     "name": "stderr",
     "output_type": "stream",
     "text": [
      "100%|███████████████████████████████████████████| 10/10 [05:47<00:00, 34.76s/it]\n"
     ]
    }
   ],
   "source": [
    "Path = \"/Users/lyq/Documents/Github/IndependentProject/SummerIndependentProject_GP/project_data/Chris_data/\"\n",
    "leading_result = []\n",
    "for _ in tqdm(name_list):\n",
    "    spread = pd.read_csv(Path + _ + '/spread' +'.csv.gz',index_col=0, parse_dates=True)\n",
    "    stock = pd.read_csv(Path+ _ + '/stock' +'.csv.gz',index_col=0, parse_dates=True)\n",
    "    future = pd.read_csv(Path+ _ + '/future' +'.csv.gz',index_col=0, parse_dates=True)\n",
    "    result = test_signal(spread, stock, future, _)\n",
    "    leading_result.append(result)"
   ]
  },
  {
   "cell_type": "code",
   "execution_count": 27,
   "id": "ccf48ab7",
   "metadata": {},
   "outputs": [],
   "source": [
    "together_diff = [item[0] for item in leading_result]\n",
    "stock = [item[1] for item in leading_result]\n",
    "future = [item[2] for item in leading_result]\n",
    "df = pd.DataFrame({'together':together_diff, 'stock' : stock,'future' : future}, index=name_list)"
   ]
  },
  {
   "cell_type": "code",
   "execution_count": 28,
   "id": "62e336ca",
   "metadata": {},
   "outputs": [
    {
     "data": {
      "text/html": [
       "<div>\n",
       "<style scoped>\n",
       "    .dataframe tbody tr th:only-of-type {\n",
       "        vertical-align: middle;\n",
       "    }\n",
       "\n",
       "    .dataframe tbody tr th {\n",
       "        vertical-align: top;\n",
       "    }\n",
       "\n",
       "    .dataframe thead th {\n",
       "        text-align: right;\n",
       "    }\n",
       "</style>\n",
       "<table border=\"1\" class=\"dataframe\">\n",
       "  <thead>\n",
       "    <tr style=\"text-align: right;\">\n",
       "      <th></th>\n",
       "      <th>together</th>\n",
       "      <th>stock</th>\n",
       "      <th>future</th>\n",
       "    </tr>\n",
       "  </thead>\n",
       "  <tbody>\n",
       "    <tr>\n",
       "      <th>HCF-2498</th>\n",
       "      <td>0.031079</td>\n",
       "      <td>0.540609</td>\n",
       "      <td>0.428312</td>\n",
       "    </tr>\n",
       "    <tr>\n",
       "      <th>NAF-3105</th>\n",
       "      <td>0.027737</td>\n",
       "      <td>0.549572</td>\n",
       "      <td>0.422691</td>\n",
       "    </tr>\n",
       "    <tr>\n",
       "      <th>DBF-2610</th>\n",
       "      <td>0.011121</td>\n",
       "      <td>0.676834</td>\n",
       "      <td>0.312045</td>\n",
       "    </tr>\n",
       "    <tr>\n",
       "      <th>EHF-1319</th>\n",
       "      <td>0.035967</td>\n",
       "      <td>0.715201</td>\n",
       "      <td>0.248832</td>\n",
       "    </tr>\n",
       "    <tr>\n",
       "      <th>QXF-2615</th>\n",
       "      <td>0.018843</td>\n",
       "      <td>0.584472</td>\n",
       "      <td>0.396685</td>\n",
       "    </tr>\n",
       "    <tr>\n",
       "      <th>IIF-3006</th>\n",
       "      <td>0.025636</td>\n",
       "      <td>0.524893</td>\n",
       "      <td>0.449472</td>\n",
       "    </tr>\n",
       "    <tr>\n",
       "      <th>QWF-2388</th>\n",
       "      <td>0.034727</td>\n",
       "      <td>0.562509</td>\n",
       "      <td>0.402764</td>\n",
       "    </tr>\n",
       "    <tr>\n",
       "      <th>PEF-5425</th>\n",
       "      <td>0.041343</td>\n",
       "      <td>0.533929</td>\n",
       "      <td>0.424728</td>\n",
       "    </tr>\n",
       "    <tr>\n",
       "      <th>JBF-3443</th>\n",
       "      <td>0.048758</td>\n",
       "      <td>0.536704</td>\n",
       "      <td>0.414538</td>\n",
       "    </tr>\n",
       "    <tr>\n",
       "      <th>IPF-3035</th>\n",
       "      <td>0.016148</td>\n",
       "      <td>0.597867</td>\n",
       "      <td>0.385985</td>\n",
       "    </tr>\n",
       "  </tbody>\n",
       "</table>\n",
       "</div>"
      ],
      "text/plain": [
       "          together     stock    future\n",
       "HCF-2498  0.031079  0.540609  0.428312\n",
       "NAF-3105  0.027737  0.549572  0.422691\n",
       "DBF-2610  0.011121  0.676834  0.312045\n",
       "EHF-1319  0.035967  0.715201  0.248832\n",
       "QXF-2615  0.018843  0.584472  0.396685\n",
       "IIF-3006  0.025636  0.524893  0.449472\n",
       "QWF-2388  0.034727  0.562509  0.402764\n",
       "PEF-5425  0.041343  0.533929  0.424728\n",
       "JBF-3443  0.048758  0.536704  0.414538\n",
       "IPF-3035  0.016148  0.597867  0.385985"
      ]
     },
     "execution_count": 28,
     "metadata": {},
     "output_type": "execute_result"
    }
   ],
   "source": [
    "df"
   ]
  },
  {
   "cell_type": "code",
   "execution_count": null,
   "id": "79811969",
   "metadata": {},
   "outputs": [],
   "source": []
  }
 ],
 "metadata": {
  "kernelspec": {
   "display_name": "Python 3 (ipykernel)",
   "language": "python",
   "name": "python3"
  },
  "language_info": {
   "codemirror_mode": {
    "name": "ipython",
    "version": 3
   },
   "file_extension": ".py",
   "mimetype": "text/x-python",
   "name": "python",
   "nbconvert_exporter": "python",
   "pygments_lexer": "ipython3",
   "version": "3.8.17"
  }
 },
 "nbformat": 4,
 "nbformat_minor": 5
}
