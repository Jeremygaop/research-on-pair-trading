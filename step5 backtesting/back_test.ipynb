{
 "cells": [
  {
   "cell_type": "code",
   "execution_count": 1,
   "metadata": {
    "collapsed": true,
    "ExecuteTime": {
     "end_time": "2023-08-27T12:12:26.570005Z",
     "start_time": "2023-08-27T12:12:23.927651Z"
    }
   },
   "outputs": [
    {
     "name": "stderr",
     "output_type": "stream",
     "text": [
      "/Users/jeremy_gp/Documents/GitHub/SummerIndependentProject/step4_model_testing/model_testing.py:101: FutureWarning: The default dtype for empty Series will be 'object' instead of 'float64' in a future version. Specify a dtype explicitly to silence this warning.\n",
      "  y_test_preds = pd.Series()\n"
     ]
    },
    {
     "name": "stdout",
     "output_type": "stream",
     "text": [
      "2022-10-04 09:05:00    1\n",
      "2022-10-04 09:10:00    1\n",
      "2022-10-04 09:35:00    1\n",
      "2022-10-04 09:40:00    1\n",
      "2022-10-04 09:45:00    1\n",
      "                      ..\n",
      "2023-06-29 12:35:00   -1\n",
      "2023-06-29 12:45:00    1\n",
      "2023-06-29 12:55:00   -1\n",
      "2023-06-29 13:05:00   -1\n",
      "2023-06-29 13:25:00    1\n",
      "Length: 3308, dtype: int64\n"
     ]
    },
    {
     "data": {
      "text/plain": "                       spread  signal  pnl\n2022-09-02 09:05:00  0.001456     NaN    0\n2022-09-02 09:10:00  0.000254     NaN    0\n2022-09-02 09:15:00  0.001796     NaN    0\n2022-09-02 09:20:00  0.001414     NaN    0\n2022-09-02 09:25:00  0.002375     NaN    0\n...                       ...     ...  ...\n2023-06-30 13:05:00 -0.004077     NaN    0\n2023-06-30 13:10:00 -0.002564     NaN    0\n2023-06-30 13:15:00 -0.002856     NaN    0\n2023-06-30 13:20:00 -0.002471     NaN    0\n2023-06-30 13:25:00 -0.004734     NaN    0\n\n[9485 rows x 3 columns]",
      "text/html": "<div>\n<style scoped>\n    .dataframe tbody tr th:only-of-type {\n        vertical-align: middle;\n    }\n\n    .dataframe tbody tr th {\n        vertical-align: top;\n    }\n\n    .dataframe thead th {\n        text-align: right;\n    }\n</style>\n<table border=\"1\" class=\"dataframe\">\n  <thead>\n    <tr style=\"text-align: right;\">\n      <th></th>\n      <th>spread</th>\n      <th>signal</th>\n      <th>pnl</th>\n    </tr>\n  </thead>\n  <tbody>\n    <tr>\n      <th>2022-09-02 09:05:00</th>\n      <td>0.001456</td>\n      <td>NaN</td>\n      <td>0</td>\n    </tr>\n    <tr>\n      <th>2022-09-02 09:10:00</th>\n      <td>0.000254</td>\n      <td>NaN</td>\n      <td>0</td>\n    </tr>\n    <tr>\n      <th>2022-09-02 09:15:00</th>\n      <td>0.001796</td>\n      <td>NaN</td>\n      <td>0</td>\n    </tr>\n    <tr>\n      <th>2022-09-02 09:20:00</th>\n      <td>0.001414</td>\n      <td>NaN</td>\n      <td>0</td>\n    </tr>\n    <tr>\n      <th>2022-09-02 09:25:00</th>\n      <td>0.002375</td>\n      <td>NaN</td>\n      <td>0</td>\n    </tr>\n    <tr>\n      <th>...</th>\n      <td>...</td>\n      <td>...</td>\n      <td>...</td>\n    </tr>\n    <tr>\n      <th>2023-06-30 13:05:00</th>\n      <td>-0.004077</td>\n      <td>NaN</td>\n      <td>0</td>\n    </tr>\n    <tr>\n      <th>2023-06-30 13:10:00</th>\n      <td>-0.002564</td>\n      <td>NaN</td>\n      <td>0</td>\n    </tr>\n    <tr>\n      <th>2023-06-30 13:15:00</th>\n      <td>-0.002856</td>\n      <td>NaN</td>\n      <td>0</td>\n    </tr>\n    <tr>\n      <th>2023-06-30 13:20:00</th>\n      <td>-0.002471</td>\n      <td>NaN</td>\n      <td>0</td>\n    </tr>\n    <tr>\n      <th>2023-06-30 13:25:00</th>\n      <td>-0.004734</td>\n      <td>NaN</td>\n      <td>0</td>\n    </tr>\n  </tbody>\n</table>\n<p>9485 rows × 3 columns</p>\n</div>"
     },
     "execution_count": 1,
     "metadata": {},
     "output_type": "execute_result"
    }
   ],
   "source": [
    "import pandas as pd\n",
    "from step4_model_testing.model_testing import *\n",
    "\n",
    "path = '/Users/jeremy_gp/Documents/GitHub/SummerIndependentProject/factors_data/'\n",
    "symbol = 'EHF'\n",
    "data = pd.read_csv(path + '{}_factors.csv'.format(symbol), index_col=0)\n",
    "data.index = pd.to_datetime(data.index)\n",
    "data['delta_1'] = data['spread'].diff().shift(-1)\n",
    "data = data.loc['2022-09-02':]\n",
    "# lists = ['spread', 'RSI', 'MACD', 'MACDhist','EMA_5', 'MA_5']\n",
    "lists = ['spread', 'RSI']\n",
    "data = test_logistic(data, lists, pd.to_datetime('2022-09-02 09:05:00'), 20, 1, symbol, 'RSI',0.8, 0.2)\n",
    "data"
   ]
  },
  {
   "cell_type": "code",
   "execution_count": 50,
   "outputs": [],
   "source": [
    "def valid_date_n_days_later(start, all_data, n):\n",
    "    i = 1\n",
    "    while i <= n:\n",
    "        start = start + pd.DateOffset(days=1)\n",
    "        if start in all_data.index:\n",
    "            i = i + 1\n",
    "        if start > all_data.index[-1]:\n",
    "            return False\n",
    "    return start\n",
    "\n",
    "def valid_date_n_days_before(start, all_data, n):\n",
    "    i = 1\n",
    "    while i <= n:\n",
    "        start = start - pd.DateOffset(days=1)\n",
    "        if start in all_data.index:\n",
    "            i = i + 1\n",
    "        if start < all_data.index[0]:\n",
    "            return False\n",
    "    return start"
   ],
   "metadata": {
    "collapsed": false
   }
  },
  {
   "cell_type": "code",
   "execution_count": 51,
   "outputs": [],
   "source": [
    "start_trading_date = valid_date_n_days_later(pd.to_datetime('2022-10-03 09:05:00'), data, 20)\n",
    "data['pnl'] = 0\n",
    "while start_trading_date < data.index[-1]:\n",
    "    end_trading_date = valid_date_n_days_later(start_trading_date, data, 1)\n",
    "    if not end_trading_date:\n",
    "        break\n",
    "    historical_date = valid_date_n_days_before(start_trading_date, data, 20)\n",
    "\n",
    "    historical_data = data[historical_date:start_trading_date]\n",
    "    sd = np.std(historical_data['spread'], axis=0)\n",
    "    mean = historical_data['spread'].mean()\n",
    "    upper = mean + 1.5 * sd\n",
    "    lower = mean - 1.5 * sd\n",
    "    # calculate e to power of spread\n",
    "    current_data = data[start_trading_date:end_trading_date]\n",
    "    i = 0\n",
    "    take_position = 0\n",
    "    current_spread = 0\n",
    "    commission_fee = 1- 0.0003\n",
    "\n",
    "    while i < current_data.shape[0]:\n",
    "        if take_position == 0:\n",
    "            if current_data.iloc[i]['spread'] > upper:\n",
    "                current_spread = current_data.iloc[i]['e_spread']*commission_fee\n",
    "                take_position = 1\n",
    "            elif current_data.iloc[i]['spread'] < lower:\n",
    "                current_spread = current_data.iloc[i]['e_spread']*commission_fee\n",
    "                take_position = -1\n",
    "        else:\n",
    "            if take_position == 1:\n",
    "                if current_data.iloc[i]['spread'] < mean:\n",
    "                    data.loc[current_data.index[i], 'pnl'] =  (current_spread - current_data.iloc[i]['e_spread'] )*commission_fee\n",
    "                    take_position = 0\n",
    "                    current_spread = 0\n",
    "\n",
    "            if take_position == -1:\n",
    "                if current_data.iloc[i]['spread'] > mean:\n",
    "                    data.loc[current_data.index[i], 'pnl'] =  (current_data.iloc[i]['e_spread'] - current_spread) *commission_fee\n",
    "                    take_position = 0\n",
    "                    current_spread = 0\n",
    "\n",
    "        if i == current_data.shape[0] - 1:\n",
    "            if take_position == 1:\n",
    "                data.loc[current_data.index[i], 'pnl'] =  (current_spread - current_data.iloc[i]['e_spread'])*commission_fee\n",
    "                take_position = 0\n",
    "                current_spread = 0\n",
    "            if take_position == -1:\n",
    "                data.loc[current_data.index[i], 'pnl'] =  (current_data.iloc[i]['e_spread'] - current_spread)*commission_fee\n",
    "                take_position = 0\n",
    "                current_spread = 0\n",
    "        i = i + 1\n",
    "    start_trading_date = end_trading_date"
   ],
   "metadata": {
    "collapsed": false
   }
  },
  {
   "cell_type": "code",
   "execution_count": 52,
   "outputs": [
    {
     "data": {
      "text/plain": "                       spread  signal  e_spread       pnl\n2023-03-03 09:05:00  0.001275    -1.0  1.001276 -0.000300\n2023-03-03 09:10:00  0.000314    -1.0  1.000314  0.000000\n2023-03-03 09:15:00  0.000608    -1.0  1.000608  0.000000\n2023-03-03 09:20:00 -0.001409     NaN  0.998591  0.002384\n2023-03-03 09:25:00 -0.000794     NaN  0.999206  0.000000\n...                       ...     ...       ...       ...\n2023-06-30 13:05:00 -0.004077     NaN  0.995931  0.000000\n2023-06-30 13:10:00 -0.002564     NaN  0.997439  0.000000\n2023-06-30 13:15:00 -0.002856     NaN  0.997148  0.000000\n2023-06-30 13:20:00 -0.002471     NaN  0.997532  0.000000\n2023-06-30 13:25:00 -0.004734     NaN  0.995278  0.000000\n\n[3780 rows x 4 columns]",
      "text/html": "<div>\n<style scoped>\n    .dataframe tbody tr th:only-of-type {\n        vertical-align: middle;\n    }\n\n    .dataframe tbody tr th {\n        vertical-align: top;\n    }\n\n    .dataframe thead th {\n        text-align: right;\n    }\n</style>\n<table border=\"1\" class=\"dataframe\">\n  <thead>\n    <tr style=\"text-align: right;\">\n      <th></th>\n      <th>spread</th>\n      <th>signal</th>\n      <th>e_spread</th>\n      <th>pnl</th>\n    </tr>\n  </thead>\n  <tbody>\n    <tr>\n      <th>2023-03-03 09:05:00</th>\n      <td>0.001275</td>\n      <td>-1.0</td>\n      <td>1.001276</td>\n      <td>-0.000300</td>\n    </tr>\n    <tr>\n      <th>2023-03-03 09:10:00</th>\n      <td>0.000314</td>\n      <td>-1.0</td>\n      <td>1.000314</td>\n      <td>0.000000</td>\n    </tr>\n    <tr>\n      <th>2023-03-03 09:15:00</th>\n      <td>0.000608</td>\n      <td>-1.0</td>\n      <td>1.000608</td>\n      <td>0.000000</td>\n    </tr>\n    <tr>\n      <th>2023-03-03 09:20:00</th>\n      <td>-0.001409</td>\n      <td>NaN</td>\n      <td>0.998591</td>\n      <td>0.002384</td>\n    </tr>\n    <tr>\n      <th>2023-03-03 09:25:00</th>\n      <td>-0.000794</td>\n      <td>NaN</td>\n      <td>0.999206</td>\n      <td>0.000000</td>\n    </tr>\n    <tr>\n      <th>...</th>\n      <td>...</td>\n      <td>...</td>\n      <td>...</td>\n      <td>...</td>\n    </tr>\n    <tr>\n      <th>2023-06-30 13:05:00</th>\n      <td>-0.004077</td>\n      <td>NaN</td>\n      <td>0.995931</td>\n      <td>0.000000</td>\n    </tr>\n    <tr>\n      <th>2023-06-30 13:10:00</th>\n      <td>-0.002564</td>\n      <td>NaN</td>\n      <td>0.997439</td>\n      <td>0.000000</td>\n    </tr>\n    <tr>\n      <th>2023-06-30 13:15:00</th>\n      <td>-0.002856</td>\n      <td>NaN</td>\n      <td>0.997148</td>\n      <td>0.000000</td>\n    </tr>\n    <tr>\n      <th>2023-06-30 13:20:00</th>\n      <td>-0.002471</td>\n      <td>NaN</td>\n      <td>0.997532</td>\n      <td>0.000000</td>\n    </tr>\n    <tr>\n      <th>2023-06-30 13:25:00</th>\n      <td>-0.004734</td>\n      <td>NaN</td>\n      <td>0.995278</td>\n      <td>0.000000</td>\n    </tr>\n  </tbody>\n</table>\n<p>3780 rows × 4 columns</p>\n</div>"
     },
     "execution_count": 52,
     "metadata": {},
     "output_type": "execute_result"
    }
   ],
   "source": [
    "start_trading_date = valid_date_n_days_later(pd.to_datetime('2023-02-01 09:05:00'), data, 20)\n",
    "data[start_trading_date:]"
   ],
   "metadata": {
    "collapsed": false
   }
  },
  {
   "cell_type": "code",
   "execution_count": 53,
   "outputs": [
    {
     "name": "stdout",
     "output_type": "stream",
     "text": [
      "0.5587642135909019\n"
     ]
    },
    {
     "data": {
      "text/plain": "<Figure size 640x480 with 1 Axes>",
      "image/png": "[encoded data removed]"
     },
     "metadata": {},
     "output_type": "display_data"
    }
   ],
   "source": [
    "data['cum_pnl'] = data['pnl'].cumsum()\n",
    "data['cum_pnl'].plot()\n",
    "print(data['cum_pnl'].iloc[-1])"
   ],
   "metadata": {
    "collapsed": false
   }
  },
  {
   "cell_type": "code",
   "execution_count": 54,
   "outputs": [
    {
     "name": "stderr",
     "output_type": "stream",
     "text": [
      "/Users/jeremyg/Documents/GitHub/SummerIndependentProject/step4_model_testing/model_testing.py:101: FutureWarning: The default dtype for empty Series will be 'object' instead of 'float64' in a future version. Specify a dtype explicitly to silence this warning.\n",
      "  y_test_preds = pd.Series()\n"
     ]
    }
   ],
   "source": [
    "path = '/Users/jeremyg/Documents/GitHub/SummerIndependentProject/factors_data/'\n",
    "symbol = 'EHF'\n",
    "data = pd.read_csv(path + '{}_factors.csv'.format(symbol), index_col=0)\n",
    "data.index = pd.to_datetime(data.index)\n",
    "data['delta_1'] = data['spread'].diff().shift(-1)\n",
    "data = data.loc['2022-09-02':]\n",
    "# lists = ['spread', 'RSI', 'MACD', 'MACDhist','EMA_5', 'MA_5']\n",
    "lists = ['spread', 'RSI']\n",
    "data = test_logistic(data, lists, pd.to_datetime('2022-09-02 09:05:00'), 20, 1, symbol, 'RSI')\n",
    "data['e_spread'] = np.exp(data['spread'])\n",
    "data['pnl'] = 0"
   ],
   "metadata": {
    "collapsed": false
   }
  },
  {
   "cell_type": "code",
   "execution_count": 55,
   "outputs": [
    {
     "name": "stdout",
     "output_type": "stream",
     "text": [
      "0.5561427874956287\n"
     ]
    },
    {
     "data": {
      "text/plain": "<Figure size 640x480 with 1 Axes>",
      "image/png": "[encoded data removed]"
     },
     "metadata": {},
     "output_type": "display_data"
    }
   ],
   "source": [
    "start_trading_date = valid_date_n_days_later(pd.to_datetime('2022-10-03 09:05:00'), data, 20)\n",
    "data['pnl'] = 0\n",
    "while start_trading_date < data.index[-1]:\n",
    "    end_trading_date = valid_date_n_days_later(start_trading_date, data, 1)\n",
    "    if not end_trading_date:\n",
    "        break\n",
    "    historical_date = valid_date_n_days_before(start_trading_date, data, 20)\n",
    "\n",
    "    historical_data = data[historical_date:start_trading_date]\n",
    "    sd = np.std(historical_data['spread'], axis=0)\n",
    "    mean = historical_data['spread'].mean()\n",
    "    upper = mean + 1.5 * sd\n",
    "    lower = mean - 1.5 * sd\n",
    "    # calculate e to power of spread\n",
    "    current_data = data[start_trading_date:end_trading_date]\n",
    "    i = 0\n",
    "    take_position = 0\n",
    "    current_spread = 0\n",
    "    commission_fee = 1- 0.0003\n",
    "\n",
    "    while i < current_data.shape[0]:\n",
    "        if take_position == 0:\n",
    "            if current_data.iloc[i]['spread'] > upper:\n",
    "                if current_data.iloc[i]['signal'] != 1:\n",
    "                    current_spread = current_data.iloc[i]['e_spread']\n",
    "                    take_position = 1\n",
    "            elif current_data.iloc[i]['spread'] < lower:\n",
    "                if current_data.iloc[i]['signal'] != -1:\n",
    "                    current_spread = current_data.iloc[i]['e_spread']\n",
    "                    take_position = -1\n",
    "        else:\n",
    "            if take_position == 1:\n",
    "                if current_data.iloc[i]['spread'] < mean:\n",
    "                    data.loc[current_data.index[i], 'pnl'] =  (current_spread - current_data.iloc[i]['e_spread'] )*commission_fee\n",
    "                    take_position = 0\n",
    "                    current_spread = 0\n",
    "\n",
    "            if take_position == -1:\n",
    "                if current_data.iloc[i]['spread'] > mean:\n",
    "                    data.loc[current_data.index[i], 'pnl'] =  (current_data.iloc[i]['e_spread'] - current_spread) *commission_fee\n",
    "                    take_position = 0\n",
    "                    current_spread = 0\n",
    "\n",
    "        if i == current_data.shape[0] - 1:\n",
    "            if take_position == 1:\n",
    "                data.loc[current_data.index[i], 'pnl'] =  (current_spread - current_data.iloc[i]['e_spread'])*commission_fee\n",
    "                take_position = 0\n",
    "                current_spread = 0\n",
    "            if take_position == -1:\n",
    "                data.loc[current_data.index[i], 'pnl'] =  (current_data.iloc[i]['e_spread'] - current_spread)*commission_fee\n",
    "                take_position = 0\n",
    "                current_spread = 0\n",
    "        i = i + 1\n",
    "    start_trading_date = end_trading_date\n",
    "\n",
    "data['cum_pnl'] = data['pnl'].cumsum()\n",
    "data['cum_pnl'].plot()\n",
    "print(data['cum_pnl'].iloc[-1])"
   ],
   "metadata": {
    "collapsed": false
   }
  },
  {
   "cell_type": "code",
   "execution_count": 56,
   "outputs": [],
   "source": [
    "start_trading_date = valid_date_n_days_later(pd.to_datetime('2022-10-03 09:05:00'), data, 20)\n",
    "end = valid_date_n_days_later(start_trading_date, data, 1)\n",
    "a = data[start_trading_date:end]\n",
    "a.to_csv('test.csv')"
   ],
   "metadata": {
    "collapsed": false
   }
  },
  {
   "cell_type": "code",
   "execution_count": 56,
   "outputs": [],
   "source": [],
   "metadata": {
    "collapsed": false
   }
  }
 ],
 "metadata": {
  "kernelspec": {
   "display_name": "Python 3",
   "language": "python",
   "name": "python3"
  },
  "language_info": {
   "codemirror_mode": {
    "name": "ipython",
    "version": 2
   },
   "file_extension": ".py",
   "mimetype": "text/x-python",
   "name": "python",
   "nbconvert_exporter": "python",
   "pygments_lexer": "ipython2",
   "version": "2.7.6"
  }
 },
 "nbformat": 4,
 "nbformat_minor": 0
}
