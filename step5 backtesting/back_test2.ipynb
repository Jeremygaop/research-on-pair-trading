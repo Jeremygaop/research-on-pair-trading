{
 "cells": [
  {
   "cell_type": "code",
   "execution_count": null,
   "metadata": {
    "collapsed": true
   },
   "outputs": [],
   "source": [
    "import pandas as pd\n",
    "import os\n",
    "\n",
    "spread_df = pd.read_csv('/Users/jeremyg/Documents/GitHub/SummerIndependentProject/tickData/spreadData/EHF_spread.csv', index_col=0)\n",
    "# change the column name 0 to spread\n",
    "spread_df.columns = ['spread']\n",
    "spread_df.index = pd.to_datetime(spread_df.index)\n",
    "spread_df"
   ]
  },
  {
   "cell_type": "code",
   "execution_count": null,
   "outputs": [],
   "source": [
    "stockPath = \"../tickData/stocks/1319\"\n",
    "stockFiles = os.listdir(stockPath)\n",
    "futuresPath = \"../tickData/futuresOB/EHF\"\n",
    "futuresFiles = os.listdir(futuresPath)\n",
    "\n",
    "stockData = pd.DataFrame()\n",
    "futuresData =  pd.DataFrame()\n",
    "for file in stockFiles:\n",
    "  stockTick = pd.read_csv(os.path.join(stockPath,file), compression='gzip', index_col=0)\n",
    "  stockTick['timestamp'] = pd.to_datetime(stockTick.date.astype(str) + ' ' + stockTick.time.astype(str), format=\"%Y-%m-%d %H%M%S%f\")\n",
    "  stockData = pd.concat([stockData, stockTick], axis=0, ignore_index=True)\n",
    "# for file in futuresFiles:\n",
    "#   futuresData[file] = os.listdir(futuresPath + '/' + file)\n",
    "# sort by timestamp\n",
    "stockData = stockData.sort_values(by=['timestamp'])\n",
    "# reindex with timestamp\n",
    "stockData = stockData.set_index('timestamp')\n",
    "stockData"
   ],
   "metadata": {
    "collapsed": false
   }
  },
  {
   "cell_type": "code",
   "execution_count": null,
   "outputs": [],
   "source": [
    "for file in futuresFiles:\n",
    "  if file.endswith('.gz'):\n",
    "    futuresTick = pd.read_csv(os.path.join(futuresPath,file), compression='gzip')\n",
    "  else:\n",
    "    futuresTick = pd.read_csv(os.path.join(futuresPath,file))\n",
    "  futuresTick['timestamp'] = pd.to_datetime(futuresTick.date.astype(str) + ' ' + futuresTick.time.astype(str), format=\"%Y-%m-%d %H%M%S%f\")\n",
    "  futuresData = pd.concat([futuresData, futuresTick], axis=0, ignore_index=True)\n",
    "# sort by timestamp\n",
    "futuresData = futuresData.sort_values(by=['timestamp'])\n",
    "# reindex with timestamp\n",
    "futuresData = futuresData.set_index('timestamp')\n",
    "futuresData"
   ],
   "metadata": {
    "collapsed": false
   }
  },
  {
   "cell_type": "code",
   "execution_count": null,
   "outputs": [],
   "source": [
    "dates = list(set(pd.to_datetime(stockData.date)))\n",
    "dates = sorted(dates)"
   ],
   "metadata": {
    "collapsed": false
   }
  },
  {
   "cell_type": "code",
   "execution_count": null,
   "outputs": [],
   "source": [
    "def valid_date_n_days_later(start, dates, n):\n",
    "    i = 1\n",
    "    while i <= n:\n",
    "        start = start + pd.DateOffset(days=1)\n",
    "        if start in dates:\n",
    "            i = i + 1\n",
    "        if start > dates[-1]:\n",
    "            return False\n",
    "    return start\n",
    "\n",
    "def valid_date_n_days_before(start, dates, n):\n",
    "    i = 1\n",
    "    while i <= n:\n",
    "        start = start - pd.DateOffset(days=1)\n",
    "        if start in dates:\n",
    "            i = i + 1\n",
    "        if start < dates[0]:\n",
    "            return False\n",
    "    return start"
   ],
   "metadata": {
    "collapsed": false
   }
  },
  {
   "cell_type": "markdown",
   "source": [
    "## Original Strategy"
   ],
   "metadata": {
    "collapsed": false
   }
  },
  {
   "cell_type": "code",
   "execution_count": null,
   "outputs": [],
   "source": [
    "import numpy as np\n",
    "date = dates[20]\n",
    "# stockDataDate = stockData[stockData.date == date]\n",
    "# futuresDataDate = futuresData[futuresData.date == date]\n",
    "\n",
    "train_date = valid_date_n_days_before(date, dates, 20)\n",
    "end_date = valid_date_n_days_later(date, dates, 1)\n",
    "start_time = date + pd.DateOffset(hours=9)\n",
    "spread_historical_data = spread[train_date:date]\n",
    "spread_signal_data = spread[start_time:end_date]\n",
    "sd = np.std(spread_historical_data['spread'], axis=0)\n",
    "mean = spread_historical_data['spread'].mean()\n",
    "upper = mean + 1.5 * sd\n",
    "lower = mean - 1.5 * sd\n",
    "spread_signal_data['signal'] = np.where(spread_signal_data['spread'] > upper, 1, np.where(spread_signal_data['spread'] < lower, -1, 0))\n",
    "spread_signal_data"
   ],
   "metadata": {
    "collapsed": false
   }
  },
  {
   "cell_type": "code",
   "execution_count": 163,
   "outputs": [
    {
     "name": "stderr",
     "output_type": "stream",
     "text": [
      "  0%|          | 0/30 [00:00<?, ?it/s]/var/folders/7m/3z46bhfd6nb595vppqzckghh0000gn/T/ipykernel_4991/1039864505.py:44: RuntimeWarning: divide by zero encountered in log\n",
      "  spread = np.log(stock_mid_quote) - np.log(future_mid_quote)\n",
      " 40%|████      | 12/30 [01:13<01:14,  4.14s/it]/var/folders/7m/3z46bhfd6nb595vppqzckghh0000gn/T/ipykernel_4991/1039864505.py:44: RuntimeWarning: invalid value encountered in scalar subtract\n",
      "  spread = np.log(stock_mid_quote) - np.log(future_mid_quote)\n",
      "100%|██████████| 30/30 [03:09<00:00,  6.30s/it]"
     ]
    },
    {
     "name": "stdout",
     "output_type": "stream",
     "text": [
      "2020-07-29    14070.0\n",
      "2020-07-30    14965.0\n",
      "2020-07-31      110.0\n",
      "2020-08-03      140.0\n",
      "2020-08-04        0.0\n",
      "2020-08-05       30.0\n",
      "2020-08-06      580.0\n",
      "2020-08-07       80.0\n",
      "2020-08-10      280.0\n",
      "2020-08-11    -7330.0\n",
      "2020-08-12     1640.0\n",
      "2020-08-13      285.0\n",
      "2020-08-14     8620.0\n",
      "2020-08-17      100.0\n",
      "2020-08-18      380.0\n",
      "2020-08-19      490.0\n",
      "2020-08-20     1480.0\n",
      "2020-08-21    14530.0\n",
      "2020-08-24       70.0\n",
      "2020-08-25     1690.0\n",
      "2020-08-26      690.0\n",
      "2020-08-27      440.0\n",
      "2020-08-28    15810.0\n",
      "2020-08-31      180.0\n",
      "2020-09-01    20055.0\n",
      "2020-09-02     1370.0\n",
      "2020-09-04    16760.0\n",
      "2020-09-07    16000.0\n",
      "2020-09-08     5020.0\n",
      "2020-09-09    -3360.0\n",
      "dtype: float64\n"
     ]
    },
    {
     "name": "stderr",
     "output_type": "stream",
     "text": [
      "\n"
     ]
    }
   ],
   "source": [
    "from tqdm import tqdm\n",
    "\n",
    "\n",
    "pnl_daily = {}\n",
    "# stockDataDate = stockData[stockData.date == date]\n",
    "# futuresDataDate = futuresData[futuresData.date == date]\n",
    "for date in tqdm(dates[20:50]):\n",
    "\n",
    "    train_date = valid_date_n_days_before(date, dates, 20)\n",
    "    end_date = valid_date_n_days_later(date, dates, 1)\n",
    "    start_time = date + pd.DateOffset(hours=9)\n",
    "    spread_historical_data = spread_df[train_date:date]\n",
    "    sd = np.std(spread_historical_data['spread'], axis=0)\n",
    "    mean = spread_historical_data['spread'].mean()\n",
    "    upper = mean + 1.5 * sd\n",
    "    lower = mean - 1.5 * sd\n",
    "\n",
    "    stock_trade_data = stockData[start_time:end_date]\n",
    "    future_trade_data = futuresData[start_time:end_date]\n",
    "    # position 1 for long spread, -1 for short spread, 0 for no position\n",
    "    position = 0\n",
    "    # net position in dollar\n",
    "    net_position = 0\n",
    "    # shares of stock\n",
    "    stock_position = 0\n",
    "    # shares of future\n",
    "    future_position = 0\n",
    "    timestamp = start_time + pd.DateOffset(minutes=5)\n",
    "    while timestamp <= stock_trade_data.index[-1]:\n",
    "        # print(timestamp)\n",
    "        if timestamp >= stock_trade_data.index[-1] or timestamp >= future_trade_data.index[-1]:\n",
    "            # print(net_position, stock_position, future_position)\n",
    "            stock_row = stock_trade_data.iloc[-1]\n",
    "            future_row = future_trade_data.iloc[-1]\n",
    "            if position == 1:\n",
    "                net_position = net_position - stock_position * stock_row.SP1 + future_position * future_row.bidPrice1 * 2\n",
    "            if position == -1:\n",
    "                net_position = net_position + stock_position * stock_row.BP1 - future_position * future_row.askPrice1 * 2\n",
    "            break\n",
    "        row = stock_trade_data.loc[stock_trade_data.index >= timestamp].iloc[0]\n",
    "        stock_mid_quote = (row['SP1'] + row['BP1']) / 2\n",
    "        future_last_row = (future_trade_data.loc[future_trade_data.index <= timestamp]).iloc[-1]\n",
    "        future_mid_quote = (future_last_row['askPrice1'] + future_last_row['bidPrice1']) / 2\n",
    "        spread = np.log(stock_mid_quote) - np.log(future_mid_quote)\n",
    "        future_next_row = (future_trade_data.loc[future_trade_data.index > timestamp]).iloc[0]\n",
    "        # print(timestamp)\n",
    "        if stock_position == 0 and future_position == 0:\n",
    "            # print(1)\n",
    "            if spread >= upper:\n",
    "                # print(1.1)\n",
    "                if position >= 0:\n",
    "                    if row['BV1'] >=2:\n",
    "                        position = 1\n",
    "                        stock_position = stock_position - 2\n",
    "                        future_position = future_position + 1\n",
    "                        net_position = net_position - row['BP1'] * 2 + future_next_row['askPrice1'] * 1 * 2\n",
    "                        timestamp = future_next_row.name\n",
    "                        continue\n",
    "                next_row = stock_trade_data.loc[stock_trade_data.index > timestamp].iloc[0]\n",
    "                # print(next_row.name)\n",
    "                timestamp = next_row.name\n",
    "            elif spread <= lower:\n",
    "                # print(1.2)\n",
    "                if position <= 0:\n",
    "                    if row['SV1'] >=2:\n",
    "                        position = -1\n",
    "                        stock_position = stock_position + 2\n",
    "                        future_position = future_position - 1\n",
    "                        net_position = net_position + row['SP1'] * 2 - future_next_row['bidPrice1'] * 1 * 2\n",
    "                        timestamp = future_next_row.name\n",
    "                        continue\n",
    "                next_row = stock_trade_data.loc[stock_trade_data.index > timestamp].iloc[0]\n",
    "                # print(next_row.name)\n",
    "                timestamp = next_row.name\n",
    "            else:\n",
    "                # print(1.3)\n",
    "                next_row = stock_trade_data.loc[stock_trade_data.index > timestamp].iloc[0]\n",
    "                # print(next_row.name)\n",
    "                timestamp = next_row.name\n",
    "        else:\n",
    "            # print(2)\n",
    "            # print(position)\n",
    "            if position == 1:\n",
    "                if spread <=mean:\n",
    "                    while stock_position != 0 or future_position !=0:\n",
    "                        if stock_position != 0:\n",
    "                            remained = min(stock_position + row['SV1'], 0)\n",
    "                            net_position = net_position + row['SP1'] * (remained - stock_position)\n",
    "                            stock_position = remained\n",
    "                        if future_position != 0:\n",
    "                            remained = max(future_position - future_next_row['bidSize1'], 0)\n",
    "                            net_position = net_position - future_next_row['bidPrice1'] * (future_position - remained) * 2\n",
    "                            future_position = remained\n",
    "                        timestamp = future_next_row.name\n",
    "                        if timestamp >= future_trade_data.index[-1] or timestamp >= stock_trade_data.index[-1]:\n",
    "                            break\n",
    "                        row = stock_trade_data.loc[stock_trade_data.index > timestamp].iloc[0]\n",
    "                        timestamp = row.name\n",
    "                        future_next_row = (future_trade_data.loc[future_trade_data.index > timestamp]).iloc[0]\n",
    "                else:\n",
    "                    next_row = stock_trade_data.loc[stock_trade_data.index > timestamp].iloc[0]\n",
    "                    timestamp = next_row.name\n",
    "            elif position == -1:\n",
    "                if spread >=mean:\n",
    "                    while stock_position != 0 or future_position !=0:\n",
    "                        if stock_position != 0:\n",
    "                            remained = max(stock_position - row['BV1'], 0)\n",
    "                            net_position = net_position - row['BP1'] * (stock_position - remained)\n",
    "                            stock_position = remained\n",
    "                        if future_position != 0:\n",
    "                            remained = min(future_position + future_next_row['askSize1'], 0)\n",
    "                            net_position = net_position + future_next_row['askPrice1'] * (remained - future_position) * 2\n",
    "                            future_position = remained\n",
    "                        timestamp = future_next_row.name\n",
    "                        if timestamp >= future_trade_data.index[-1] or timestamp >= stock_trade_data.index[-1]:\n",
    "                            break\n",
    "                        row = stock_trade_data.loc[stock_trade_data.index > timestamp].iloc[0]\n",
    "                        timestamp = row.name\n",
    "                        future_next_row = (future_trade_data.loc[future_trade_data.index > timestamp]).iloc[0]\n",
    "                else:\n",
    "                    next_row = stock_trade_data.loc[stock_trade_data.index > timestamp].iloc[0]\n",
    "                    timestamp = next_row.name\n",
    "            else:\n",
    "                next_row = stock_trade_data.loc[stock_trade_data.index > timestamp].iloc[0]\n",
    "                timestamp = next_row.name\n",
    "    pnl_daily[date] = net_position\n",
    "\n",
    "# plot pnl\n",
    "pnl = pd.Series(pnl_daily)\n",
    "print(pnl)"
   ],
   "metadata": {
    "collapsed": false
   }
  },
  {
   "cell_type": "code",
   "execution_count": 164,
   "outputs": [
    {
     "data": {
      "text/plain": "<Axes: >"
     },
     "execution_count": 164,
     "metadata": {},
     "output_type": "execute_result"
    },
    {
     "data": {
      "text/plain": "<Figure size 640x480 with 1 Axes>",
      "image/png": "[encoded data removed]"
     },
     "metadata": {},
     "output_type": "display_data"
    }
   ],
   "source": [
    "# calculate cumulative pnl\n",
    "cum_pnl = pnl.cumsum()\n",
    "cum_pnl.plot()"
   ],
   "metadata": {
    "collapsed": false
   }
  },
  {
   "cell_type": "code",
   "execution_count": null,
   "outputs": [],
   "source": [
    "print(train_date, date)\n",
    "# locate the spread\n",
    "spread.loc[train_date:date, :]"
   ],
   "metadata": {
    "collapsed": false
   }
  },
  {
   "cell_type": "code",
   "execution_count": null,
   "outputs": [],
   "source": [],
   "metadata": {
    "collapsed": false
   }
  }
 ],
 "metadata": {
  "kernelspec": {
   "display_name": "Python 3",
   "language": "python",
   "name": "python3"
  },
  "language_info": {
   "codemirror_mode": {
    "name": "ipython",
    "version": 2
   },
   "file_extension": ".py",
   "mimetype": "text/x-python",
   "name": "python",
   "nbconvert_exporter": "python",
   "pygments_lexer": "ipython2",
   "version": "2.7.6"
  }
 },
 "nbformat": 4,
 "nbformat_minor": 0
}
