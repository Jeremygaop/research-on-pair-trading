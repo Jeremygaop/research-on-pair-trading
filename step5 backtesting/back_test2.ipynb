{
 "cells": [
  {
   "cell_type": "code",
   "execution_count": 2,
   "metadata": {
    "collapsed": true,
    "ExecuteTime": {
     "end_time": "2023-08-27T11:34:36.325417Z",
     "start_time": "2023-08-27T11:34:36.280298Z"
    }
   },
   "outputs": [
    {
     "data": {
      "text/plain": "                       spread\nTimeStamp                    \n2020-07-01 09:05:00  0.004542\n2020-07-01 09:10:00  0.007174\n2020-07-01 09:15:00  0.008628\n2020-07-01 09:20:00  0.009386\n2020-07-01 09:25:00  0.004433\n...                       ...\n2023-06-30 13:05:00 -0.004077\n2023-06-30 13:10:00 -0.002564\n2023-06-30 13:15:00 -0.002856\n2023-06-30 13:20:00 -0.002471\n2023-06-30 13:25:00 -0.004734\n\n[36354 rows x 1 columns]",
      "text/html": "<div>\n<style scoped>\n    .dataframe tbody tr th:only-of-type {\n        vertical-align: middle;\n    }\n\n    .dataframe tbody tr th {\n        vertical-align: top;\n    }\n\n    .dataframe thead th {\n        text-align: right;\n    }\n</style>\n<table border=\"1\" class=\"dataframe\">\n  <thead>\n    <tr style=\"text-align: right;\">\n      <th></th>\n      <th>spread</th>\n    </tr>\n    <tr>\n      <th>TimeStamp</th>\n      <th></th>\n    </tr>\n  </thead>\n  <tbody>\n    <tr>\n      <th>2020-07-01 09:05:00</th>\n      <td>0.004542</td>\n    </tr>\n    <tr>\n      <th>2020-07-01 09:10:00</th>\n      <td>0.007174</td>\n    </tr>\n    <tr>\n      <th>2020-07-01 09:15:00</th>\n      <td>0.008628</td>\n    </tr>\n    <tr>\n      <th>2020-07-01 09:20:00</th>\n      <td>0.009386</td>\n    </tr>\n    <tr>\n      <th>2020-07-01 09:25:00</th>\n      <td>0.004433</td>\n    </tr>\n    <tr>\n      <th>...</th>\n      <td>...</td>\n    </tr>\n    <tr>\n      <th>2023-06-30 13:05:00</th>\n      <td>-0.004077</td>\n    </tr>\n    <tr>\n      <th>2023-06-30 13:10:00</th>\n      <td>-0.002564</td>\n    </tr>\n    <tr>\n      <th>2023-06-30 13:15:00</th>\n      <td>-0.002856</td>\n    </tr>\n    <tr>\n      <th>2023-06-30 13:20:00</th>\n      <td>-0.002471</td>\n    </tr>\n    <tr>\n      <th>2023-06-30 13:25:00</th>\n      <td>-0.004734</td>\n    </tr>\n  </tbody>\n</table>\n<p>36354 rows × 1 columns</p>\n</div>"
     },
     "execution_count": 2,
     "metadata": {},
     "output_type": "execute_result"
    }
   ],
   "source": [
    "import pandas as pd\n",
    "import os\n",
    "\n",
    "spread_df = pd.read_csv('/Users/jeremy_gp/Documents/GitHub/SummerIndependentProject/tickData/spreadData/EHF_spread.csv', index_col=0)\n",
    "# change the column name 0 to spread\n",
    "spread_df.columns = ['spread']\n",
    "spread_df.index = pd.to_datetime(spread_df.index)\n",
    "spread_df"
   ]
  },
  {
   "cell_type": "code",
   "execution_count": 18,
   "outputs": [
    {
     "data": {
      "text/plain": "                             SP1          BP1  midQuote_log     midQuote  \\\nTimeStamp                                                                  \n2020-07-01 09:05:00  3685.753425  3673.424658      8.210555  3679.589041   \n2020-07-01 09:10:00  3690.208333  3682.500000      8.212392  3686.354167   \n2020-07-01 09:15:00  3696.641791  3686.791045      8.213847  3691.716418   \n2020-07-01 09:20:00  3697.777778  3691.250000      8.214604  3694.513889   \n2020-07-01 09:25:00  3695.769231  3690.576923      8.214241  3693.173077   \n...                          ...          ...           ...          ...   \n2023-06-30 13:05:00  5260.000000  5250.000000      8.566935  5255.000000   \n2023-06-30 13:10:00  5252.957746  5242.957746      8.565594  5247.957746   \n2023-06-30 13:15:00  5250.000000  5240.000000      8.565031  5245.000000   \n2023-06-30 13:20:00  5256.040268  5244.228188      8.566009  5250.134228   \n2023-06-30 13:25:00  5253.734177  5240.379747      8.565422  5247.056962   \n\n                          volume  Stock_Ask_Bid_Price_Depth_Ratio  \\\nTimeStamp                                                           \n2020-07-01 09:05:00    18.863014                         1.055936   \n2020-07-01 09:10:00    40.041667                         0.984028   \n2020-07-01 09:15:00    80.447761                         1.026119   \n2020-07-01 09:20:00    97.916667                         1.000000   \n2020-07-01 09:25:00   112.038462                         1.000000   \n...                          ...                              ...   \n2023-06-30 13:05:00  1530.253521                         1.000000   \n2023-06-30 13:10:00  1599.563380                         1.000000   \n2023-06-30 13:15:00  1667.230769                         1.000000   \n2023-06-30 13:20:00  1794.543624                         1.000000   \n2023-06-30 13:25:00  1904.955696                         1.000000   \n\n                     Stock_Ask_Bid_Total_Volume_Ratio  \nTimeStamp                                              \n2020-07-01 09:05:00                          0.550059  \n2020-07-01 09:10:00                          0.857425  \n2020-07-01 09:15:00                          1.015487  \n2020-07-01 09:20:00                          1.003486  \n2020-07-01 09:25:00                          1.596630  \n...                                               ...  \n2023-06-30 13:05:00                          1.020778  \n2023-06-30 13:10:00                          0.908434  \n2023-06-30 13:15:00                          0.843968  \n2023-06-30 13:20:00                          0.974306  \n2023-06-30 13:25:00                          0.838622  \n\n[38507 rows x 7 columns]",
      "text/html": "<div>\n<style scoped>\n    .dataframe tbody tr th:only-of-type {\n        vertical-align: middle;\n    }\n\n    .dataframe tbody tr th {\n        vertical-align: top;\n    }\n\n    .dataframe thead th {\n        text-align: right;\n    }\n</style>\n<table border=\"1\" class=\"dataframe\">\n  <thead>\n    <tr style=\"text-align: right;\">\n      <th></th>\n      <th>SP1</th>\n      <th>BP1</th>\n      <th>midQuote_log</th>\n      <th>midQuote</th>\n      <th>volume</th>\n      <th>Stock_Ask_Bid_Price_Depth_Ratio</th>\n      <th>Stock_Ask_Bid_Total_Volume_Ratio</th>\n    </tr>\n    <tr>\n      <th>TimeStamp</th>\n      <th></th>\n      <th></th>\n      <th></th>\n      <th></th>\n      <th></th>\n      <th></th>\n      <th></th>\n    </tr>\n  </thead>\n  <tbody>\n    <tr>\n      <th>2020-07-01 09:05:00</th>\n      <td>3685.753425</td>\n      <td>3673.424658</td>\n      <td>8.210555</td>\n      <td>3679.589041</td>\n      <td>18.863014</td>\n      <td>1.055936</td>\n      <td>0.550059</td>\n    </tr>\n    <tr>\n      <th>2020-07-01 09:10:00</th>\n      <td>3690.208333</td>\n      <td>3682.500000</td>\n      <td>8.212392</td>\n      <td>3686.354167</td>\n      <td>40.041667</td>\n      <td>0.984028</td>\n      <td>0.857425</td>\n    </tr>\n    <tr>\n      <th>2020-07-01 09:15:00</th>\n      <td>3696.641791</td>\n      <td>3686.791045</td>\n      <td>8.213847</td>\n      <td>3691.716418</td>\n      <td>80.447761</td>\n      <td>1.026119</td>\n      <td>1.015487</td>\n    </tr>\n    <tr>\n      <th>2020-07-01 09:20:00</th>\n      <td>3697.777778</td>\n      <td>3691.250000</td>\n      <td>8.214604</td>\n      <td>3694.513889</td>\n      <td>97.916667</td>\n      <td>1.000000</td>\n      <td>1.003486</td>\n    </tr>\n    <tr>\n      <th>2020-07-01 09:25:00</th>\n      <td>3695.769231</td>\n      <td>3690.576923</td>\n      <td>8.214241</td>\n      <td>3693.173077</td>\n      <td>112.038462</td>\n      <td>1.000000</td>\n      <td>1.596630</td>\n    </tr>\n    <tr>\n      <th>...</th>\n      <td>...</td>\n      <td>...</td>\n      <td>...</td>\n      <td>...</td>\n      <td>...</td>\n      <td>...</td>\n      <td>...</td>\n    </tr>\n    <tr>\n      <th>2023-06-30 13:05:00</th>\n      <td>5260.000000</td>\n      <td>5250.000000</td>\n      <td>8.566935</td>\n      <td>5255.000000</td>\n      <td>1530.253521</td>\n      <td>1.000000</td>\n      <td>1.020778</td>\n    </tr>\n    <tr>\n      <th>2023-06-30 13:10:00</th>\n      <td>5252.957746</td>\n      <td>5242.957746</td>\n      <td>8.565594</td>\n      <td>5247.957746</td>\n      <td>1599.563380</td>\n      <td>1.000000</td>\n      <td>0.908434</td>\n    </tr>\n    <tr>\n      <th>2023-06-30 13:15:00</th>\n      <td>5250.000000</td>\n      <td>5240.000000</td>\n      <td>8.565031</td>\n      <td>5245.000000</td>\n      <td>1667.230769</td>\n      <td>1.000000</td>\n      <td>0.843968</td>\n    </tr>\n    <tr>\n      <th>2023-06-30 13:20:00</th>\n      <td>5256.040268</td>\n      <td>5244.228188</td>\n      <td>8.566009</td>\n      <td>5250.134228</td>\n      <td>1794.543624</td>\n      <td>1.000000</td>\n      <td>0.974306</td>\n    </tr>\n    <tr>\n      <th>2023-06-30 13:25:00</th>\n      <td>5253.734177</td>\n      <td>5240.379747</td>\n      <td>8.565422</td>\n      <td>5247.056962</td>\n      <td>1904.955696</td>\n      <td>1.000000</td>\n      <td>0.838622</td>\n    </tr>\n  </tbody>\n</table>\n<p>38507 rows × 7 columns</p>\n</div>"
     },
     "execution_count": 18,
     "metadata": {},
     "output_type": "execute_result"
    }
   ],
   "source": [
    "stockPath = \"../tickData/midQuoteData/stock/1319_mid_quote.csv\"\n",
    "# stockFiles = os.listdir(stockPath)\n",
    "futuresPath = \"../tickData/midQuoteData/futures/EHF_mid_quote.csv\"\n",
    "# futuresFiles = os.listdir(futuresPath)\n",
    "\n",
    "# stockData = pd.DataFrame()\n",
    "# futuresData =  pd.DataFrame()\n",
    "# for file in stockFiles:\n",
    "#   stockTick = pd.read_csv(os.path.join(stockPath,file), compression='gzip', index_col=0)\n",
    "#   stockTick['timestamp'] = pd.to_datetime(stockTick.date.astype(str) + ' ' + stockTick.time.astype(str), format=\"%Y-%m-%d %H%M%S%f\")\n",
    "#   stockData = pd.concat([stockData, stockTick], axis=0, ignore_index=True)\n",
    "# for file in futuresFiles:\n",
    "#   futuresData[file] = os.listdir(futuresPath + '/' + file)\n",
    "# sort by timestamp\n",
    "stockData = pd.read_csv(stockPath, index_col=0)\n",
    "stockData.index = pd.to_datetime(stockData.index)\n",
    "# stockData = stockData.sort_values(by=['timestamp'])\n",
    "# # reindex with timestamp\n",
    "# stockData = stockData.set_index('timestamp')\n",
    "stockData"
   ],
   "metadata": {
    "collapsed": false,
    "ExecuteTime": {
     "end_time": "2023-08-27T11:56:46.622826Z",
     "start_time": "2023-08-27T11:56:46.558571Z"
    }
   }
  },
  {
   "cell_type": "code",
   "execution_count": 19,
   "outputs": [
    {
     "data": {
      "text/plain": "                       askPrice1    bidPrice1  midQuote_log  \\\nTimeStamp                                                     \n2020-07-01 08:50:00  3715.000000  3493.000000      8.189780   \n2020-07-01 08:55:00  3715.000000  3505.000000      8.191463   \n2020-07-01 09:00:00  3715.000000  3559.285714      8.198933   \n2020-07-01 09:05:00  3711.388889  3614.444444      8.206013   \n2020-07-01 09:10:00  3705.000000  3615.000000      8.205218   \n...                          ...          ...           ...   \n2023-06-30 13:25:00  5283.906250  5260.000000      8.570156   \n2023-06-30 13:30:00  5290.000000  5260.000000      8.570734   \n2023-06-30 13:35:00  5304.285714  5270.000000      8.573033   \n2023-06-30 13:40:00  5300.000000  5270.000000      8.572628   \n2023-06-30 13:45:00  5300.000000  5270.000000      8.572628   \n\n                     Futures_Ask_Bid_Price_Depth_Ratio  \\\nTimeStamp                                                \n2020-07-01 08:50:00                          -1.063740   \n2020-07-01 08:55:00                          -1.059914   \n2020-07-01 09:00:00                          -1.043932   \n2020-07-01 09:05:00                          -0.276172   \n2020-07-01 09:10:00                           0.009682   \n...                                                ...   \n2023-06-30 13:25:00                           1.546875   \n2023-06-30 13:30:00                           2.250000   \n2023-06-30 13:35:00                           2.250000   \n2023-06-30 13:40:00                           2.250000   \n2023-06-30 13:45:00                           1.860577   \n\n                     Futures_Ask_Bid_Total_Volume_Ratio  \nTimeStamp                                                \n2020-07-01 08:50:00                            3.022222  \n2020-07-01 08:55:00                            2.666667  \n2020-07-01 09:00:00                            2.380952  \n2020-07-01 09:05:00                            1.746296  \n2020-07-01 09:10:00                            1.297619  \n...                                                 ...  \n2023-06-30 13:25:00                            0.853960  \n2023-06-30 13:30:00                            0.907273  \n2023-06-30 13:35:00                            0.964286  \n2023-06-30 13:40:00                            1.577778  \n2023-06-30 13:45:00                            1.218750  \n\n[39988 rows x 5 columns]",
      "text/html": "<div>\n<style scoped>\n    .dataframe tbody tr th:only-of-type {\n        vertical-align: middle;\n    }\n\n    .dataframe tbody tr th {\n        vertical-align: top;\n    }\n\n    .dataframe thead th {\n        text-align: right;\n    }\n</style>\n<table border=\"1\" class=\"dataframe\">\n  <thead>\n    <tr style=\"text-align: right;\">\n      <th></th>\n      <th>askPrice1</th>\n      <th>bidPrice1</th>\n      <th>midQuote_log</th>\n      <th>Futures_Ask_Bid_Price_Depth_Ratio</th>\n      <th>Futures_Ask_Bid_Total_Volume_Ratio</th>\n    </tr>\n    <tr>\n      <th>TimeStamp</th>\n      <th></th>\n      <th></th>\n      <th></th>\n      <th></th>\n      <th></th>\n    </tr>\n  </thead>\n  <tbody>\n    <tr>\n      <th>2020-07-01 08:50:00</th>\n      <td>3715.000000</td>\n      <td>3493.000000</td>\n      <td>8.189780</td>\n      <td>-1.063740</td>\n      <td>3.022222</td>\n    </tr>\n    <tr>\n      <th>2020-07-01 08:55:00</th>\n      <td>3715.000000</td>\n      <td>3505.000000</td>\n      <td>8.191463</td>\n      <td>-1.059914</td>\n      <td>2.666667</td>\n    </tr>\n    <tr>\n      <th>2020-07-01 09:00:00</th>\n      <td>3715.000000</td>\n      <td>3559.285714</td>\n      <td>8.198933</td>\n      <td>-1.043932</td>\n      <td>2.380952</td>\n    </tr>\n    <tr>\n      <th>2020-07-01 09:05:00</th>\n      <td>3711.388889</td>\n      <td>3614.444444</td>\n      <td>8.206013</td>\n      <td>-0.276172</td>\n      <td>1.746296</td>\n    </tr>\n    <tr>\n      <th>2020-07-01 09:10:00</th>\n      <td>3705.000000</td>\n      <td>3615.000000</td>\n      <td>8.205218</td>\n      <td>0.009682</td>\n      <td>1.297619</td>\n    </tr>\n    <tr>\n      <th>...</th>\n      <td>...</td>\n      <td>...</td>\n      <td>...</td>\n      <td>...</td>\n      <td>...</td>\n    </tr>\n    <tr>\n      <th>2023-06-30 13:25:00</th>\n      <td>5283.906250</td>\n      <td>5260.000000</td>\n      <td>8.570156</td>\n      <td>1.546875</td>\n      <td>0.853960</td>\n    </tr>\n    <tr>\n      <th>2023-06-30 13:30:00</th>\n      <td>5290.000000</td>\n      <td>5260.000000</td>\n      <td>8.570734</td>\n      <td>2.250000</td>\n      <td>0.907273</td>\n    </tr>\n    <tr>\n      <th>2023-06-30 13:35:00</th>\n      <td>5304.285714</td>\n      <td>5270.000000</td>\n      <td>8.573033</td>\n      <td>2.250000</td>\n      <td>0.964286</td>\n    </tr>\n    <tr>\n      <th>2023-06-30 13:40:00</th>\n      <td>5300.000000</td>\n      <td>5270.000000</td>\n      <td>8.572628</td>\n      <td>2.250000</td>\n      <td>1.577778</td>\n    </tr>\n    <tr>\n      <th>2023-06-30 13:45:00</th>\n      <td>5300.000000</td>\n      <td>5270.000000</td>\n      <td>8.572628</td>\n      <td>1.860577</td>\n      <td>1.218750</td>\n    </tr>\n  </tbody>\n</table>\n<p>39988 rows × 5 columns</p>\n</div>"
     },
     "execution_count": 19,
     "metadata": {},
     "output_type": "execute_result"
    }
   ],
   "source": [
    "# for file in futuresFiles:\n",
    "#   if file.endswith('.gz'):\n",
    "#     futuresTick = pd.read_csv(os.path.join(futuresPath,file), compression='gzip')\n",
    "#   else:\n",
    "#     futuresTick = pd.read_csv(os.path.join(futuresPath,file))\n",
    "#   futuresTick['timestamp'] = pd.to_datetime(futuresTick.date.astype(str) + ' ' + futuresTick.time.astype(str), format=\"%Y-%m-%d %H%M%S%f\")\n",
    "#   futuresData = pd.concat([futuresData, futuresTick], axis=0, ignore_index=True)\n",
    "# # sort by timestamp\n",
    "# futuresData = futuresData.sort_values(by=['timestamp'])\n",
    "# # reindex with timestamp\n",
    "# futuresData = futuresData.set_index('timestamp')\n",
    "futuresData = pd.read_csv(futuresPath, index_col=0)\n",
    "futuresData.index = pd.to_datetime(futuresData.index)\n",
    "futuresData"
   ],
   "metadata": {
    "collapsed": false,
    "ExecuteTime": {
     "end_time": "2023-08-27T11:56:52.161067Z",
     "start_time": "2023-08-27T11:56:52.114259Z"
    }
   }
  },
  {
   "cell_type": "code",
   "execution_count": 15,
   "outputs": [],
   "source": [
    "# get the dates of index of stockData\n",
    "stockData['date'] = stockData.index\n",
    "stockData['date'] = stockData['date'].apply(lambda x: x[:10])\n",
    "dates = list(set(pd.to_datetime(stockData.date)))\n",
    "dates = sorted(dates)"
   ],
   "metadata": {
    "collapsed": false,
    "ExecuteTime": {
     "end_time": "2023-08-27T11:42:20.380154Z",
     "start_time": "2023-08-27T11:42:20.290337Z"
    }
   }
  },
  {
   "cell_type": "code",
   "execution_count": 28,
   "outputs": [],
   "source": [
    "def valid_date_n_days_later2(start, dates, n):\n",
    "    i = 1\n",
    "    while i <= n:\n",
    "        start = start + pd.DateOffset(days=1)\n",
    "        if start in dates:\n",
    "            i = i + 1\n",
    "        if start > dates[-1]:\n",
    "            return False\n",
    "    return start\n",
    "\n",
    "def valid_date_n_days_before2(start, dates, n):\n",
    "    i = 1\n",
    "    while i <= n:\n",
    "        start = start - pd.DateOffset(days=1)\n",
    "        if start in dates:\n",
    "            i = i + 1\n",
    "        if start < dates[0]:\n",
    "            return False\n",
    "    return start"
   ],
   "metadata": {
    "collapsed": false,
    "ExecuteTime": {
     "end_time": "2023-08-27T12:17:45.594201Z",
     "start_time": "2023-08-27T12:17:45.591686Z"
    }
   }
  },
  {
   "cell_type": "markdown",
   "source": [
    "## Original Strategy"
   ],
   "metadata": {
    "collapsed": false
   }
  },
  {
   "cell_type": "code",
   "execution_count": 41,
   "outputs": [
    {
     "name": "stderr",
     "output_type": "stream",
     "text": [
      "100%|██████████| 687/687 [00:15<00:00, 44.17it/s]"
     ]
    },
    {
     "name": "stdout",
     "output_type": "stream",
     "text": [
      "2020-07-29    14099.060126\n",
      "2020-07-30      262.546564\n",
      "2020-07-31      159.934343\n",
      "2020-08-03    13876.428571\n",
      "2020-08-04        0.000000\n",
      "                  ...     \n",
      "2023-05-23    20045.922468\n",
      "2023-05-24        0.000000\n",
      "2023-05-25    19977.114900\n",
      "2023-05-26       93.645974\n",
      "2023-05-29       29.583333\n",
      "Length: 687, dtype: float64\n"
     ]
    },
    {
     "name": "stderr",
     "output_type": "stream",
     "text": [
      "\n"
     ]
    }
   ],
   "source": [
    "from tqdm import tqdm\n",
    "import numpy as np\n",
    "\n",
    "pnl_daily = {}\n",
    "# stockDataDate = stockData[stockData.date == date]\n",
    "# futuresDataDate = futuresData[futuresData.date == date]\n",
    "for date in tqdm(dates[20:707]):\n",
    "\n",
    "    train_date = valid_date_n_days_before2(date, dates, 20)\n",
    "    end_date = valid_date_n_days_later2(date, dates, 1)\n",
    "    start_time = date + pd.DateOffset(hours=9)\n",
    "    spread_historical_data = spread_df[train_date:date]\n",
    "    sd = np.std(spread_historical_data['spread'], axis=0)\n",
    "    mean = spread_historical_data['spread'].mean()\n",
    "    upper = mean + 1.5 * sd\n",
    "    lower = mean - 1.5 * sd\n",
    "\n",
    "    stock_trade_data = stockData[start_time:end_date]\n",
    "    future_trade_data = futuresData[start_time:end_date]\n",
    "    # position 1 for long spread, -1 for short spread, 0 for no position\n",
    "    position = 0\n",
    "    # net position in dollar\n",
    "    net_position = 0\n",
    "    # shares of stock\n",
    "    stock_position = 0\n",
    "    # shares of future\n",
    "    future_position = 0\n",
    "    timestamp = start_time + pd.DateOffset(minutes=5)\n",
    "    while timestamp <= stock_trade_data.index[-1]:\n",
    "        # print(timestamp)\n",
    "        if timestamp >= stock_trade_data.index[-1] or timestamp >= future_trade_data.index[-1]:\n",
    "            # print(net_position, stock_position, future_position)\n",
    "            stock_row = stock_trade_data.iloc[-1]\n",
    "            future_row = future_trade_data.iloc[-1]\n",
    "            if position == 1:\n",
    "                net_position = net_position - stock_position * stock_row.SP1 + future_position * future_row.bidPrice1 * 2\n",
    "            if position == -1:\n",
    "                net_position = net_position + stock_position * stock_row.BP1 - future_position * future_row.askPrice1 * 2\n",
    "            break\n",
    "        row = stock_trade_data.loc[stock_trade_data.index >= timestamp].iloc[0]\n",
    "        stock_mid_quote = (row['SP1'] + row['BP1']) / 2\n",
    "\n",
    "        future_next_row = (future_trade_data.loc[future_trade_data.index > timestamp]).iloc[0]\n",
    "        try:\n",
    "            future_last_row = (future_trade_data.loc[future_trade_data.index <= timestamp]).iloc[-1]\n",
    "            future_mid_quote = (future_last_row['askPrice1'] + future_last_row['bidPrice1']) / 2\n",
    "            spread = np.log(stock_mid_quote) - np.log(future_mid_quote)\n",
    "        except:\n",
    "            timestamp = future_next_row.name\n",
    "            continue\n",
    "        # print(timestamp)\n",
    "        if stock_position == 0 and future_position == 0:\n",
    "            # print(1)\n",
    "            if spread >= upper:\n",
    "                # print(1.1)\n",
    "                if position == 0:\n",
    "                    position = 1\n",
    "                    stock_position = stock_position - 2\n",
    "                    future_position = future_position + 1\n",
    "                    net_position = net_position - row['BP1'] * 2 + future_last_row['askPrice1'] * 1 * 2\n",
    "                    timestamp = future_next_row.name\n",
    "                    continue\n",
    "                next_row = stock_trade_data.loc[stock_trade_data.index > timestamp].iloc[0]\n",
    "                # print(next_row.name)\n",
    "                timestamp = next_row.name\n",
    "            elif spread <= lower:\n",
    "                # print(1.2)\n",
    "                if position == 0:\n",
    "                    position = -1\n",
    "                    stock_position = stock_position + 2\n",
    "                    future_position = future_position - 1\n",
    "                    net_position = net_position + row['SP1'] * 2 - future_last_row['bidPrice1'] * 1 * 2\n",
    "                    timestamp = future_next_row.name\n",
    "                    continue\n",
    "                next_row = stock_trade_data.loc[stock_trade_data.index > timestamp].iloc[0]\n",
    "                # print(next_row.name)\n",
    "                timestamp = next_row.name\n",
    "            else:\n",
    "                # print(1.3)\n",
    "                next_row = stock_trade_data.loc[stock_trade_data.index > timestamp].iloc[0]\n",
    "                # print(next_row.name)\n",
    "                timestamp = next_row.name\n",
    "        else:\n",
    "            # print(2)\n",
    "            # print(position)\n",
    "            if position == 1:\n",
    "                if spread <=mean:\n",
    "                    net_position = net_position + row['SP1'] * (0 - stock_position)\n",
    "                    net_position = net_position - future_next_row['bidPrice1'] * future_position * 2\n",
    "                    stock_position = 0\n",
    "                    future_position = 0\n",
    "                    timestamp = future_next_row.name\n",
    "                    if timestamp >= future_trade_data.index[-1] or timestamp >= stock_trade_data.index[-1]:\n",
    "                        break\n",
    "                    row = stock_trade_data.loc[stock_trade_data.index > timestamp].iloc[0]\n",
    "                    timestamp = row.name\n",
    "                    future_next_row = (future_trade_data.loc[future_trade_data.index > timestamp]).iloc[0]\n",
    "                    position = 0\n",
    "                else:\n",
    "                    next_row = stock_trade_data.loc[stock_trade_data.index > timestamp].iloc[0]\n",
    "                    timestamp = next_row.name\n",
    "            elif position == -1:\n",
    "                if spread >=mean:\n",
    "                    net_position = net_position - row['BP1'] * stock_position\n",
    "                    net_position = net_position + future_next_row['askPrice1'] * (0 - future_position) * 2\n",
    "                    stock_position = 0\n",
    "                    future_position = 0\n",
    "                    timestamp = future_next_row.name\n",
    "                    if timestamp >= future_trade_data.index[-1] or timestamp >= stock_trade_data.index[-1]:\n",
    "                        break\n",
    "                    row = stock_trade_data.loc[stock_trade_data.index > timestamp].iloc[0]\n",
    "                    timestamp = row.name\n",
    "                    future_next_row = (future_trade_data.loc[future_trade_data.index > timestamp]).iloc[0]\n",
    "                    position = 0\n",
    "                else:\n",
    "                    next_row = stock_trade_data.loc[stock_trade_data.index > timestamp].iloc[0]\n",
    "                    timestamp = next_row.name\n",
    "            else:\n",
    "                next_row = stock_trade_data.loc[stock_trade_data.index > timestamp].iloc[0]\n",
    "                timestamp = next_row.name\n",
    "    pnl_daily[date] = net_position\n",
    "\n",
    "# plot pnl\n",
    "pnl = pd.Series(pnl_daily)\n",
    "print(pnl)"
   ],
   "metadata": {
    "collapsed": false,
    "ExecuteTime": {
     "end_time": "2023-08-27T12:30:15.522150Z",
     "start_time": "2023-08-27T12:29:59.964187Z"
    }
   }
  },
  {
   "cell_type": "code",
   "execution_count": 54,
   "outputs": [
    {
     "name": "stdout",
     "output_type": "stream",
     "text": [
      "10.964262563945674\n"
     ]
    },
    {
     "data": {
      "text/plain": "<Figure size 640x480 with 1 Axes>",
      "image/png": "[encoded data removed]"
     },
     "metadata": {},
     "output_type": "display_data"
    }
   ],
   "source": [
    "# calculate cumulative pnl\n",
    "cum_pnl = pnl.cumsum()\n",
    "cum_pnl.plot()\n",
    "# calculate sharpe ratio\n",
    "sharpe_ratio = (pnl.mean() / pnl.std()) * np.sqrt(252)\n",
    "print(sharpe_ratio)"
   ],
   "metadata": {
    "collapsed": false,
    "ExecuteTime": {
     "end_time": "2023-08-27T13:16:18.285194Z",
     "start_time": "2023-08-27T13:16:18.152239Z"
    }
   }
  },
  {
   "cell_type": "code",
   "execution_count": 58,
   "outputs": [
    {
     "name": "stderr",
     "output_type": "stream",
     "text": [
      "/Users/jeremy_gp/Documents/GitHub/SummerIndependentProject/step4_model_testing/model_testing.py:101: FutureWarning: The default dtype for empty Series will be 'object' instead of 'float64' in a future version. Specify a dtype explicitly to silence this warning.\n",
      "  y_test_preds = pd.Series()\n"
     ]
    },
    {
     "name": "stdout",
     "output_type": "stream",
     "text": [
      "2020-10-06 09:05:00   -1\n",
      "2020-10-06 09:10:00   -1\n",
      "2020-10-06 09:15:00   -1\n",
      "2020-10-06 09:20:00   -1\n",
      "2020-10-06 09:25:00   -1\n",
      "                      ..\n",
      "2023-06-29 12:35:00   -1\n",
      "2023-06-29 12:45:00    1\n",
      "2023-06-29 12:55:00   -1\n",
      "2023-06-29 13:05:00   -1\n",
      "2023-06-29 13:25:00    1\n",
      "Length: 12415, dtype: int64\n"
     ]
    },
    {
     "data": {
      "text/plain": "                       spread  signal\n2020-09-02 09:05:00  0.037174     NaN\n2020-09-02 09:10:00  0.034141     NaN\n2020-09-02 09:15:00  0.032345     NaN\n2020-09-02 09:20:00  0.010758     NaN\n2020-09-02 09:25:00 -0.002053     NaN\n...                       ...     ...\n2023-06-30 13:05:00 -0.004077     NaN\n2023-06-30 13:10:00 -0.002564     NaN\n2023-06-30 13:15:00 -0.002856     NaN\n2023-06-30 13:20:00 -0.002471     NaN\n2023-06-30 13:25:00 -0.004734     NaN\n\n[31451 rows x 2 columns]",
      "text/html": "<div>\n<style scoped>\n    .dataframe tbody tr th:only-of-type {\n        vertical-align: middle;\n    }\n\n    .dataframe tbody tr th {\n        vertical-align: top;\n    }\n\n    .dataframe thead th {\n        text-align: right;\n    }\n</style>\n<table border=\"1\" class=\"dataframe\">\n  <thead>\n    <tr style=\"text-align: right;\">\n      <th></th>\n      <th>spread</th>\n      <th>signal</th>\n    </tr>\n  </thead>\n  <tbody>\n    <tr>\n      <th>2020-09-02 09:05:00</th>\n      <td>0.037174</td>\n      <td>NaN</td>\n    </tr>\n    <tr>\n      <th>2020-09-02 09:10:00</th>\n      <td>0.034141</td>\n      <td>NaN</td>\n    </tr>\n    <tr>\n      <th>2020-09-02 09:15:00</th>\n      <td>0.032345</td>\n      <td>NaN</td>\n    </tr>\n    <tr>\n      <th>2020-09-02 09:20:00</th>\n      <td>0.010758</td>\n      <td>NaN</td>\n    </tr>\n    <tr>\n      <th>2020-09-02 09:25:00</th>\n      <td>-0.002053</td>\n      <td>NaN</td>\n    </tr>\n    <tr>\n      <th>...</th>\n      <td>...</td>\n      <td>...</td>\n    </tr>\n    <tr>\n      <th>2023-06-30 13:05:00</th>\n      <td>-0.004077</td>\n      <td>NaN</td>\n    </tr>\n    <tr>\n      <th>2023-06-30 13:10:00</th>\n      <td>-0.002564</td>\n      <td>NaN</td>\n    </tr>\n    <tr>\n      <th>2023-06-30 13:15:00</th>\n      <td>-0.002856</td>\n      <td>NaN</td>\n    </tr>\n    <tr>\n      <th>2023-06-30 13:20:00</th>\n      <td>-0.002471</td>\n      <td>NaN</td>\n    </tr>\n    <tr>\n      <th>2023-06-30 13:25:00</th>\n      <td>-0.004734</td>\n      <td>NaN</td>\n    </tr>\n  </tbody>\n</table>\n<p>31451 rows × 2 columns</p>\n</div>"
     },
     "execution_count": 58,
     "metadata": {},
     "output_type": "execute_result"
    }
   ],
   "source": [
    "import pandas as pd\n",
    "from step4_model_testing.model_testing import *\n",
    "\n",
    "path = '/Users/jeremy_gp/Documents/GitHub/SummerIndependentProject/factors_data/'\n",
    "symbol = 'EHF'\n",
    "data = pd.read_csv(path + '{}_factors.csv'.format(symbol), index_col=0)\n",
    "data.index = pd.to_datetime(data.index)\n",
    "data['delta_1'] = data['spread'].diff().shift(-1)\n",
    "data = data.loc['2020-09-02':]\n",
    "# lists = ['spread', 'RSI', 'MACD', 'MACDhist','EMA_5', 'MA_5']\n",
    "lists = ['spread', 'RSI']\n",
    "data = test_logistic(data, lists, pd.to_datetime('2020-09-02 09:05:00'), 20, 1, symbol, 'RSI',0.8, 0.2)\n",
    "data.index = pd.to_datetime(data.index)\n",
    "data"
   ],
   "metadata": {
    "collapsed": false,
    "ExecuteTime": {
     "end_time": "2023-08-27T13:45:34.127891Z",
     "start_time": "2023-08-27T13:45:28.273032Z"
    }
   }
  },
  {
   "cell_type": "code",
   "execution_count": 59,
   "outputs": [
    {
     "data": {
      "text/plain": "nan"
     },
     "execution_count": 59,
     "metadata": {},
     "output_type": "execute_result"
    }
   ],
   "source": [
    "# find the value with index '2022-09-02 09:05:00' and\n",
    "signal = data['signal']\n",
    "signal['2022-09-02 09:05:00']"
   ],
   "metadata": {
    "collapsed": false,
    "ExecuteTime": {
     "end_time": "2023-08-27T13:45:47.783467Z",
     "start_time": "2023-08-27T13:45:47.773718Z"
    }
   }
  },
  {
   "cell_type": "code",
   "execution_count": 64,
   "outputs": [
    {
     "name": "stderr",
     "output_type": "stream",
     "text": [
      "100%|██████████| 687/687 [00:15<00:00, 43.79it/s]"
     ]
    },
    {
     "name": "stdout",
     "output_type": "stream",
     "text": [
      "2020-07-29    14099.060126\n",
      "2020-07-30      262.546564\n",
      "2020-07-31      159.934343\n",
      "2020-08-03    13876.428571\n",
      "2020-08-04        0.000000\n",
      "                  ...     \n",
      "2023-05-23    20045.922468\n",
      "2023-05-24        0.000000\n",
      "2023-05-25    19977.114900\n",
      "2023-05-26       93.645974\n",
      "2023-05-29       29.583333\n",
      "Length: 687, dtype: float64\n"
     ]
    },
    {
     "name": "stderr",
     "output_type": "stream",
     "text": [
      "\n"
     ]
    }
   ],
   "source": [
    "pnl_daily_with_model = {}\n",
    "# stockDataDate = stockData[stockData.date == date]\n",
    "# futuresDataDate = futuresData[futuresData.date == date]\n",
    "for date in tqdm(dates[20:707]):\n",
    "\n",
    "    train_date = valid_date_n_days_before2(date, dates, 20)\n",
    "    end_date = valid_date_n_days_later2(date, dates, 1)\n",
    "    start_time = date + pd.DateOffset(hours=9)\n",
    "    spread_historical_data = spread_df[train_date:date]\n",
    "    sd = np.std(spread_historical_data['spread'], axis=0)\n",
    "    mean = spread_historical_data['spread'].mean()\n",
    "    upper = mean + 1.5 * sd\n",
    "    lower = mean - 1.5 * sd\n",
    "\n",
    "    stock_trade_data = stockData[start_time:end_date]\n",
    "    future_trade_data = futuresData[start_time:end_date]\n",
    "    # position 1 for long spread, -1 for short spread, 0 for no position\n",
    "    position = 0\n",
    "    # net position in dollar\n",
    "    net_position = 0\n",
    "    # shares of stock\n",
    "    stock_position = 0\n",
    "    # shares of future\n",
    "    future_position = 0\n",
    "    timestamp = start_time + pd.DateOffset(minutes=5)\n",
    "    while timestamp <= stock_trade_data.index[-1]:\n",
    "        # print(timestamp)\n",
    "        if timestamp >= stock_trade_data.index[-1] or timestamp >= future_trade_data.index[-1]:\n",
    "            # print(net_position, stock_position, future_position)\n",
    "            stock_row = stock_trade_data.iloc[-1]\n",
    "            future_row = future_trade_data.iloc[-1]\n",
    "            if position == 1:\n",
    "                net_position = net_position - stock_position * stock_row.SP1 + future_position * future_row.bidPrice1 * 2\n",
    "            if position == -1:\n",
    "                net_position = net_position + stock_position * stock_row.BP1 - future_position * future_row.askPrice1 * 2\n",
    "            break\n",
    "        row = stock_trade_data.loc[stock_trade_data.index >= timestamp].iloc[0]\n",
    "        stock_mid_quote = (row['SP1'] + row['BP1']) / 2\n",
    "\n",
    "        future_next_row = (future_trade_data.loc[future_trade_data.index > timestamp]).iloc[0]\n",
    "        try:\n",
    "            future_last_row = (future_trade_data.loc[future_trade_data.index <= timestamp]).iloc[-1]\n",
    "            future_mid_quote = (future_last_row['askPrice1'] + future_last_row['bidPrice1']) / 2\n",
    "            spread = np.log(stock_mid_quote) - np.log(future_mid_quote)\n",
    "        except:\n",
    "            timestamp = future_next_row.name\n",
    "            continue\n",
    "        # print(timestamp)\n",
    "        if stock_position == 0 and future_position == 0:\n",
    "            # print(1)\n",
    "            if spread >= upper:\n",
    "                if position == 0:\n",
    "                    if timestamp in signal.index:\n",
    "                        if signal[timestamp] == 1:\n",
    "                            timestamp = future_next_row.name\n",
    "                            continue\n",
    "                    position = 1\n",
    "                    stock_position = stock_position - 2\n",
    "                    future_position = future_position + 1\n",
    "                    net_position = net_position - row['BP1'] * 2 + future_last_row['askPrice1'] * 1 * 2\n",
    "                    timestamp = future_next_row.name\n",
    "                    continue\n",
    "                next_row = stock_trade_data.loc[stock_trade_data.index > timestamp].iloc[0]\n",
    "                # print(next_row.name)\n",
    "                timestamp = next_row.name\n",
    "            elif spread <= lower:\n",
    "                # print(1.2)\n",
    "                if position == 0:\n",
    "                    if timestamp in signal.index:\n",
    "                        if signal[timestamp] == -1:\n",
    "                            timestamp = future_next_row.name\n",
    "                            continue\n",
    "                    position = -1\n",
    "                    stock_position = stock_position + 2\n",
    "                    future_position = future_position - 1\n",
    "                    net_position = net_position + row['SP1'] * 2 - future_last_row['bidPrice1'] * 1 * 2\n",
    "                    timestamp = future_next_row.name\n",
    "                    continue\n",
    "                next_row = stock_trade_data.loc[stock_trade_data.index > timestamp].iloc[0]\n",
    "                # print(next_row.name)\n",
    "                timestamp = next_row.name\n",
    "            else:\n",
    "                # print(1.3)\n",
    "                next_row = stock_trade_data.loc[stock_trade_data.index > timestamp].iloc[0]\n",
    "                # print(next_row.name)\n",
    "                timestamp = next_row.name\n",
    "        else:\n",
    "            # print(2)\n",
    "            # print(position)\n",
    "            if position == 1:\n",
    "\n",
    "                if spread <=mean:\n",
    "                    net_position = net_position + row['SP1'] * (0 - stock_position)\n",
    "                    net_position = net_position - future_next_row['bidPrice1'] * future_position * 2\n",
    "                    stock_position = 0\n",
    "                    future_position = 0\n",
    "                    timestamp = future_next_row.name\n",
    "                    if timestamp >= future_trade_data.index[-1] or timestamp >= stock_trade_data.index[-1]:\n",
    "                        break\n",
    "                    row = stock_trade_data.loc[stock_trade_data.index > timestamp].iloc[0]\n",
    "                    timestamp = row.name\n",
    "                    position = 0\n",
    "                    if future_trade_data.index[-1] >= timestamp:\n",
    "                        future_next_row = (future_trade_data.loc[future_trade_data.index >= timestamp]).iloc[0]\n",
    "                    else:\n",
    "                        timestamp = future_trade_data.index[-1]\n",
    "                else:\n",
    "                    next_row = stock_trade_data.loc[stock_trade_data.index > timestamp].iloc[0]\n",
    "                    timestamp = next_row.name\n",
    "            elif position == -1:\n",
    "                if spread >=mean:\n",
    "                    net_position = net_position - row['BP1'] * stock_position\n",
    "                    net_position = net_position + future_next_row['askPrice1'] * (0 - future_position) * 2\n",
    "                    stock_position = 0\n",
    "                    future_position = 0\n",
    "                    timestamp = future_next_row.name\n",
    "                    if timestamp >= future_trade_data.index[-1] or timestamp >= stock_trade_data.index[-1]:\n",
    "                        break\n",
    "                    row = stock_trade_data.loc[stock_trade_data.index > timestamp].iloc[0]\n",
    "                    timestamp = row.name\n",
    "                    position = 0\n",
    "                    if future_trade_data.index[-1] >= timestamp:\n",
    "                        future_next_row = (future_trade_data.loc[future_trade_data.index >= timestamp]).iloc[0]\n",
    "                    else:\n",
    "                        timestamp = future_trade_data.index[-1]\n",
    "\n",
    "                else:\n",
    "                    next_row = stock_trade_data.loc[stock_trade_data.index > timestamp].iloc[0]\n",
    "                    timestamp = next_row.name\n",
    "            else:\n",
    "                next_row = stock_trade_data.loc[stock_trade_data.index > timestamp].iloc[0]\n",
    "                timestamp = next_row.name\n",
    "    pnl_daily_with_model[date] = net_position\n",
    "\n",
    "# plot pnl\n",
    "pnl_with_model = pd.Series(pnl_daily_with_model)\n",
    "print(pnl_with_model)"
   ],
   "metadata": {
    "collapsed": false,
    "ExecuteTime": {
     "end_time": "2023-08-27T13:49:12.477825Z",
     "start_time": "2023-08-27T13:48:56.767604Z"
    }
   }
  },
  {
   "cell_type": "code",
   "execution_count": 67,
   "outputs": [
    {
     "name": "stdout",
     "output_type": "stream",
     "text": [
      "10.928551494890215\n"
     ]
    },
    {
     "data": {
      "text/plain": "<Figure size 640x480 with 1 Axes>",
      "image/png": "[encoded data removed]"
     },
     "metadata": {},
     "output_type": "display_data"
    }
   ],
   "source": [
    "# calculate cumulative pnl\n",
    "cum_pnl2 = pnl_with_model.cumsum()\n",
    "cum_pnl2.plot()\n",
    "# calculate sharpe ratio\n",
    "sharpe_ratio2 = (pnl_with_model.mean() / pnl_with_model.std()) * np.sqrt(252)\n",
    "print(sharpe_ratio2)"
   ],
   "metadata": {
    "collapsed": false,
    "ExecuteTime": {
     "end_time": "2023-08-27T13:49:37.394092Z",
     "start_time": "2023-08-27T13:49:37.268837Z"
    }
   }
  },
  {
   "cell_type": "code",
   "execution_count": 62,
   "outputs": [
    {
     "data": {
      "text/plain": "<Figure size 640x480 with 1 Axes>",
      "image/png": "[encoded data removed]"
     },
     "metadata": {},
     "output_type": "display_data"
    }
   ],
   "source": [
    "# draw cum_pnl and cum_pnl2 in one graph\n",
    "cum_pnl.plot()\n",
    "cum_pnl2.plot()\n",
    "plt.legend(['cum_pnl', 'cum_pnl2'])\n",
    "plt.show()"
   ],
   "metadata": {
    "collapsed": false,
    "ExecuteTime": {
     "end_time": "2023-08-27T13:46:16.051142Z",
     "start_time": "2023-08-27T13:46:15.908201Z"
    }
   }
  },
  {
   "cell_type": "code",
   "execution_count": 66,
   "outputs": [
    {
     "data": {
      "text/plain": "<Figure size 640x480 with 1 Axes>",
      "image/png": "[encoded data removed]"
     },
     "metadata": {},
     "output_type": "display_data"
    }
   ],
   "source": [
    "# concate two pnl into one dataframe\n",
    "pnl_df = pd.concat([pnl_with_model, pnl], axis=1)\n",
    "pnl_df = pnl_df.loc[pnl_df.index >= '2020-10-01']\n",
    "# calculate cumulative pnl after 2020-06-01\n",
    "cum_pnl_df = pnl_df.cumsum()\n",
    "# plot pnl after 2020-06-01\n",
    "cum_pnl_df.plot()\n",
    "plt.legend(['pnl_with_model', 'pnl'])\n",
    "plt.show()"
   ],
   "metadata": {
    "collapsed": false,
    "ExecuteTime": {
     "end_time": "2023-08-27T13:49:28.556100Z",
     "start_time": "2023-08-27T13:49:28.434979Z"
    }
   }
  },
  {
   "cell_type": "code",
   "execution_count": null,
   "outputs": [],
   "source": [],
   "metadata": {
    "collapsed": false
   }
  }
 ],
 "metadata": {
  "kernelspec": {
   "display_name": "Python 3",
   "language": "python",
   "name": "python3"
  },
  "language_info": {
   "codemirror_mode": {
    "name": "ipython",
    "version": 2
   },
   "file_extension": ".py",
   "mimetype": "text/x-python",
   "name": "python",
   "nbconvert_exporter": "python",
   "pygments_lexer": "ipython2",
   "version": "2.7.6"
  }
 },
 "nbformat": 4,
 "nbformat_minor": 0
}
