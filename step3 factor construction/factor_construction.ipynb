{
 "cells": [
  {
   "cell_type": "code",
   "execution_count": 1,
   "metadata": {
    "collapsed": true
   },
   "outputs": [],
   "source": [
    "import talib\n",
    "import numpy as np\n",
    "import pandas as pd\n",
    "from price_volume_factor_calculation import get_all_price_volume_factors\n",
    "\n",
    "tradingPairs = {'JBF':'3443','QWF':'2388','HCF':'2498','DBF':'2610','EHF':'1319','IPF':'3035','IIF':'3006','QXF':'2615','PEF':'5425','NAF':'3105'}\n",
    "tick_data_path = '/Users/jeremyg/Documents/GitHub/SummerIndependentProject/tickData/'\n",
    "spread_path = tick_data_path + 'spreadData/'\n",
    "stock_path = tick_data_path + 'midQuoteData/stock/'\n",
    "futures_path = tick_data_path +'midQuoteData/futures/'\n",
    "factors_path = tick_data_path + 'factors_data/'"
   ]
  },
  {
   "cell_type": "code",
   "execution_count": 2,
   "outputs": [
    {
     "data": {
      "text/plain": "                      midQuote       volume  Stock_Ask_Bid_Price_Depth_Ratio  \\\nTimeStamp                                                                      \n2020-07-01 09:05:00  10.148993   227.943775                         0.963052   \n2020-07-01 09:10:00  10.145491   433.942953                         1.000000   \n2020-07-01 09:15:00  10.158144   733.444969                         1.000000   \n2020-07-01 09:20:00  10.156140  1075.544681                         1.000000   \n2020-07-01 09:25:00  10.146131  1308.031746                         1.029365   \n...                        ...          ...                              ...   \n2023-06-30 13:05:00  11.990286  1582.645251                         1.000000   \n2023-06-30 13:10:00  11.988727  1610.944444                         1.000000   \n2023-06-30 13:15:00  11.987606  1622.435754                         1.000000   \n2023-06-30 13:20:00  11.987606  1644.400000                         1.000000   \n2023-06-30 13:25:00  11.987606  1707.079051                         1.000000   \n\n                     Stock_Ask_Bid_Total_Volume_Ratio  \nTimeStamp                                              \n2020-07-01 09:05:00                          2.718155  \n2020-07-01 09:10:00                          1.754398  \n2020-07-01 09:15:00                          2.632562  \n2020-07-01 09:20:00                          1.328193  \n2020-07-01 09:25:00                          0.471786  \n...                                               ...  \n2023-06-30 13:05:00                          2.139608  \n2023-06-30 13:10:00                          1.994816  \n2023-06-30 13:15:00                          2.317332  \n2023-06-30 13:20:00                          2.627203  \n2023-06-30 13:25:00                          2.357826  \n\n[37905 rows x 4 columns]",
      "text/html": "<div>\n<style scoped>\n    .dataframe tbody tr th:only-of-type {\n        vertical-align: middle;\n    }\n\n    .dataframe tbody tr th {\n        vertical-align: top;\n    }\n\n    .dataframe thead th {\n        text-align: right;\n    }\n</style>\n<table border=\"1\" class=\"dataframe\">\n  <thead>\n    <tr style=\"text-align: right;\">\n      <th></th>\n      <th>midQuote</th>\n      <th>volume</th>\n      <th>Stock_Ask_Bid_Price_Depth_Ratio</th>\n      <th>Stock_Ask_Bid_Total_Volume_Ratio</th>\n    </tr>\n    <tr>\n      <th>TimeStamp</th>\n      <th></th>\n      <th></th>\n      <th></th>\n      <th></th>\n    </tr>\n  </thead>\n  <tbody>\n    <tr>\n      <th>2020-07-01 09:05:00</th>\n      <td>10.148993</td>\n      <td>227.943775</td>\n      <td>0.963052</td>\n      <td>2.718155</td>\n    </tr>\n    <tr>\n      <th>2020-07-01 09:10:00</th>\n      <td>10.145491</td>\n      <td>433.942953</td>\n      <td>1.000000</td>\n      <td>1.754398</td>\n    </tr>\n    <tr>\n      <th>2020-07-01 09:15:00</th>\n      <td>10.158144</td>\n      <td>733.444969</td>\n      <td>1.000000</td>\n      <td>2.632562</td>\n    </tr>\n    <tr>\n      <th>2020-07-01 09:20:00</th>\n      <td>10.156140</td>\n      <td>1075.544681</td>\n      <td>1.000000</td>\n      <td>1.328193</td>\n    </tr>\n    <tr>\n      <th>2020-07-01 09:25:00</th>\n      <td>10.146131</td>\n      <td>1308.031746</td>\n      <td>1.029365</td>\n      <td>0.471786</td>\n    </tr>\n    <tr>\n      <th>...</th>\n      <td>...</td>\n      <td>...</td>\n      <td>...</td>\n      <td>...</td>\n    </tr>\n    <tr>\n      <th>2023-06-30 13:05:00</th>\n      <td>11.990286</td>\n      <td>1582.645251</td>\n      <td>1.000000</td>\n      <td>2.139608</td>\n    </tr>\n    <tr>\n      <th>2023-06-30 13:10:00</th>\n      <td>11.988727</td>\n      <td>1610.944444</td>\n      <td>1.000000</td>\n      <td>1.994816</td>\n    </tr>\n    <tr>\n      <th>2023-06-30 13:15:00</th>\n      <td>11.987606</td>\n      <td>1622.435754</td>\n      <td>1.000000</td>\n      <td>2.317332</td>\n    </tr>\n    <tr>\n      <th>2023-06-30 13:20:00</th>\n      <td>11.987606</td>\n      <td>1644.400000</td>\n      <td>1.000000</td>\n      <td>2.627203</td>\n    </tr>\n    <tr>\n      <th>2023-06-30 13:25:00</th>\n      <td>11.987606</td>\n      <td>1707.079051</td>\n      <td>1.000000</td>\n      <td>2.357826</td>\n    </tr>\n  </tbody>\n</table>\n<p>37905 rows × 4 columns</p>\n</div>"
     },
     "execution_count": 2,
     "metadata": {},
     "output_type": "execute_result"
    }
   ],
   "source": [
    "stock_mid_quote_df = pd.read_csv(stock_path + '/3443_mid_quote.csv', index_col=0, parse_dates=True)\n",
    "stock_mid_quote_df"
   ],
   "metadata": {
    "collapsed": false
   }
  },
  {
   "cell_type": "code",
   "execution_count": 3,
   "outputs": [],
   "source": [
    "for symbol in tradingPairs.keys():\n",
    "    spread_df = pd.read_csv(spread_path + symbol + '_spread.csv', index_col=0, parse_dates=True)\n",
    "    # rename the first column with spread\n",
    "    spread_df.rename(columns={spread_df.columns[0]: 'spread'}, inplace=True)\n",
    "    # get all the price volume factors\n",
    "    spread_df = get_all_price_volume_factors(spread_df)\n",
    "    stock_code = tradingPairs[symbol]\n",
    "    stock_mid_quote_df = pd.read_csv(stock_path + '{}_mid_quote.csv'.format(stock_code), index_col=0, parse_dates=True)\n",
    "    # concat the stock mid quote and spread dataframes\n",
    "    factors_data = pd.merge(spread_df, stock_mid_quote_df,  left_index=True, right_index=True, how='inner')\n",
    "    factors_data.to_csv(factors_path + '{}_factors.csv'.format(symbol))"
   ],
   "metadata": {
    "collapsed": false
   }
  }
 ],
 "metadata": {
  "kernelspec": {
   "display_name": "Python 3",
   "language": "python",
   "name": "python3"
  },
  "language_info": {
   "codemirror_mode": {
    "name": "ipython",
    "version": 2
   },
   "file_extension": ".py",
   "mimetype": "text/x-python",
   "name": "python",
   "nbconvert_exporter": "python",
   "pygments_lexer": "ipython2",
   "version": "2.7.6"
  }
 },
 "nbformat": 4,
 "nbformat_minor": 0
}
