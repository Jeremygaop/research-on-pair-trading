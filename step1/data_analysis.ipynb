{
 "nbformat": 4,
 "nbformat_minor": 0,
 "metadata": {
  "colab": {
   "provenance": []
  },
  "kernelspec": {
   "name": "python3",
   "display_name": "Python 3"
  },
  "language_info": {
   "name": "python"
  }
 },
 "cells": [
  {
   "cell_type": "code",
   "source": [
    "import pandas as pd\n",
    "import os\n",
    "import numpy as np"
   ],
   "metadata": {
    "id": "aA2bRJ6T65CP"
   },
   "execution_count": 2,
   "outputs": []
  },
  {
   "cell_type": "code",
   "source": [
    "tradingPairs = {'JBF':'3443','QWF':'2388','HCF':'2498','DBF':'2610','EHF':'1319','IPF':'3035','IIF':'3006','QXF':'2615','PEF':'5425','NAF':'3105'}"
   ],
   "metadata": {
    "id": "P5_s0iwlFGLd"
   },
   "execution_count": 3,
   "outputs": []
  },
  {
   "cell_type": "code",
   "source": [
    "stockPath = \"../tickData/stocks\"\n",
    "stockFiles = os.listdir(stockPath)\n",
    "futuresPath = \"../tickData/futuresOB\"\n",
    "futuresFiles = os.listdir(futuresPath)\n",
    "stockFiles.remove('.DS_Store')"
   ],
   "metadata": {
    "id": "6SYw61kYkShi"
   },
   "execution_count": 4,
   "outputs": []
  },
  {
   "cell_type": "code",
   "source": [
    "stockData = {}\n",
    "futuresData = {}\n",
    "for file in stockFiles:\n",
    "  stockData[file] = os.listdir(stockPath + '/' + file)\n",
    "for file in futuresFiles:\n",
    "  futuresData[file] = os.listdir(futuresPath + '/' + file)"
   ],
   "metadata": {
    "id": "CJbe1jBMlbB9"
   },
   "execution_count": 5,
   "outputs": []
  },
  {
   "cell_type": "code",
   "source": [
    "stockPriceOneMinute = {}\n",
    "futuresPriceOneMinute = {}"
   ],
   "metadata": {
    "id": "9gbjzhVbziL3"
   },
   "execution_count": 6,
   "outputs": []
  },
  {
   "cell_type": "code",
   "source": [
    "for stock in stockData.keys():\n",
    "  stockPriceOneMinute[stock] = pd.DataFrame()\n",
    "  for date in stockData[stock]:\n",
    "    stockTick = pd.read_csv(stockPath + '/' + stock + '/' + date)\n",
    "    #Data processing\n",
    "    stockTick = stockTick[['date','time','SP1','BP1']].dropna()\n",
    "    stockTick = stockTick.loc[stockTick['SP1'] * stockTick['BP1'] != 0]\n",
    "    stockTick['midQuote'] = np.log(stockTick[['SP1','BP1']].mean(axis=1))\n",
    "    stockTick['time'] = (stockTick['time'] - stockTick['time'] % 100000) / 100000\n",
    "    stockPrice = stockTick[['date','time','midQuote']]\n",
    "    stockPrice_ = stockPrice.groupby(['date','time'])['midQuote'].mean()\n",
    "    frames = [stockPriceOneMinute[stock], stockPrice_]\n",
    "    stockPriceOneMinute[stock] = pd.concat(frames)"
   ],
   "metadata": {
    "id": "7-9SjN9B0bJs"
   },
   "execution_count": null,
   "outputs": []
  },
  {
   "cell_type": "code",
   "source": [
    "stockPriceOneMinute"
   ],
   "metadata": {
    "colab": {
     "base_uri": "https://localhost:8080/"
    },
    "id": "UFf6WzPR2utB",
    "outputId": "de459b37-9b47-44a4-db03-2eec3d4a5dc3"
   },
   "execution_count": 8,
   "outputs": [
    {
     "output_type": "execute_result",
     "data": {
      "text/plain": [
       "{'2388':                              0\n",
       " (2020-07-01, 900.0)   8.124877\n",
       " (2020-07-01, 901.0)   8.121594\n",
       " (2020-07-01, 902.0)   8.111887\n",
       " (2020-07-01, 903.0)   8.099874\n",
       " (2020-07-01, 904.0)   8.093469\n",
       " ...                        ...\n",
       " (2023-06-30, 1320.0)  8.998919\n",
       " (2023-06-30, 1321.0)  8.999002\n",
       " (2023-06-30, 1322.0)  9.000257\n",
       " (2023-06-30, 1323.0)  9.001014\n",
       " (2023-06-30, 1324.0)  9.000962\n",
       " \n",
       " [127668 rows x 1 columns],\n",
       " '3105':                               0\n",
       " (2020-07-01, 900.0)   10.294299\n",
       " (2020-07-01, 901.0)   10.295252\n",
       " (2020-07-01, 902.0)   10.295001\n",
       " (2020-07-01, 903.0)   10.293296\n",
       " (2020-07-01, 904.0)   10.293988\n",
       " ...                         ...\n",
       " (2023-06-30, 1320.0)   9.706560\n",
       " (2023-06-30, 1321.0)   9.706560\n",
       " (2023-06-30, 1322.0)   9.706560\n",
       " (2023-06-30, 1323.0)   9.706560\n",
       " (2023-06-30, 1324.0)   9.707137\n",
       " \n",
       " [191657 rows x 1 columns],\n",
       " '2610':                              0\n",
       " (2020-07-01, 900.0)   6.712372\n",
       " (2020-07-01, 901.0)   6.714575\n",
       " (2020-07-01, 902.0)   6.714777\n",
       " (2020-07-01, 903.0)   6.714777\n",
       " (2020-07-01, 904.0)   6.714777\n",
       " ...                        ...\n",
       " (2023-06-30, 1320.0)  7.873788\n",
       " (2023-06-30, 1321.0)  7.873599\n",
       " (2023-06-30, 1322.0)  7.873140\n",
       " (2023-06-30, 1323.0)  7.873788\n",
       " (2023-06-30, 1324.0)  7.873660\n",
       " \n",
       " [97805 rows x 1 columns],\n",
       " '3443':                               0\n",
       " (2020-07-01, 900.0)   10.149927\n",
       " (2020-07-01, 901.0)   10.152845\n",
       " (2020-07-01, 902.0)   10.148743\n",
       " (2020-07-01, 903.0)   10.146759\n",
       " (2020-07-01, 904.0)   10.144210\n",
       " ...                         ...\n",
       " (2023-06-30, 1320.0)  11.987606\n",
       " (2023-06-30, 1321.0)  11.987606\n",
       " (2023-06-30, 1322.0)  11.987606\n",
       " (2023-06-30, 1323.0)  11.987606\n",
       " (2023-06-30, 1324.0)  11.987606\n",
       " \n",
       " [188666 rows x 1 columns],\n",
       " '5425':                              0\n",
       " (2020-07-01, 900.0)   8.300458\n",
       " (2020-07-01, 901.0)   8.300901\n",
       " (2020-07-01, 902.0)   8.300710\n",
       " (2020-07-01, 903.0)   8.301740\n",
       " (2020-07-01, 904.0)   8.302142\n",
       " ...                        ...\n",
       " (2023-06-30, 1320.0)  9.180396\n",
       " (2023-06-30, 1321.0)  9.181349\n",
       " (2023-06-30, 1322.0)  9.181426\n",
       " (2023-06-30, 1323.0)  9.181930\n",
       " (2023-06-30, 1324.0)  9.181426\n",
       " \n",
       " [190218 rows x 1 columns],\n",
       " '2498':                              0\n",
       " (2020-07-01, 900.0)   8.112776\n",
       " (2020-07-01, 901.0)   8.104067\n",
       " (2020-07-01, 903.0)   8.112453\n",
       " (2020-07-01, 904.0)   8.105285\n",
       " (2020-07-01, 905.0)   8.099141\n",
       " ...                        ...\n",
       " (2023-06-30, 1320.0)  8.649111\n",
       " (2023-06-30, 1321.0)  8.649098\n",
       " (2023-06-30, 1322.0)  8.649720\n",
       " (2023-06-30, 1323.0)  8.650262\n",
       " (2023-06-30, 1324.0)  8.650681\n",
       " \n",
       " [187279 rows x 1 columns],\n",
       " '3006':                              0\n",
       " (2020-07-01, 900.0)   8.267406\n",
       " (2020-07-01, 901.0)   8.265748\n",
       " (2020-07-01, 902.0)   8.265522\n",
       " (2020-07-01, 903.0)   8.265522\n",
       " (2020-07-01, 904.0)   8.265522\n",
       " ...                        ...\n",
       " (2023-06-30, 1320.0)  9.014934\n",
       " (2023-06-30, 1321.0)  9.014934\n",
       " (2023-06-30, 1322.0)  9.014337\n",
       " (2023-06-30, 1323.0)  9.014787\n",
       " (2023-06-30, 1324.0)  9.015226\n",
       " \n",
       " [186676 rows x 1 columns],\n",
       " '3035':                              0\n",
       " (2020-07-01, 900.0)   8.451329\n",
       " (2020-07-01, 901.0)   8.449647\n",
       " (2020-07-01, 902.0)   8.448914\n",
       " (2020-07-01, 903.0)   8.451477\n",
       " (2020-07-01, 904.0)   8.450626\n",
       " ...                        ...\n",
       " (2023-06-30, 1320.0)  9.957337\n",
       " (2023-06-30, 1321.0)  9.958212\n",
       " (2023-06-30, 1322.0)  9.958212\n",
       " (2023-06-30, 1323.0)  9.958212\n",
       " (2023-06-30, 1324.0)  9.957448\n",
       " \n",
       " [186572 rows x 1 columns],\n",
       " '2615':                              0\n",
       " (2020-07-01, 900.0)   7.407953\n",
       " (2020-07-01, 901.0)   7.410045\n",
       " (2020-07-01, 902.0)   7.409136\n",
       " (2020-07-01, 903.0)   7.408531\n",
       " (2020-07-01, 904.0)   7.408531\n",
       " ...                        ...\n",
       " (2023-06-30, 1320.0)  8.678745\n",
       " (2023-06-30, 1321.0)  8.678461\n",
       " (2023-06-30, 1322.0)  8.678461\n",
       " (2023-06-30, 1323.0)  8.681040\n",
       " (2023-06-30, 1324.0)  8.681860\n",
       " \n",
       " [133592 rows x 1 columns],\n",
       " '1319':                              0\n",
       " (2020-07-01, 900.0)   8.207947\n",
       " (2020-07-01, 901.0)   8.209686\n",
       " (2020-07-01, 902.0)   8.211789\n",
       " (2020-07-01, 903.0)   8.210668\n",
       " (2020-07-01, 904.0)   8.210757\n",
       " ...                        ...\n",
       " (2023-06-30, 1320.0)  8.565031\n",
       " (2023-06-30, 1321.0)  8.565031\n",
       " (2023-06-30, 1322.0)  8.565375\n",
       " (2023-06-30, 1323.0)  8.566054\n",
       " (2023-06-30, 1324.0)  8.565483\n",
       " \n",
       " [182157 rows x 1 columns]}"
      ]
     },
     "metadata": {},
     "execution_count": 8
    }
   ]
  },
  {
   "cell_type": "code",
   "source": [
    "for futures in futuresData.keys():\n",
    "  futuresPriceOneMinute[futures] = pd.DataFrame()\n",
    "  for date in futuresData[futures]:\n",
    "    futuresTick = pd.read_csv(futuresPath + '/' + futures + '/' + date)\n",
    "    #Data processing\n",
    "    futuresTick = futuresTick[['date','time','askPrice1','bidPrice1']].dropna()\n",
    "    futuresTick = futuresTick.loc[futuresTick['askPrice1'] * futuresTick['bidPrice1'] != 0]\n",
    "    futuresTick['midQuote'] = np.log(futuresTick[['askPrice1','bidPrice1']].mean(axis=1))\n",
    "    futuresTick['time'] = (futuresTick['time'] - futuresTick['time'] % 100000) / 100000\n",
    "    futuresPrice = futuresTick[['date','time','midQuote']]\n",
    "    futuresPrice_ = futuresPrice.groupby(['date','time'])['midQuote'].mean()\n",
    "    frames = [futuresPriceOneMinute[futures], futuresPrice_]\n",
    "    futuresPriceOneMinute[futures] = pd.concat(frames)"
   ],
   "metadata": {
    "colab": {
     "base_uri": "https://localhost:8080/"
    },
    "id": "gxCcfvgYCNBE",
    "outputId": "8108746b-bdd7-417e-8247-d4b5c23354cd"
   },
   "execution_count": 9,
   "outputs": [
    {
     "output_type": "stream",
     "name": "stderr",
     "text": [
      "<ipython-input-9-694c084d1dcb>:8: SettingWithCopyWarning: \n",
      "A value is trying to be set on a copy of a slice from a DataFrame.\n",
      "Try using .loc[row_indexer,col_indexer] = value instead\n",
      "\n",
      "See the caveats in the documentation: https://pandas.pydata.org/pandas-docs/stable/user_guide/indexing.html#returning-a-view-versus-a-copy\n",
      "  futuresTick['midQuote'] = np.log(futuresTick[['askPrice1','bidPrice1']].mean(axis=1))\n",
      "<ipython-input-9-694c084d1dcb>:9: SettingWithCopyWarning: \n",
      "A value is trying to be set on a copy of a slice from a DataFrame.\n",
      "Try using .loc[row_indexer,col_indexer] = value instead\n",
      "\n",
      "See the caveats in the documentation: https://pandas.pydata.org/pandas-docs/stable/user_guide/indexing.html#returning-a-view-versus-a-copy\n",
      "  futuresTick['time'] = (futuresTick['time'] - futuresTick['time'] % 100000) / 100000\n",
      "<ipython-input-9-694c084d1dcb>:8: SettingWithCopyWarning: \n",
      "A value is trying to be set on a copy of a slice from a DataFrame.\n",
      "Try using .loc[row_indexer,col_indexer] = value instead\n",
      "\n",
      "See the caveats in the documentation: https://pandas.pydata.org/pandas-docs/stable/user_guide/indexing.html#returning-a-view-versus-a-copy\n",
      "  futuresTick['midQuote'] = np.log(futuresTick[['askPrice1','bidPrice1']].mean(axis=1))\n",
      "<ipython-input-9-694c084d1dcb>:9: SettingWithCopyWarning: \n",
      "A value is trying to be set on a copy of a slice from a DataFrame.\n",
      "Try using .loc[row_indexer,col_indexer] = value instead\n",
      "\n",
      "See the caveats in the documentation: https://pandas.pydata.org/pandas-docs/stable/user_guide/indexing.html#returning-a-view-versus-a-copy\n",
      "  futuresTick['time'] = (futuresTick['time'] - futuresTick['time'] % 100000) / 100000\n",
      "<ipython-input-9-694c084d1dcb>:8: SettingWithCopyWarning: \n",
      "A value is trying to be set on a copy of a slice from a DataFrame.\n",
      "Try using .loc[row_indexer,col_indexer] = value instead\n",
      "\n",
      "See the caveats in the documentation: https://pandas.pydata.org/pandas-docs/stable/user_guide/indexing.html#returning-a-view-versus-a-copy\n",
      "  futuresTick['midQuote'] = np.log(futuresTick[['askPrice1','bidPrice1']].mean(axis=1))\n",
      "<ipython-input-9-694c084d1dcb>:9: SettingWithCopyWarning: \n",
      "A value is trying to be set on a copy of a slice from a DataFrame.\n",
      "Try using .loc[row_indexer,col_indexer] = value instead\n",
      "\n",
      "See the caveats in the documentation: https://pandas.pydata.org/pandas-docs/stable/user_guide/indexing.html#returning-a-view-versus-a-copy\n",
      "  futuresTick['time'] = (futuresTick['time'] - futuresTick['time'] % 100000) / 100000\n",
      "<ipython-input-9-694c084d1dcb>:8: SettingWithCopyWarning: \n",
      "A value is trying to be set on a copy of a slice from a DataFrame.\n",
      "Try using .loc[row_indexer,col_indexer] = value instead\n",
      "\n",
      "See the caveats in the documentation: https://pandas.pydata.org/pandas-docs/stable/user_guide/indexing.html#returning-a-view-versus-a-copy\n",
      "  futuresTick['midQuote'] = np.log(futuresTick[['askPrice1','bidPrice1']].mean(axis=1))\n",
      "<ipython-input-9-694c084d1dcb>:9: SettingWithCopyWarning: \n",
      "A value is trying to be set on a copy of a slice from a DataFrame.\n",
      "Try using .loc[row_indexer,col_indexer] = value instead\n",
      "\n",
      "See the caveats in the documentation: https://pandas.pydata.org/pandas-docs/stable/user_guide/indexing.html#returning-a-view-versus-a-copy\n",
      "  futuresTick['time'] = (futuresTick['time'] - futuresTick['time'] % 100000) / 100000\n",
      "<ipython-input-9-694c084d1dcb>:8: SettingWithCopyWarning: \n",
      "A value is trying to be set on a copy of a slice from a DataFrame.\n",
      "Try using .loc[row_indexer,col_indexer] = value instead\n",
      "\n",
      "See the caveats in the documentation: https://pandas.pydata.org/pandas-docs/stable/user_guide/indexing.html#returning-a-view-versus-a-copy\n",
      "  futuresTick['midQuote'] = np.log(futuresTick[['askPrice1','bidPrice1']].mean(axis=1))\n",
      "<ipython-input-9-694c084d1dcb>:9: SettingWithCopyWarning: \n",
      "A value is trying to be set on a copy of a slice from a DataFrame.\n",
      "Try using .loc[row_indexer,col_indexer] = value instead\n",
      "\n",
      "See the caveats in the documentation: https://pandas.pydata.org/pandas-docs/stable/user_guide/indexing.html#returning-a-view-versus-a-copy\n",
      "  futuresTick['time'] = (futuresTick['time'] - futuresTick['time'] % 100000) / 100000\n",
      "<ipython-input-9-694c084d1dcb>:8: SettingWithCopyWarning: \n",
      "A value is trying to be set on a copy of a slice from a DataFrame.\n",
      "Try using .loc[row_indexer,col_indexer] = value instead\n",
      "\n",
      "See the caveats in the documentation: https://pandas.pydata.org/pandas-docs/stable/user_guide/indexing.html#returning-a-view-versus-a-copy\n",
      "  futuresTick['midQuote'] = np.log(futuresTick[['askPrice1','bidPrice1']].mean(axis=1))\n",
      "<ipython-input-9-694c084d1dcb>:9: SettingWithCopyWarning: \n",
      "A value is trying to be set on a copy of a slice from a DataFrame.\n",
      "Try using .loc[row_indexer,col_indexer] = value instead\n",
      "\n",
      "See the caveats in the documentation: https://pandas.pydata.org/pandas-docs/stable/user_guide/indexing.html#returning-a-view-versus-a-copy\n",
      "  futuresTick['time'] = (futuresTick['time'] - futuresTick['time'] % 100000) / 100000\n",
      "<ipython-input-9-694c084d1dcb>:8: SettingWithCopyWarning: \n",
      "A value is trying to be set on a copy of a slice from a DataFrame.\n",
      "Try using .loc[row_indexer,col_indexer] = value instead\n",
      "\n",
      "See the caveats in the documentation: https://pandas.pydata.org/pandas-docs/stable/user_guide/indexing.html#returning-a-view-versus-a-copy\n",
      "  futuresTick['midQuote'] = np.log(futuresTick[['askPrice1','bidPrice1']].mean(axis=1))\n",
      "<ipython-input-9-694c084d1dcb>:9: SettingWithCopyWarning: \n",
      "A value is trying to be set on a copy of a slice from a DataFrame.\n",
      "Try using .loc[row_indexer,col_indexer] = value instead\n",
      "\n",
      "See the caveats in the documentation: https://pandas.pydata.org/pandas-docs/stable/user_guide/indexing.html#returning-a-view-versus-a-copy\n",
      "  futuresTick['time'] = (futuresTick['time'] - futuresTick['time'] % 100000) / 100000\n",
      "<ipython-input-9-694c084d1dcb>:8: SettingWithCopyWarning: \n",
      "A value is trying to be set on a copy of a slice from a DataFrame.\n",
      "Try using .loc[row_indexer,col_indexer] = value instead\n",
      "\n",
      "See the caveats in the documentation: https://pandas.pydata.org/pandas-docs/stable/user_guide/indexing.html#returning-a-view-versus-a-copy\n",
      "  futuresTick['midQuote'] = np.log(futuresTick[['askPrice1','bidPrice1']].mean(axis=1))\n",
      "<ipython-input-9-694c084d1dcb>:9: SettingWithCopyWarning: \n",
      "A value is trying to be set on a copy of a slice from a DataFrame.\n",
      "Try using .loc[row_indexer,col_indexer] = value instead\n",
      "\n",
      "See the caveats in the documentation: https://pandas.pydata.org/pandas-docs/stable/user_guide/indexing.html#returning-a-view-versus-a-copy\n",
      "  futuresTick['time'] = (futuresTick['time'] - futuresTick['time'] % 100000) / 100000\n",
      "<ipython-input-9-694c084d1dcb>:8: SettingWithCopyWarning: \n",
      "A value is trying to be set on a copy of a slice from a DataFrame.\n",
      "Try using .loc[row_indexer,col_indexer] = value instead\n",
      "\n",
      "See the caveats in the documentation: https://pandas.pydata.org/pandas-docs/stable/user_guide/indexing.html#returning-a-view-versus-a-copy\n",
      "  futuresTick['midQuote'] = np.log(futuresTick[['askPrice1','bidPrice1']].mean(axis=1))\n",
      "<ipython-input-9-694c084d1dcb>:9: SettingWithCopyWarning: \n",
      "A value is trying to be set on a copy of a slice from a DataFrame.\n",
      "Try using .loc[row_indexer,col_indexer] = value instead\n",
      "\n",
      "See the caveats in the documentation: https://pandas.pydata.org/pandas-docs/stable/user_guide/indexing.html#returning-a-view-versus-a-copy\n",
      "  futuresTick['time'] = (futuresTick['time'] - futuresTick['time'] % 100000) / 100000\n"
     ]
    }
   ]
  },
  {
   "cell_type": "code",
   "source": [
    "path_stocks = \"/content/drive/MyDrive/Colab Notebooks/Independent project_2023 Summer/stocks\""
   ],
   "metadata": {
    "id": "QZYK8y836sro"
   },
   "execution_count": 10,
   "outputs": []
  },
  {
   "cell_type": "code",
   "source": [
    "futuresPriceOneMinute"
   ],
   "metadata": {
    "colab": {
     "base_uri": "https://localhost:8080/"
    },
    "id": "67mft_y_D6Cs",
    "outputId": "f96b25ce-9a8b-4545-fb9c-76ee2739d278"
   },
   "execution_count": 11,
   "outputs": [
    {
     "output_type": "execute_result",
     "data": {
      "text/plain": [
       "{'JBF':                               0\n",
       " (2020-07-01, 845.0)   10.140534\n",
       " (2020-07-01, 846.0)   10.143160\n",
       " (2020-07-01, 847.0)   10.145453\n",
       " (2020-07-01, 848.0)   10.145943\n",
       " (2020-07-01, 849.0)   10.147592\n",
       " ...                         ...\n",
       " (2023-06-30, 1340.0)  11.991313\n",
       " (2023-06-30, 1341.0)  11.990711\n",
       " (2023-06-30, 1342.0)  11.990711\n",
       " (2023-06-30, 1343.0)  11.990711\n",
       " (2023-06-30, 1344.0)  11.990711\n",
       " \n",
       " [205800 rows x 1 columns],\n",
       " 'PEF':                              0\n",
       " (2020-07-01, 847.0)   8.302142\n",
       " (2020-07-01, 848.0)   8.302142\n",
       " (2020-07-01, 849.0)   8.302142\n",
       " (2020-07-01, 850.0)   8.302142\n",
       " (2020-07-01, 851.0)   8.302142\n",
       " ...                        ...\n",
       " (2023-06-30, 1339.0)  9.179881\n",
       " (2023-06-30, 1340.0)  9.179881\n",
       " (2023-06-30, 1342.0)  9.179881\n",
       " (2023-06-30, 1343.0)  9.179881\n",
       " (2023-06-30, 1344.0)  9.180396\n",
       " \n",
       " [206424 rows x 1 columns],\n",
       " 'QXF':                              0\n",
       " (2022-04-27, 845.0)   9.547991\n",
       " (2022-04-27, 846.0)   9.553930\n",
       " (2022-04-27, 847.0)   9.549608\n",
       " (2022-04-27, 848.0)   9.546813\n",
       " (2022-04-27, 849.0)   9.546813\n",
       " ...                        ...\n",
       " (2023-06-30, 1340.0)  8.690306\n",
       " (2023-06-30, 1341.0)  8.690306\n",
       " (2023-06-30, 1342.0)  8.690306\n",
       " (2023-06-30, 1343.0)  8.690306\n",
       " (2023-06-30, 1344.0)  8.690306\n",
       " \n",
       " [82770 rows x 1 columns],\n",
       " 'IPF':                              0\n",
       " (2020-07-01, 845.0)   8.408493\n",
       " (2020-07-01, 846.0)   8.432400\n",
       " (2020-07-01, 847.0)   8.437609\n",
       " (2020-07-01, 848.0)   8.437609\n",
       " (2020-07-01, 849.0)   8.437609\n",
       " ...                        ...\n",
       " (2023-06-30, 1340.0)  9.962699\n",
       " (2023-06-30, 1341.0)  9.960577\n",
       " (2023-06-30, 1342.0)  9.960577\n",
       " (2023-06-30, 1343.0)  9.960577\n",
       " (2023-06-30, 1344.0)  9.960577\n",
       " \n",
       " [208039 rows x 1 columns],\n",
       " 'EHF':                              0\n",
       " (2020-07-01, 845.0)   8.185151\n",
       " (2020-07-01, 846.0)   8.191463\n",
       " (2020-07-01, 847.0)   8.191463\n",
       " (2020-07-01, 848.0)   8.191463\n",
       " (2020-07-01, 849.0)   8.191463\n",
       " ...                        ...\n",
       " (2023-06-30, 1338.0)  8.572628\n",
       " (2023-06-30, 1340.0)  8.572628\n",
       " (2023-06-30, 1342.0)  8.572628\n",
       " (2023-06-30, 1343.0)  8.572628\n",
       " (2023-06-30, 1344.0)  8.572628\n",
       " \n",
       " [167030 rows x 1 columns],\n",
       " 'IIF':                              0\n",
       " (2020-07-01, 845.0)   8.268091\n",
       " (2020-07-01, 849.0)   8.268732\n",
       " (2020-07-01, 853.0)   8.262301\n",
       " (2020-07-01, 856.0)   8.262301\n",
       " (2020-07-01, 900.0)   8.263719\n",
       " ...                        ...\n",
       " (2023-06-30, 1338.0)  9.015541\n",
       " (2023-06-30, 1339.0)  9.014934\n",
       " (2023-06-30, 1340.0)  9.014934\n",
       " (2023-06-30, 1342.0)  9.016756\n",
       " (2023-06-30, 1344.0)  9.016452\n",
       " \n",
       " [210325 rows x 1 columns],\n",
       " 'NAF':                               0\n",
       " (2020-07-01, 845.0)   10.285030\n",
       " (2020-07-01, 846.0)   10.285940\n",
       " (2020-07-01, 847.0)   10.285671\n",
       " (2020-07-01, 848.0)   10.286196\n",
       " (2020-07-01, 849.0)   10.287502\n",
       " ...                         ...\n",
       " (2023-06-30, 1339.0)   9.715651\n",
       " (2023-06-30, 1341.0)   9.715651\n",
       " (2023-06-30, 1342.0)   9.715651\n",
       " (2023-06-30, 1343.0)   9.715651\n",
       " (2023-06-30, 1344.0)   9.715651\n",
       " \n",
       " [208657 rows x 1 columns],\n",
       " 'QWF':                              0\n",
       " (2022-04-27, 903.0)   8.497573\n",
       " (2022-04-27, 904.0)   8.497181\n",
       " (2022-04-27, 905.0)   8.499135\n",
       " (2022-04-27, 906.0)   8.504887\n",
       " (2022-04-27, 907.0)   8.503460\n",
       " ...                        ...\n",
       " (2023-06-30, 1339.0)  8.997766\n",
       " (2023-06-30, 1340.0)  8.997766\n",
       " (2023-06-30, 1341.0)  8.997766\n",
       " (2023-06-30, 1343.0)  8.997766\n",
       " (2023-06-30, 1344.0)  8.997353\n",
       " \n",
       " [77326 rows x 1 columns],\n",
       " 'DBF':                              0\n",
       " (2022-08-31, 845.0)   7.709569\n",
       " (2022-08-31, 846.0)   7.707961\n",
       " (2022-08-31, 847.0)   7.709476\n",
       " (2022-08-31, 848.0)   7.709475\n",
       " (2022-08-31, 849.0)   7.706647\n",
       " ...                        ...\n",
       " (2023-06-30, 1340.0)  7.874739\n",
       " (2023-06-30, 1341.0)  7.874739\n",
       " (2023-06-30, 1342.0)  7.875689\n",
       " (2023-06-30, 1343.0)  7.875689\n",
       " (2023-06-30, 1344.0)  7.875452\n",
       " \n",
       " [51082 rows x 1 columns],\n",
       " 'HCF':                              0\n",
       " (2020-07-01, 845.0)   8.120438\n",
       " (2020-07-01, 846.0)   8.119392\n",
       " (2020-07-01, 847.0)   8.118951\n",
       " (2020-07-01, 848.0)   8.113843\n",
       " (2020-07-01, 849.0)   8.114125\n",
       " ...                        ...\n",
       " (2023-06-30, 1340.0)  8.652161\n",
       " (2023-06-30, 1341.0)  8.653471\n",
       " (2023-06-30, 1342.0)  8.654343\n",
       " (2023-06-30, 1343.0)  8.653969\n",
       " (2023-06-30, 1344.0)  8.653362\n",
       " \n",
       " [206530 rows x 1 columns]}"
      ]
     },
     "metadata": {},
     "execution_count": 11
    }
   ]
  },
  {
   "cell_type": "code",
   "source": [
    "spreads = {}\n",
    "for futures in futuresData.keys():\n",
    "  spreads[futures] = (stockPriceOneMinute[tradingPairs[futures]] - futuresPriceOneMinute[futures]).dropna()\n"
   ],
   "metadata": {
    "id": "WZ7W9pWbl9gI"
   },
   "execution_count": 12,
   "outputs": []
  },
  {
   "cell_type": "code",
   "source": [
    "for name in spreads.keys():\n",
    "  with open('/content/drive/MyDrive/Colab Notebooks/Independent project_2023 Summer/spreadData/' + name + '_spread.csv', 'w', encoding = 'utf-8-sig') as f:\n",
    "    spreads[name].to_csv(f)"
   ],
   "metadata": {
    "id": "P3wx627fHV2F"
   },
   "execution_count": 19,
   "outputs": []
  },
  {
   "cell_type": "code",
   "source": [],
   "metadata": {
    "id": "ratoG2DSHV4h"
   },
   "execution_count": 13,
   "outputs": []
  },
  {
   "cell_type": "code",
   "source": [
    "from matplotlib import pyplot\n",
    "from pandas.plotting import lag_plot\n",
    "from pandas.plotting import autocorrelation_plot"
   ],
   "metadata": {
    "id": "VvZiLZsfHV6l"
   },
   "execution_count": 24,
   "outputs": []
  },
  {
   "cell_type": "code",
   "source": [
    "series = pd.read_csv('/content/drive/MyDrive/Colab Notebooks/Independent project_2023 Summer/spreadData/DBF_spread.csv', header=0, index_col=0)\n",
    "lag_plot(series)\n",
    "autocorrelation_plot(series)\n",
    "pyplot.show()"
   ],
   "metadata": {
    "colab": {
     "base_uri": "https://localhost:8080/",
     "height": 455
    },
    "id": "VWz9Jmkp-VNV",
    "outputId": "38cec5de-9dcc-42c1-89ae-25af41d125d5"
   },
   "execution_count": 25,
   "outputs": [
    {
     "output_type": "display_data",
     "data": {
      "text/plain": [
       "<Figure size 640x480 with 1 Axes>"
      ],
      "image/png": "[encoded data removed]"
     },
     "metadata": {}
    }
   ]
  }
 ]
}
