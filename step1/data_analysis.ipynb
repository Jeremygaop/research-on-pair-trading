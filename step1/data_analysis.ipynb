{
 "nbformat": 4,
 "nbformat_minor": 0,
 "metadata": {
  "colab": {
   "provenance": []
  },
  "kernelspec": {
   "name": "python3",
   "display_name": "Python 3"
  },
  "language_info": {
   "name": "python"
  }
 },
 "cells": [
  {
   "cell_type": "code",
   "source": [
    "import pandas as pd\n",
    "import os\n",
    "import numpy as np\n",
    "from tqdm import tqdm"
   ],
   "metadata": {
    "id": "aA2bRJ6T65CP"
   },
   "execution_count": 22,
   "outputs": []
  },
  {
   "cell_type": "code",
   "source": [
    "tradingPairs = {'JBF':'3443','QWF':'2388','HCF':'2498','DBF':'2610','EHF':'1319','IPF':'3035','IIF':'3006','QXF':'2615','PEF':'5425','NAF':'3105'}"
   ],
   "metadata": {
    "id": "P5_s0iwlFGLd"
   },
   "execution_count": 13,
   "outputs": []
  },
  {
   "cell_type": "code",
   "source": [
    "stockPath = \"../tickData/stocks\"\n",
    "stockFiles = os.listdir(stockPath)\n",
    "futuresPath = \"../tickData/futuresOB\"\n",
    "futuresFiles = os.listdir(futuresPath)\n",
    "stockFiles.remove('.DS_Store')\n",
    "futuresFiles.remove('.DS_Store')"
   ],
   "metadata": {
    "id": "6SYw61kYkShi"
   },
   "execution_count": 16,
   "outputs": []
  },
  {
   "cell_type": "code",
   "source": [
    "stockData = {}\n",
    "futuresData = {}\n",
    "for file in stockFiles:\n",
    "  stockData[file] = os.listdir(stockPath + '/' + file)\n",
    "for file in futuresFiles:\n",
    "  futuresData[file] = os.listdir(futuresPath + '/' + file)"
   ],
   "metadata": {
    "id": "CJbe1jBMlbB9"
   },
   "execution_count": 17,
   "outputs": []
  },
  {
   "cell_type": "code",
   "source": [
    "stockPriceOneMinute = {}\n",
    "futuresPriceOneMinute = {}"
   ],
   "metadata": {
    "id": "9gbjzhVbziL3"
   },
   "execution_count": 18,
   "outputs": []
  },
  {
   "cell_type": "code",
   "source": [
    "for stock in tqdm(stockData.keys()):\n",
    "  stockPriceOneMinute[stock] = pd.DataFrame()\n",
    "  for date in stockData[stock]:\n",
    "    stockTick = pd.read_csv(stockPath + '/' + stock + '/' + date, compression='gzip')\n",
    "    #Data processing\n",
    "    stockTick = stockTick[['date','time','SP1','BP1']].dropna()\n",
    "    stockTick = stockTick.loc[stockTick['SP1'] * stockTick['BP1'] != 0]\n",
    "    stockTick['midQuote'] = np.log(stockTick[['SP1','BP1']].mean(axis=1))\n",
    "    # past 5 min average\n",
    "    stockTick['time'] = (stockTick['time'] +(500000- stockTick['time'] % 500000)) / 100000\n",
    "    stockPrice = stockTick[['date','time','midQuote']]\n",
    "    stockPrice_ = stockPrice.groupby(['date','time'])['midQuote'].mean()\n",
    "    frames = [stockPriceOneMinute[stock], stockPrice_]\n",
    "    stockPriceOneMinute[stock] = pd.concat(frames)"
   ],
   "metadata": {
    "id": "7-9SjN9B0bJs"
   },
   "execution_count": 23,
   "outputs": [
    {
     "name": "stderr",
     "output_type": "stream",
     "text": [
      "100%|██████████| 10/10 [06:50<00:00, 41.06s/it]\n"
     ]
    }
   ]
  },
  {
   "cell_type": "code",
   "source": [
    "stockPriceOneMinute"
   ],
   "metadata": {
    "colab": {
     "base_uri": "https://localhost:8080/"
    },
    "id": "UFf6WzPR2utB",
    "outputId": "de459b37-9b47-44a4-db03-2eec3d4a5dc3"
   },
   "execution_count": 24,
   "outputs": [
    {
     "data": {
      "text/plain": "{'2610':                              0\n (2021-01-04, 905.0)   7.085059\n (2021-01-04, 910.0)   7.082524\n (2021-01-04, 915.0)   7.080253\n (2021-01-04, 920.0)   7.069086\n (2021-01-04, 925.0)   7.069425\n ...                        ...\n (2020-08-31, 1305.0)  6.759672\n (2020-08-31, 1310.0)  6.759575\n (2020-08-31, 1315.0)  6.758770\n (2020-08-31, 1320.0)  6.759022\n (2020-08-31, 1325.0)  6.758656\n \n [19565 rows x 1 columns],\n '3105':                               0\n (2021-07-01, 905.0)   10.539400\n (2021-07-01, 910.0)   10.537517\n (2021-07-01, 915.0)   10.536501\n (2021-07-01, 920.0)   10.535168\n (2021-07-01, 925.0)   10.535526\n ...                         ...\n (2021-10-29, 1060.0)  10.479087\n (2021-10-29, 1105.0)  10.478926\n (2021-10-29, 1110.0)  10.479344\n (2021-10-29, 1115.0)  10.480751\n (2021-10-29, 1120.0)  10.481948\n \n [23393 rows x 1 columns],\n '1319':                              0\n (2020-10-05, 905.0)   8.187993\n (2020-10-05, 910.0)   8.193085\n (2020-10-05, 915.0)   8.194359\n (2020-10-05, 920.0)   8.195660\n (2020-10-05, 925.0)   8.200176\n ...                        ...\n (2023-02-24, 1305.0)  8.383090\n (2023-02-24, 1310.0)  8.383090\n (2023-02-24, 1315.0)  8.383090\n (2023-02-24, 1320.0)  8.383557\n (2023-02-24, 1325.0)  8.384816\n \n [38507 rows x 1 columns],\n '3006':                              0\n (2022-04-01, 905.0)   9.663588\n (2022-04-01, 910.0)   9.666170\n (2022-04-01, 915.0)   9.668255\n (2022-04-01, 920.0)   9.672306\n (2022-04-01, 925.0)   9.674481\n ...                        ...\n (2021-06-29, 1305.0)  9.632135\n (2021-06-29, 1310.0)  9.630762\n (2021-06-29, 1315.0)  9.632569\n (2021-06-29, 1320.0)  9.630694\n (2021-06-29, 1325.0)  9.627976\n \n [18359 rows x 1 columns],\n '2498':                              0\n (2021-01-04, 905.0)   8.030227\n (2021-01-04, 910.0)   8.032390\n (2021-01-04, 915.0)   8.034623\n (2021-01-04, 920.0)   8.033905\n (2021-01-04, 925.0)   8.029266\n ...                        ...\n (2020-08-31, 1305.0)  8.025343\n (2020-08-31, 1310.0)  8.022327\n (2020-08-31, 1315.0)  8.021033\n (2020-08-31, 1320.0)  8.021153\n (2020-08-31, 1325.0)  8.019434\n \n [37715 rows x 1 columns],\n '2615':                              0\n (2022-08-01, 905.0)   9.265094\n (2022-08-01, 910.0)   9.258768\n (2022-08-01, 915.0)   9.261376\n (2022-08-01, 920.0)   9.263839\n (2022-08-01, 925.0)   9.275348\n ...                        ...\n (2023-04-28, 1305.0)  8.779405\n (2023-04-28, 1310.0)  8.780709\n (2023-04-28, 1315.0)  8.780326\n (2023-04-28, 1320.0)  8.778925\n (2023-04-28, 1325.0)  8.777256\n \n [26821 rows x 1 columns],\n '3443':                               0\n (2021-04-01, 905.0)   10.604163\n (2021-04-01, 910.0)   10.601270\n (2021-04-01, 915.0)   10.601373\n (2021-04-01, 920.0)   10.599830\n (2021-04-01, 925.0)   10.597803\n ...                         ...\n (2020-07-31, 1305.0)  10.278196\n (2020-07-31, 1310.0)  10.277574\n (2020-07-31, 1315.0)  10.277236\n (2020-07-31, 1320.0)  10.278472\n (2020-07-31, 1325.0)  10.279906\n \n [37905 rows x 1 columns],\n '2388':                              0\n (2022-05-03, 905.0)   8.506484\n (2022-05-03, 910.0)   8.509244\n (2022-05-03, 915.0)   8.509203\n (2022-05-03, 920.0)   8.506211\n (2022-05-03, 925.0)   8.511588\n ...                        ...\n (2022-12-30, 1305.0)  8.831016\n (2022-12-30, 1310.0)  8.828933\n (2022-12-30, 1315.0)  8.827584\n (2022-12-30, 1320.0)  8.827495\n (2022-12-30, 1325.0)  8.820887\n \n [26320 rows x 1 columns],\n '3035':                              0\n (2023-02-01, 905.0)   9.749663\n (2023-02-01, 910.0)   9.748403\n (2023-02-01, 915.0)   9.747095\n (2023-02-01, 920.0)   9.743621\n (2023-02-01, 925.0)   9.740574\n ...                        ...\n (2022-11-30, 1305.0)  9.733589\n (2022-11-30, 1310.0)  9.733589\n (2022-11-30, 1315.0)  9.733589\n (2022-11-30, 1320.0)  9.733589\n (2022-11-30, 1325.0)  9.733589\n \n [15641 rows x 1 columns],\n '5425':                              0\n (2023-01-03, 905.0)   8.916702\n (2023-01-03, 910.0)   8.918194\n (2023-01-03, 915.0)   8.916784\n (2023-01-03, 920.0)   8.916950\n (2023-01-03, 925.0)   8.916702\n ...                        ...\n (2022-02-25, 1305.0)  8.829250\n (2022-02-25, 1310.0)  8.827428\n (2022-02-25, 1315.0)  8.827206\n (2022-02-25, 1320.0)  8.827350\n (2022-02-25, 1325.0)  8.826152\n \n [38214 rows x 1 columns]}"
     },
     "execution_count": 24,
     "metadata": {},
     "output_type": "execute_result"
    }
   ]
  },
  {
   "cell_type": "code",
   "source": [
    "for futures in tqdm(futuresData.keys()):\n",
    "  futuresPriceOneMinute[futures] = pd.DataFrame()\n",
    "  for date in futuresData[futures]:\n",
    "    futuresTick = pd.read_csv(futuresPath + '/' + futures + '/' + date)\n",
    "    #Data processing\n",
    "    futuresTick = futuresTick[['date','time','askPrice1','bidPrice1']].dropna()\n",
    "    futuresTick = futuresTick.loc[futuresTick['askPrice1'] * futuresTick['bidPrice1'] != 0]\n",
    "    futuresTick['midQuote'] = np.log(futuresTick[['askPrice1','bidPrice1']].mean(axis=1))\n",
    "    # past 5 min average\n",
    "    futuresTick['time'] = (futuresTick['time'] + (500000 - futuresTick['time'] % 500000)) / 100000\n",
    "    futuresPrice = futuresTick[['date','time','midQuote']]\n",
    "    futuresPrice_ = futuresPrice.groupby(['date','time'])['midQuote'].mean()\n",
    "    frames = [futuresPriceOneMinute[futures], futuresPrice_]\n",
    "    futuresPriceOneMinute[futures] = pd.concat(frames)"
   ],
   "metadata": {
    "colab": {
     "base_uri": "https://localhost:8080/"
    },
    "id": "gxCcfvgYCNBE",
    "outputId": "8108746b-bdd7-417e-8247-d4b5c23354cd"
   },
   "execution_count": 25,
   "outputs": [
    {
     "name": "stderr",
     "output_type": "stream",
     "text": [
      "100%|██████████| 10/10 [01:34<00:00,  9.45s/it]\n"
     ]
    }
   ]
  },
  {
   "cell_type": "code",
   "source": [
    "futuresPriceOneMinute"
   ],
   "metadata": {
    "colab": {
     "base_uri": "https://localhost:8080/"
    },
    "id": "67mft_y_D6Cs",
    "outputId": "f96b25ce-9a8b-4545-fb9c-76ee2739d278"
   },
   "execution_count": 26,
   "outputs": [
    {
     "data": {
      "text/plain": "{'IPF':                               0\n (2022-01-03, 850.0)   10.078170\n (2022-01-03, 855.0)   10.075684\n (2022-01-03, 860.0)   10.074769\n (2022-01-03, 905.0)   10.079376\n (2022-01-03, 910.0)   10.075199\n ...                         ...\n (2021-12-30, 1325.0)  10.079125\n (2021-12-30, 1330.0)  10.077744\n (2021-12-30, 1335.0)  10.079717\n (2021-12-30, 1340.0)  10.078491\n (2021-12-30, 1345.0)  10.077362\n \n [23682 rows x 1 columns],\n 'HCF':                              0\n (2020-09-01, 850.0)   8.020617\n (2020-09-01, 855.0)   8.020332\n (2020-09-01, 860.0)   8.018789\n (2020-09-01, 905.0)   8.013317\n (2020-09-01, 910.0)   8.010273\n ...                        ...\n (2022-08-31, 1325.0)  8.729818\n (2022-08-31, 1330.0)  8.728688\n (2022-08-31, 1335.0)  8.733183\n (2022-08-31, 1340.0)  8.736007\n (2022-08-31, 1345.0)  8.736493\n \n [43168 rows x 1 columns],\n 'DBF':                              0\n (2022-08-31, 850.0)   7.708260\n (2022-08-31, 855.0)   7.706721\n (2022-08-31, 860.0)   7.705261\n (2022-08-31, 905.0)   7.705539\n (2022-08-31, 910.0)   7.710863\n ...                        ...\n (2023-01-31, 1325.0)  7.563979\n (2023-01-31, 1330.0)  7.563979\n (2023-01-31, 1335.0)  7.564368\n (2023-01-31, 1340.0)  7.565679\n (2023-01-31, 1345.0)  7.564929\n \n [11653 rows x 1 columns],\n 'JBF':                               0\n (2022-10-03, 850.0)   10.967221\n (2022-10-03, 855.0)   10.972106\n (2022-10-03, 860.0)   10.968318\n (2022-10-03, 905.0)   10.967003\n (2022-10-03, 910.0)   10.969082\n ...                         ...\n (2023-03-31, 1330.0)  11.592199\n (2023-03-31, 1335.0)  11.592199\n (2023-03-31, 1340.0)  11.594240\n (2023-03-31, 1345.0)  11.596807\n (2023-03-31, 1350.0)  11.596807\n \n [27881 rows x 1 columns],\n 'NAF':                               0\n (2020-08-03, 850.0)   10.366784\n (2020-08-03, 855.0)   10.364860\n (2020-08-03, 860.0)   10.365349\n (2020-08-03, 905.0)   10.362376\n (2020-08-03, 910.0)   10.365554\n ...                         ...\n (2020-11-30, 1325.0)  10.418918\n (2020-11-30, 1330.0)  10.418963\n (2020-11-30, 1335.0)  10.418601\n (2020-11-30, 1340.0)  10.419514\n (2020-11-30, 1345.0)  10.418711\n \n [7537 rows x 1 columns],\n 'QWF':                              0\n (2022-08-01, 850.0)   8.900138\n (2022-08-01, 855.0)   8.901669\n (2022-08-01, 860.0)   8.903946\n (2022-08-01, 905.0)   8.901502\n (2022-08-01, 910.0)   8.906325\n ...                        ...\n (2022-04-29, 1305.0)  8.510426\n (2022-04-29, 1310.0)  8.510147\n (2022-04-29, 1315.0)  8.509550\n (2022-04-29, 1320.0)  8.507361\n (2022-04-29, 1325.0)  8.504450\n \n [16200 rows x 1 columns],\n 'EHF':                              0\n (2021-10-01, 905.0)   8.102147\n (2021-10-01, 910.0)   8.104692\n (2021-10-01, 915.0)   8.104703\n (2021-10-01, 940.0)   8.104938\n (2021-10-01, 950.0)   8.109329\n ...                        ...\n (2022-03-31, 1320.0)  8.072175\n (2022-03-31, 1325.0)  8.072350\n (2022-03-31, 1335.0)  8.107343\n (2022-03-31, 1340.0)  8.105836\n (2022-03-31, 1345.0)  8.104703\n \n [39988 rows x 1 columns],\n 'PEF':                              0\n (2021-01-04, 850.0)   8.739701\n (2021-01-04, 855.0)   8.736893\n (2021-01-04, 860.0)   8.739586\n (2021-01-04, 905.0)   8.747464\n (2021-01-04, 910.0)   8.747701\n ...                        ...\n (2021-02-26, 1325.0)  8.633853\n (2021-02-26, 1330.0)  8.633419\n (2021-02-26, 1335.0)  8.630968\n (2021-02-26, 1340.0)  8.629926\n (2021-02-26, 1345.0)  8.628063\n \n [43003 rows x 1 columns],\n 'QXF':                              0\n (2023-03-01, 850.0)   8.978920\n (2023-03-01, 855.0)   8.977260\n (2023-03-01, 860.0)   8.979441\n (2023-03-01, 905.0)   8.979121\n (2023-03-01, 910.0)   8.967640\n ...                        ...\n (2023-04-28, 1325.0)  8.777320\n (2023-04-28, 1330.0)  8.777020\n (2023-04-28, 1335.0)  8.776630\n (2023-04-28, 1340.0)  8.777247\n (2023-04-28, 1345.0)  8.776572\n \n [17010 rows x 1 columns],\n 'IIF':                              0\n (2021-10-01, 850.0)   9.455603\n (2021-10-01, 855.0)   9.453539\n (2021-10-01, 860.0)   9.452934\n (2021-10-01, 905.0)   9.454282\n (2021-10-01, 910.0)   9.452104\n ...                        ...\n (2022-03-31, 1325.0)  9.676709\n (2022-03-31, 1330.0)  9.675563\n (2022-03-31, 1335.0)  9.672846\n (2022-03-31, 1340.0)  9.669289\n (2022-03-31, 1345.0)  9.669346\n \n [21280 rows x 1 columns]}"
     },
     "execution_count": 26,
     "metadata": {},
     "output_type": "execute_result"
    }
   ]
  },
  {
   "cell_type": "code",
   "source": [
    "spreads = {}\n",
    "for futures in futuresData.keys():\n",
    "  spreads[futures] = (stockPriceOneMinute[tradingPairs[futures]] - futuresPriceOneMinute[futures]).dropna()\n"
   ],
   "metadata": {
    "id": "WZ7W9pWbl9gI"
   },
   "execution_count": 27,
   "outputs": []
  },
  {
   "cell_type": "code",
   "source": [
    "for name in spreads.keys():\n",
    "  spreads[name].to_csv('../tickData/spreadData/' + name + '_spread.csv')"
   ],
   "metadata": {
    "id": "P3wx627fHV2F"
   },
   "execution_count": 33,
   "outputs": []
  },
  {
   "cell_type": "code",
   "source": [
    "from matplotlib import pyplot\n",
    "from pandas.plotting import lag_plot\n",
    "from pandas.plotting import autocorrelation_plot"
   ],
   "metadata": {
    "id": "VvZiLZsfHV6l"
   },
   "execution_count": 31,
   "outputs": []
  },
  {
   "cell_type": "code",
   "source": [
    "series = pd.read_csv('../tickData/spreadData/DBF_spread.csv', header=0, index_col=0)\n",
    "lag_plot(series)\n",
    "autocorrelation_plot(series)\n",
    "pyplot.show()"
   ],
   "metadata": {
    "colab": {
     "base_uri": "https://localhost:8080/",
     "height": 455
    },
    "id": "VWz9Jmkp-VNV",
    "outputId": "38cec5de-9dcc-42c1-89ae-25af41d125d5"
   },
   "execution_count": 34,
   "outputs": [
    {
     "data": {
      "text/plain": "<Figure size 640x480 with 1 Axes>",
      "image/png": "[encoded data removed]"
     },
     "metadata": {},
     "output_type": "display_data"
    }
   ]
  },
  {
   "cell_type": "code",
   "execution_count": null,
   "outputs": [],
   "source": [],
   "metadata": {
    "collapsed": false
   }
  }
 ]
}
