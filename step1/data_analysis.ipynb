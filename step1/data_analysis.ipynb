{
 "nbformat": 4,
 "nbformat_minor": 0,
 "metadata": {
  "colab": {
   "provenance": []
  },
  "kernelspec": {
   "name": "python3",
   "display_name": "Python 3"
  },
  "language_info": {
   "name": "python"
  }
 },
 "cells": [
  {
   "cell_type": "code",
   "execution_count": 1,
   "outputs": [],
   "source": [
    "import pandas as pd\n",
    "import os\n",
    "import numpy as np\n",
    "from tqdm import tqdm"
   ],
   "metadata": {
    "collapsed": false
   }
  },
  {
   "cell_type": "code",
   "source": [
    "tradingPairs = {'JBF':'3443','QWF':'2388','HCF':'2498','DBF':'2610','EHF':'1319','IPF':'3035','IIF':'3006','QXF':'2615','PEF':'5425','NAF':'3105'}"
   ],
   "metadata": {
    "id": "P5_s0iwlFGLd"
   },
   "execution_count": 2,
   "outputs": []
  },
  {
   "cell_type": "code",
   "source": [
    "stockPath = \"../tickData/stocks\"\n",
    "stockFiles = os.listdir(stockPath)\n",
    "futuresPath = \"../tickData/futuresOB\"\n",
    "futuresFiles = os.listdir(futuresPath)\n",
    "stockFiles.remove('.DS_Store')\n",
    "futuresFiles.remove('.DS_Store')"
   ],
   "metadata": {
    "id": "6SYw61kYkShi"
   },
   "execution_count": 3,
   "outputs": []
  },
  {
   "cell_type": "code",
   "source": [
    "stockData = {}\n",
    "futuresData = {}\n",
    "for file in stockFiles:\n",
    "  stockData[file] = os.listdir(stockPath + '/' + file)\n",
    "for file in futuresFiles:\n",
    "  futuresData[file] = os.listdir(futuresPath + '/' + file)"
   ],
   "metadata": {
    "id": "CJbe1jBMlbB9"
   },
   "execution_count": 4,
   "outputs": []
  },
  {
   "cell_type": "code",
   "execution_count": 5,
   "outputs": [
    {
     "data": {
      "text/plain": "       Unnamed: 0        date       time  lastPx  size  volume     SP5  \\\n0               0  2020-07-01   90023105  3670.0   5.0       5  3700.0   \n1               1  2020-07-01   90025201     NaN   NaN       5  3700.0   \n2               2  2020-07-01   90035492  3670.0   1.0       6  3700.0   \n3               3  2020-07-01   90039927     NaN   NaN       6  3700.0   \n4               4  2020-07-01   90053917  3670.0   5.0      11  3700.0   \n...           ...         ...        ...     ...   ...     ...     ...   \n43440         960  2020-07-31  132431079  3450.0   3.0     290  3480.0   \n43441         961  2020-07-31  132431141     NaN   NaN     290  3480.0   \n43442         962  2020-07-31  132432238     NaN   NaN     290  3480.0   \n43443         963  2020-07-31  132441213  3455.0   1.0     291  3480.0   \n43444         964  2020-07-31  132445337     NaN   NaN     291  3480.0   \n\n          SP4     SP3     SP2  ...  SV5  SV4  SV3  SV2  SV1  BV1  BV2  BV3  \\\n0      3695.0  3690.0  3680.0  ...   14    3    1    1    8    1    7   20   \n1      3695.0  3690.0  3680.0  ...   14    4    1    1    8    1    7   20   \n2      3695.0  3690.0  3680.0  ...   14    4    1    1    7    1    7   20   \n3      3695.0  3690.0  3680.0  ...   14    4    1    1    7    1    9   20   \n4      3695.0  3690.0  3680.0  ...   14    4    1    1    2    1    9   20   \n...       ...     ...     ...  ...  ...  ...  ...  ...  ...  ...  ...  ...   \n43440  3475.0  3470.0  3465.0  ...   20    4   44    5   24   13    4    7   \n43441  3475.0  3470.0  3465.0  ...   18    4   44    5   24   13    4    7   \n43442  3475.0  3470.0  3465.0  ...   18    4   44    5   24    3   13    4   \n43443  3475.0  3470.0  3465.0  ...   18    4   44    5   24    2   13    4   \n43444  3475.0  3470.0  3465.0  ...   18    4   44    5   21    2   13    4   \n\n       BV4  BV5  \n0       21    3  \n1       21    3  \n2       21    3  \n3       21    3  \n4       21    3  \n...    ...  ...  \n43440    6   24  \n43441    6   24  \n43442    7    6  \n43443    7    6  \n43444    7    6  \n\n[43445 rows x 26 columns]",
      "text/html": "<div>\n<style scoped>\n    .dataframe tbody tr th:only-of-type {\n        vertical-align: middle;\n    }\n\n    .dataframe tbody tr th {\n        vertical-align: top;\n    }\n\n    .dataframe thead th {\n        text-align: right;\n    }\n</style>\n<table border=\"1\" class=\"dataframe\">\n  <thead>\n    <tr style=\"text-align: right;\">\n      <th></th>\n      <th>Unnamed: 0</th>\n      <th>date</th>\n      <th>time</th>\n      <th>lastPx</th>\n      <th>size</th>\n      <th>volume</th>\n      <th>SP5</th>\n      <th>SP4</th>\n      <th>SP3</th>\n      <th>SP2</th>\n      <th>...</th>\n      <th>SV5</th>\n      <th>SV4</th>\n      <th>SV3</th>\n      <th>SV2</th>\n      <th>SV1</th>\n      <th>BV1</th>\n      <th>BV2</th>\n      <th>BV3</th>\n      <th>BV4</th>\n      <th>BV5</th>\n    </tr>\n  </thead>\n  <tbody>\n    <tr>\n      <th>0</th>\n      <td>0</td>\n      <td>2020-07-01</td>\n      <td>90023105</td>\n      <td>3670.0</td>\n      <td>5.0</td>\n      <td>5</td>\n      <td>3700.0</td>\n      <td>3695.0</td>\n      <td>3690.0</td>\n      <td>3680.0</td>\n      <td>...</td>\n      <td>14</td>\n      <td>3</td>\n      <td>1</td>\n      <td>1</td>\n      <td>8</td>\n      <td>1</td>\n      <td>7</td>\n      <td>20</td>\n      <td>21</td>\n      <td>3</td>\n    </tr>\n    <tr>\n      <th>1</th>\n      <td>1</td>\n      <td>2020-07-01</td>\n      <td>90025201</td>\n      <td>NaN</td>\n      <td>NaN</td>\n      <td>5</td>\n      <td>3700.0</td>\n      <td>3695.0</td>\n      <td>3690.0</td>\n      <td>3680.0</td>\n      <td>...</td>\n      <td>14</td>\n      <td>4</td>\n      <td>1</td>\n      <td>1</td>\n      <td>8</td>\n      <td>1</td>\n      <td>7</td>\n      <td>20</td>\n      <td>21</td>\n      <td>3</td>\n    </tr>\n    <tr>\n      <th>2</th>\n      <td>2</td>\n      <td>2020-07-01</td>\n      <td>90035492</td>\n      <td>3670.0</td>\n      <td>1.0</td>\n      <td>6</td>\n      <td>3700.0</td>\n      <td>3695.0</td>\n      <td>3690.0</td>\n      <td>3680.0</td>\n      <td>...</td>\n      <td>14</td>\n      <td>4</td>\n      <td>1</td>\n      <td>1</td>\n      <td>7</td>\n      <td>1</td>\n      <td>7</td>\n      <td>20</td>\n      <td>21</td>\n      <td>3</td>\n    </tr>\n    <tr>\n      <th>3</th>\n      <td>3</td>\n      <td>2020-07-01</td>\n      <td>90039927</td>\n      <td>NaN</td>\n      <td>NaN</td>\n      <td>6</td>\n      <td>3700.0</td>\n      <td>3695.0</td>\n      <td>3690.0</td>\n      <td>3680.0</td>\n      <td>...</td>\n      <td>14</td>\n      <td>4</td>\n      <td>1</td>\n      <td>1</td>\n      <td>7</td>\n      <td>1</td>\n      <td>9</td>\n      <td>20</td>\n      <td>21</td>\n      <td>3</td>\n    </tr>\n    <tr>\n      <th>4</th>\n      <td>4</td>\n      <td>2020-07-01</td>\n      <td>90053917</td>\n      <td>3670.0</td>\n      <td>5.0</td>\n      <td>11</td>\n      <td>3700.0</td>\n      <td>3695.0</td>\n      <td>3690.0</td>\n      <td>3680.0</td>\n      <td>...</td>\n      <td>14</td>\n      <td>4</td>\n      <td>1</td>\n      <td>1</td>\n      <td>2</td>\n      <td>1</td>\n      <td>9</td>\n      <td>20</td>\n      <td>21</td>\n      <td>3</td>\n    </tr>\n    <tr>\n      <th>...</th>\n      <td>...</td>\n      <td>...</td>\n      <td>...</td>\n      <td>...</td>\n      <td>...</td>\n      <td>...</td>\n      <td>...</td>\n      <td>...</td>\n      <td>...</td>\n      <td>...</td>\n      <td>...</td>\n      <td>...</td>\n      <td>...</td>\n      <td>...</td>\n      <td>...</td>\n      <td>...</td>\n      <td>...</td>\n      <td>...</td>\n      <td>...</td>\n      <td>...</td>\n      <td>...</td>\n    </tr>\n    <tr>\n      <th>43440</th>\n      <td>960</td>\n      <td>2020-07-31</td>\n      <td>132431079</td>\n      <td>3450.0</td>\n      <td>3.0</td>\n      <td>290</td>\n      <td>3480.0</td>\n      <td>3475.0</td>\n      <td>3470.0</td>\n      <td>3465.0</td>\n      <td>...</td>\n      <td>20</td>\n      <td>4</td>\n      <td>44</td>\n      <td>5</td>\n      <td>24</td>\n      <td>13</td>\n      <td>4</td>\n      <td>7</td>\n      <td>6</td>\n      <td>24</td>\n    </tr>\n    <tr>\n      <th>43441</th>\n      <td>961</td>\n      <td>2020-07-31</td>\n      <td>132431141</td>\n      <td>NaN</td>\n      <td>NaN</td>\n      <td>290</td>\n      <td>3480.0</td>\n      <td>3475.0</td>\n      <td>3470.0</td>\n      <td>3465.0</td>\n      <td>...</td>\n      <td>18</td>\n      <td>4</td>\n      <td>44</td>\n      <td>5</td>\n      <td>24</td>\n      <td>13</td>\n      <td>4</td>\n      <td>7</td>\n      <td>6</td>\n      <td>24</td>\n    </tr>\n    <tr>\n      <th>43442</th>\n      <td>962</td>\n      <td>2020-07-31</td>\n      <td>132432238</td>\n      <td>NaN</td>\n      <td>NaN</td>\n      <td>290</td>\n      <td>3480.0</td>\n      <td>3475.0</td>\n      <td>3470.0</td>\n      <td>3465.0</td>\n      <td>...</td>\n      <td>18</td>\n      <td>4</td>\n      <td>44</td>\n      <td>5</td>\n      <td>24</td>\n      <td>3</td>\n      <td>13</td>\n      <td>4</td>\n      <td>7</td>\n      <td>6</td>\n    </tr>\n    <tr>\n      <th>43443</th>\n      <td>963</td>\n      <td>2020-07-31</td>\n      <td>132441213</td>\n      <td>3455.0</td>\n      <td>1.0</td>\n      <td>291</td>\n      <td>3480.0</td>\n      <td>3475.0</td>\n      <td>3470.0</td>\n      <td>3465.0</td>\n      <td>...</td>\n      <td>18</td>\n      <td>4</td>\n      <td>44</td>\n      <td>5</td>\n      <td>24</td>\n      <td>2</td>\n      <td>13</td>\n      <td>4</td>\n      <td>7</td>\n      <td>6</td>\n    </tr>\n    <tr>\n      <th>43444</th>\n      <td>964</td>\n      <td>2020-07-31</td>\n      <td>132445337</td>\n      <td>NaN</td>\n      <td>NaN</td>\n      <td>291</td>\n      <td>3480.0</td>\n      <td>3475.0</td>\n      <td>3470.0</td>\n      <td>3465.0</td>\n      <td>...</td>\n      <td>18</td>\n      <td>4</td>\n      <td>44</td>\n      <td>5</td>\n      <td>21</td>\n      <td>2</td>\n      <td>13</td>\n      <td>4</td>\n      <td>7</td>\n      <td>6</td>\n    </tr>\n  </tbody>\n</table>\n<p>43445 rows × 26 columns</p>\n</div>"
     },
     "execution_count": 5,
     "metadata": {},
     "output_type": "execute_result"
    }
   ],
   "source": [
    "stockTick = pd.read_csv('/Users/jeremyg/Documents/GitHub/SummerIndependentProject/tickData/stocks/1319/1319_md_202007_202007.csv.gz', compression='gzip')\n",
    "stockTick"
   ],
   "metadata": {
    "collapsed": false
   }
  },
  {
   "cell_type": "code",
   "source": [
    "stockPriceFiveMinute = {}\n",
    "futuresPriceFiveMinute = {}"
   ],
   "metadata": {
    "id": "9gbjzhVbziL3"
   },
   "execution_count": 6,
   "outputs": []
  },
  {
   "cell_type": "code",
   "source": [
    "for stock in tqdm(stockData.keys()):\n",
    "  stockPriceFiveMinute[stock] = pd.DataFrame()\n",
    "  for date in stockData[stock]:\n",
    "    stockTick = pd.read_csv(stockPath + '/' + stock + '/' + date, compression='gzip')\n",
    "    #Data processing\n",
    "    stockTick = stockTick.loc[stockTick['SP1'] * stockTick['BP1'] != 0]\n",
    "    stockTick['date'] = pd.to_datetime(stockTick['date'], format=\"%Y-%m-%d\")\n",
    "    # get the column 'SP1','BP1' and calculate the mid quote\n",
    "    stockTick['midQuote'] = np.log(stockTick[['SP1','BP1']].mean(axis=1))\n",
    "    # set a timestamp every 5 min starting from 9:05, if the time is smaller than the tim\n",
    "    stockTick['new_time'] =  stockTick['time'] +(500000- stockTick['time'] % 500000)\n",
    "    # if the last 7 digits in new_time == 6000000, then add 4000000 to new_time\n",
    "    stockTick['new_time'] = stockTick['new_time'] + (stockTick['new_time'] % 10000000 == 6000000) * 4000000\n",
    "    stockTick['TimeStamp'] = pd.to_datetime(stockTick.date.astype(str) + ' ' + stockTick.new_time.astype(str), format=\"%Y-%m-%d %H%M%S%f\")\n",
    "    stockTick['Stock_Ask_Bid_Price_Depth_Ratio'] = (stockTick['SP5']- stockTick['SP1'])/ (stockTick['BP1']- stockTick['BP5'])\n",
    "    ask_vol = stockTick[['SV1','SV2','SV3','SV4','SV5']].sum(axis=1)\n",
    "    bid_vol = stockTick[['BV1','BV2','BV3','BV4','BV5']].sum(axis=1)\n",
    "    stockTick['Stock_Ask_Bid_Total_Volume_Ratio'] = ask_vol/bid_vol\n",
    "    stockPrice = stockTick[['TimeStamp','midQuote',  'volume', 'Stock_Ask_Bid_Price_Depth_Ratio', 'Stock_Ask_Bid_Total_Volume_Ratio']]\n",
    "    stockPrice_ = stockPrice.groupby(['TimeStamp']).mean()\n",
    "    stockPriceFiveMinute[stock] = pd.concat([stockPriceFiveMinute[stock], stockPrice_], axis=0)\n",
    "  stockPriceFiveMinute[stock] = stockPriceFiveMinute[stock].sort_index()"
   ],
   "metadata": {
    "id": "7-9SjN9B0bJs"
   },
   "execution_count": 7,
   "outputs": [
    {
     "name": "stderr",
     "output_type": "stream",
     "text": [
      "100%|██████████| 10/10 [11:24<00:00, 68.49s/it]\n"
     ]
    }
   ]
  },
  {
   "cell_type": "code",
   "source": [
    "stockPriceFiveMinute"
   ],
   "metadata": {
    "colab": {
     "base_uri": "https://localhost:8080/"
    },
    "id": "UFf6WzPR2utB",
    "outputId": "de459b37-9b47-44a4-db03-2eec3d4a5dc3"
   },
   "execution_count": 8,
   "outputs": [
    {
     "data": {
      "text/plain": "{'2610':                      midQuote        volume  Stock_Ask_Bid_Price_Depth_Ratio  \\\n TimeStamp                                                                      \n 2020-07-01 09:05:00  6.714164    133.897196                          1.00000   \n 2020-07-01 09:10:00  6.714296    220.728261                          0.93913   \n 2020-07-01 09:15:00  6.714030    302.317073                          1.00000   \n 2020-07-01 09:20:00  6.713130    375.428571                          1.00000   \n 2020-07-01 09:25:00  6.712315    459.378378                          1.00000   \n ...                       ...           ...                              ...   \n 2023-06-30 13:05:00  7.875689  49147.506127                          1.00000   \n 2023-06-30 13:10:00  7.875689  49947.885267                          1.00000   \n 2023-06-30 13:15:00  7.873951  51607.447162                          1.00000   \n 2023-06-30 13:20:00  7.873759  54236.161032                          1.00000   \n 2023-06-30 13:25:00  7.873561  56277.545146                          1.00000   \n \n                      Stock_Ask_Bid_Total_Volume_Ratio  \n TimeStamp                                              \n 2020-07-01 09:05:00                          0.342735  \n 2020-07-01 09:10:00                          0.658868  \n 2020-07-01 09:15:00                          0.668046  \n 2020-07-01 09:20:00                          0.531563  \n 2020-07-01 09:25:00                          0.498616  \n ...                                               ...  \n 2023-06-30 13:05:00                          0.722755  \n 2023-06-30 13:10:00                          0.709043  \n 2023-06-30 13:15:00                          0.677783  \n 2023-06-30 13:20:00                          0.688072  \n 2023-06-30 13:25:00                          0.635713  \n \n [19565 rows x 4 columns],\n '3105':                       midQuote       volume  Stock_Ask_Bid_Price_Depth_Ratio  \\\n TimeStamp                                                                      \n 2020-07-01 09:05:00  10.294498   547.025824                         1.001202   \n 2020-07-01 09:10:00  10.291701  1027.000000                         1.000000   \n 2020-07-01 09:15:00  10.294317  1246.355685                         1.000000   \n 2020-07-01 09:20:00  10.294270  1426.812925                         1.000000   \n 2020-07-01 09:25:00  10.293122  1607.288136                         1.000000   \n ...                        ...          ...                              ...   \n 2022-11-30 13:05:00   9.656627  1204.705882                         1.000000   \n 2022-11-30 13:10:00   9.655400  1266.624390                         1.000000   \n 2022-11-30 13:15:00   9.653422  1281.000000                         1.000000   \n 2022-11-30 13:20:00   9.654905  1312.678414                         1.000000   \n 2022-11-30 13:25:00   9.653422  1337.250000                         1.000000   \n \n                      Stock_Ask_Bid_Total_Volume_Ratio  \n TimeStamp                                              \n 2020-07-01 09:05:00                          0.914470  \n 2020-07-01 09:10:00                          0.675259  \n 2020-07-01 09:15:00                          0.858937  \n 2020-07-01 09:20:00                          0.746487  \n 2020-07-01 09:25:00                          0.528111  \n ...                                               ...  \n 2022-11-30 13:05:00                          1.003990  \n 2022-11-30 13:10:00                          1.171914  \n 2022-11-30 13:15:00                          1.107734  \n 2022-11-30 13:20:00                          1.256110  \n 2022-11-30 13:25:00                          1.061273  \n \n [23393 rows x 4 columns],\n '1319':                      midQuote       volume  Stock_Ask_Bid_Price_Depth_Ratio  \\\n TimeStamp                                                                     \n 2020-07-01 09:05:00  8.210555    18.863014                         1.055936   \n 2020-07-01 09:10:00  8.212392    40.041667                         0.984028   \n 2020-07-01 09:15:00  8.213847    80.447761                         1.026119   \n 2020-07-01 09:20:00  8.214604    97.916667                         1.000000   \n 2020-07-01 09:25:00  8.214241   112.038462                         1.000000   \n ...                       ...          ...                              ...   \n 2023-06-30 13:05:00  8.566935  1530.253521                         1.000000   \n 2023-06-30 13:10:00  8.565594  1599.563380                         1.000000   \n 2023-06-30 13:15:00  8.565031  1667.230769                         1.000000   \n 2023-06-30 13:20:00  8.566009  1794.543624                         1.000000   \n 2023-06-30 13:25:00  8.565422  1904.955696                         1.000000   \n \n                      Stock_Ask_Bid_Total_Volume_Ratio  \n TimeStamp                                              \n 2020-07-01 09:05:00                          0.550059  \n 2020-07-01 09:10:00                          0.857425  \n 2020-07-01 09:15:00                          1.015487  \n 2020-07-01 09:20:00                          1.003486  \n 2020-07-01 09:25:00                          1.596630  \n ...                                               ...  \n 2023-06-30 13:05:00                          1.020778  \n 2023-06-30 13:10:00                          0.908434  \n 2023-06-30 13:15:00                          0.843968  \n 2023-06-30 13:20:00                          0.974306  \n 2023-06-30 13:25:00                          0.838622  \n \n [38507 rows x 4 columns],\n '3006':                      midQuote       volume  Stock_Ask_Bid_Price_Depth_Ratio  \\\n TimeStamp                                                                     \n 2020-07-01 09:05:00  8.266031    26.301587                         1.047619   \n 2020-07-01 09:10:00  8.265259    67.203704                         1.000000   \n 2020-07-01 09:15:00  8.265139   114.218750                         0.953125   \n 2020-07-01 09:20:00  8.264457   151.082707                         1.039850   \n 2020-07-01 09:25:00  8.264412   220.510345                         1.001724   \n ...                       ...          ...                              ...   \n 2023-02-24 13:05:00  8.973807  7064.131579                         1.000000   \n 2023-02-24 13:10:00  8.973687  7250.408818                         1.000000   \n 2023-02-24 13:15:00  8.975909  7416.061386                         1.000000   \n 2023-02-24 13:20:00  8.976303  7548.372931                         1.000000   \n 2023-02-24 13:25:00  8.974895  7759.216567                         1.000000   \n \n                      Stock_Ask_Bid_Total_Volume_Ratio  \n TimeStamp                                              \n 2020-07-01 09:05:00                          2.056581  \n 2020-07-01 09:10:00                          2.337066  \n 2020-07-01 09:15:00                          2.207788  \n 2020-07-01 09:20:00                          2.120221  \n 2020-07-01 09:25:00                          2.009341  \n ...                                               ...  \n 2023-02-24 13:05:00                          0.426288  \n 2023-02-24 13:10:00                          0.382788  \n 2023-02-24 13:15:00                          0.308884  \n 2023-02-24 13:20:00                          0.257438  \n 2023-02-24 13:25:00                          0.271939  \n \n [18359 rows x 4 columns],\n '2498':                      midQuote        volume  Stock_Ask_Bid_Price_Depth_Ratio  \\\n TimeStamp                                                                      \n 2020-07-01 09:05:00  8.109531   4194.490420                         1.036875   \n 2020-07-01 09:10:00  8.100375   7232.398132                         1.016346   \n 2020-07-01 09:15:00  8.097499   8979.675093                         0.999628   \n 2020-07-01 09:20:00  8.093265  10322.118644                         1.000000   \n 2020-07-01 09:25:00  8.093318  11021.932998                         1.000000   \n ...                       ...           ...                              ...   \n 2023-06-30 13:05:00  8.651874   3025.482072                         1.000000   \n 2023-06-30 13:10:00  8.650850   3069.986301                         1.000000   \n 2023-06-30 13:15:00  8.651927   3193.506024                         1.000000   \n 2023-06-30 13:20:00  8.649674   3442.345588                         1.000000   \n 2023-06-30 13:25:00  8.649945   3601.234513                         1.001106   \n \n                      Stock_Ask_Bid_Total_Volume_Ratio  \n TimeStamp                                              \n 2020-07-01 09:05:00                          0.556593  \n 2020-07-01 09:10:00                          0.364993  \n 2020-07-01 09:15:00                          0.381697  \n 2020-07-01 09:20:00                          0.257364  \n 2020-07-01 09:25:00                          0.206823  \n ...                                               ...  \n 2023-06-30 13:05:00                          0.496682  \n 2023-06-30 13:10:00                          0.373910  \n 2023-06-30 13:15:00                          0.550194  \n 2023-06-30 13:20:00                          0.383078  \n 2023-06-30 13:25:00                          0.305506  \n \n [37715 rows x 4 columns],\n '2615':                      midQuote        volume  Stock_Ask_Bid_Price_Depth_Ratio  \\\n TimeStamp                                                                      \n 2020-07-01 09:05:00  7.408452      8.846154                              1.0   \n 2020-07-01 09:10:00  7.408833     19.150000                              1.0   \n 2020-07-01 09:15:00  7.410045     23.391304                              1.0   \n 2020-07-01 09:20:00  7.410045     28.125000                              1.0   \n 2020-07-01 09:25:00  7.410045     34.050000                              1.0   \n ...                       ...           ...                              ...   \n 2023-06-30 13:05:00  8.679301  15169.275321                              1.0   \n 2023-06-30 13:10:00  8.679634  15580.922594                              1.0   \n 2023-06-30 13:15:00  8.679651  15923.071984                              1.0   \n 2023-06-30 13:20:00  8.679665  16379.705230                              1.0   \n 2023-06-30 13:25:00  8.680004  16984.923777                              1.0   \n \n                      Stock_Ask_Bid_Total_Volume_Ratio  \n TimeStamp                                              \n 2020-07-01 09:05:00                          0.109989  \n 2020-07-01 09:10:00                          0.186830  \n 2020-07-01 09:15:00                          0.217768  \n 2020-07-01 09:20:00                          0.186742  \n 2020-07-01 09:25:00                          0.194504  \n ...                                               ...  \n 2023-06-30 13:05:00                          1.693447  \n 2023-06-30 13:10:00                          1.532148  \n 2023-06-30 13:15:00                          1.565701  \n 2023-06-30 13:20:00                          1.464751  \n 2023-06-30 13:25:00                          1.178905  \n \n [26821 rows x 4 columns],\n '3443':                       midQuote       volume  Stock_Ask_Bid_Price_Depth_Ratio  \\\n TimeStamp                                                                      \n 2020-07-01 09:05:00  10.148993   227.943775                         0.963052   \n 2020-07-01 09:10:00  10.145491   433.942953                         1.000000   \n 2020-07-01 09:15:00  10.158144   733.444969                         1.000000   \n 2020-07-01 09:20:00  10.156140  1075.544681                         1.000000   \n 2020-07-01 09:25:00  10.146131  1308.031746                         1.029365   \n ...                        ...          ...                              ...   \n 2023-06-30 13:05:00  11.990286  1582.645251                         1.000000   \n 2023-06-30 13:10:00  11.988727  1610.944444                         1.000000   \n 2023-06-30 13:15:00  11.987606  1622.435754                         1.000000   \n 2023-06-30 13:20:00  11.987606  1644.400000                         1.000000   \n 2023-06-30 13:25:00  11.987606  1707.079051                         1.000000   \n \n                      Stock_Ask_Bid_Total_Volume_Ratio  \n TimeStamp                                              \n 2020-07-01 09:05:00                          2.718155  \n 2020-07-01 09:10:00                          1.754398  \n 2020-07-01 09:15:00                          2.632562  \n 2020-07-01 09:20:00                          1.328193  \n 2020-07-01 09:25:00                          0.471786  \n ...                                               ...  \n 2023-06-30 13:05:00                          2.139608  \n 2023-06-30 13:10:00                          1.994816  \n 2023-06-30 13:15:00                          2.317332  \n 2023-06-30 13:20:00                          2.627203  \n 2023-06-30 13:25:00                          2.357826  \n \n [37905 rows x 4 columns],\n '2388':                      midQuote       volume  Stock_Ask_Bid_Price_Depth_Ratio  \\\n TimeStamp                                                                     \n 2020-07-01 09:05:00  8.108676   374.509690                         1.202747   \n 2020-07-01 09:10:00  8.104791   821.590625                         1.149940   \n 2020-07-01 09:15:00  8.113047  1099.840909                         1.154261   \n 2020-07-01 09:20:00  8.102715  1282.403974                         1.440066   \n 2020-07-01 09:25:00  8.096323  1517.541126                         0.999134   \n ...                       ...          ...                              ...   \n 2023-06-30 13:05:00  8.999240  4840.556962                         1.000000   \n 2023-06-30 13:10:00  8.998630  4969.283951                         0.990947   \n 2023-06-30 13:15:00  8.999809  5127.539535                         1.000000   \n 2023-06-30 13:20:00  8.999302  5231.247664                         1.000000   \n 2023-06-30 13:25:00  9.000315  5438.646739                         1.000000   \n \n                      Stock_Ask_Bid_Total_Volume_Ratio  \n TimeStamp                                              \n 2020-07-01 09:05:00                          0.775573  \n 2020-07-01 09:10:00                          1.008489  \n 2020-07-01 09:15:00                          0.905755  \n 2020-07-01 09:20:00                          0.394476  \n 2020-07-01 09:25:00                          0.296647  \n ...                                               ...  \n 2023-06-30 13:05:00                          0.905755  \n 2023-06-30 13:10:00                          0.929605  \n 2023-06-30 13:15:00                          1.328062  \n 2023-06-30 13:20:00                          1.235170  \n 2023-06-30 13:25:00                          1.485631  \n \n [26320 rows x 4 columns],\n '3035':                      midQuote        volume  Stock_Ask_Bid_Price_Depth_Ratio  \\\n TimeStamp                                                                      \n 2021-08-02 09:05:00  9.348188    899.601232                         0.998415   \n 2021-08-02 09:10:00  9.337668   1942.702628                         0.997787   \n 2021-08-02 09:15:00  9.349101   2559.251791                         1.000000   \n 2021-08-02 09:20:00  9.344666   2955.148571                         1.000000   \n 2021-08-02 09:25:00  9.336463   3319.967967                         1.000000   \n ...                       ...           ...                              ...   \n 2023-06-30 13:05:00  9.958212  12770.802198                         1.000000   \n 2023-06-30 13:10:00  9.958016  12914.035955                         1.000000   \n 2023-06-30 13:15:00  9.957332  13133.042276                         1.000000   \n 2023-06-30 13:20:00  9.955843  13294.414894                         1.000000   \n 2023-06-30 13:25:00  9.957740  13806.958940                         1.000000   \n \n                      Stock_Ask_Bid_Total_Volume_Ratio  \n TimeStamp                                              \n 2021-08-02 09:05:00                          0.614736  \n 2021-08-02 09:10:00                          0.537976  \n 2021-08-02 09:15:00                          2.164892  \n 2021-08-02 09:20:00                          0.901574  \n 2021-08-02 09:25:00                          0.539550  \n ...                                               ...  \n 2023-06-30 13:05:00                          1.228094  \n 2023-06-30 13:10:00                          1.224516  \n 2023-06-30 13:15:00                          1.180650  \n 2023-06-30 13:20:00                          0.990126  \n 2023-06-30 13:25:00                          0.780094  \n \n [15641 rows x 4 columns],\n '5425':                      midQuote       volume  Stock_Ask_Bid_Price_Depth_Ratio  \\\n TimeStamp                                                                     \n 2020-07-01 09:05:00  8.301256    14.696429                         0.827041   \n 2020-07-01 09:10:00  8.305353    83.372093                         1.172813   \n 2020-07-01 09:15:00  8.309533   121.731707                         1.110298   \n 2020-07-01 09:20:00  8.308420   150.275362                         1.157246   \n 2020-07-01 09:25:00  8.309177   179.611111                         0.925926   \n ...                       ...          ...                              ...   \n 2023-06-30 13:05:00  9.181123  2952.310000                         1.000000   \n 2023-06-30 13:10:00  9.180468  2994.643678                         1.000000   \n 2023-06-30 13:15:00  9.180396  3040.842697                         1.000000   \n 2023-06-30 13:20:00  9.180396  3091.758242                         1.000000   \n 2023-06-30 13:25:00  9.181416  3212.235294                         1.001225   \n \n                      Stock_Ask_Bid_Total_Volume_Ratio  \n TimeStamp                                              \n 2020-07-01 09:05:00                          0.747036  \n 2020-07-01 09:10:00                          0.472413  \n 2020-07-01 09:15:00                          1.030840  \n 2020-07-01 09:20:00                          1.466689  \n 2020-07-01 09:25:00                          1.841517  \n ...                                               ...  \n 2023-06-30 13:05:00                          1.544174  \n 2023-06-30 13:10:00                          1.213329  \n 2023-06-30 13:15:00                          1.251759  \n 2023-06-30 13:20:00                          1.379416  \n 2023-06-30 13:25:00                          1.618727  \n \n [38214 rows x 4 columns]}"
     },
     "execution_count": 8,
     "metadata": {},
     "output_type": "execute_result"
    }
   ]
  },
  {
   "cell_type": "code",
   "source": [
    "for futures in tqdm(futuresData.keys()):\n",
    "  futuresPriceFiveMinute[futures] = pd.DataFrame()\n",
    "  for date in futuresData[futures]:\n",
    "    futuresTick = pd.read_csv(futuresPath + '/' + futures + '/' + date)\n",
    "    #Data processing\n",
    "    futuresTick = futuresTick.loc[futuresTick['askPrice1'] * futuresTick['bidPrice1'] != 0]\n",
    "    futuresTick['date'] = pd.to_datetime(futuresTick['date'], format=\"%Y-%m-%d\")\n",
    "    # get the column 'SP1','BP1' and calculate the mid quote\n",
    "    futuresTick['midQuote'] = np.log(futuresTick[['askPrice1','bidPrice1']].mean(axis=1))\n",
    "    # past 5 min average\n",
    "    futuresTick['new_time'] =  futuresTick['time'] +(500000- futuresTick['time'] % 500000)\n",
    "    # if the last 7 digits in new_time == 6000000, then add 4000000 to new_time\n",
    "    futuresTick['new_time'] = futuresTick['new_time'] + (futuresTick['new_time'] % 10000000 == 6000000) * 4000000\n",
    "    futuresTick['TimeStamp'] = pd.to_datetime(futuresTick.date.astype(str) + ' ' + futuresTick.new_time.astype(str), format=\"%Y-%m-%d %H%M%S%f\")\n",
    "    futuresTick['Futures_Ask_Bid_Price_Depth_Ratio'] = (futuresTick['askPrice5']- futuresTick['askPrice1'])/ (futuresTick['bidPrice1']- futuresTick['bidPrice5'])\n",
    "    ask_vol = futuresTick[['askSize1','askSize2','askSize3','askSize4','askSize5']].sum(axis=1)\n",
    "    bid_vol = futuresTick[['bidSize1','bidSize2','bidSize3','bidSize4','bidSize5']].sum(axis=1)\n",
    "    futuresTick['Futures_Ask_Bid_Total_Volume_Ratio'] = ask_vol/bid_vol\n",
    "    futuresPrice = futuresTick[['TimeStamp','midQuote', 'Futures_Ask_Bid_Price_Depth_Ratio', 'Futures_Ask_Bid_Total_Volume_Ratio']]\n",
    "    futuresPrice_ = futuresPrice.groupby(['TimeStamp'])['midQuote'].mean()\n",
    "    futuresPriceFiveMinute[futures] = pd.concat([futuresPriceFiveMinute[futures], futuresPrice_], axis=0)\n",
    "  futuresPriceFiveMinute[futures] = futuresPriceFiveMinute[futures].sort_index()"
   ],
   "metadata": {
    "colab": {
     "base_uri": "https://localhost:8080/"
    },
    "id": "gxCcfvgYCNBE",
    "outputId": "8108746b-bdd7-417e-8247-d4b5c23354cd"
   },
   "execution_count": 9,
   "outputs": [
    {
     "name": "stderr",
     "output_type": "stream",
     "text": [
      "100%|██████████| 10/10 [03:06<00:00, 18.66s/it]\n"
     ]
    }
   ]
  },
  {
   "cell_type": "code",
   "source": [
    "futuresPriceFiveMinute"
   ],
   "metadata": {
    "colab": {
     "base_uri": "https://localhost:8080/"
    },
    "id": "67mft_y_D6Cs",
    "outputId": "f96b25ce-9a8b-4545-fb9c-76ee2739d278"
   },
   "execution_count": 10,
   "outputs": [
    {
     "data": {
      "text/plain": "{'IPF':                              0\n 2020-07-01 08:50:00   8.428568\n 2020-07-01 08:55:00   8.440785\n 2020-07-01 09:00:00   8.447843\n 2020-07-01 09:05:00   8.450001\n 2020-07-01 09:10:00   8.435341\n ...                        ...\n 2022-03-31 13:25:00  10.319801\n 2022-03-31 13:30:00  10.321673\n 2022-03-31 13:35:00  10.323292\n 2022-03-31 13:40:00  10.320911\n 2022-03-31 13:45:00  10.321375\n \n [23682 rows x 1 columns],\n 'HCF':                             0\n 2020-07-01 08:50:00  8.118272\n 2020-07-01 08:55:00  8.117322\n 2020-07-01 09:00:00  8.119836\n 2020-07-01 09:05:00  8.106474\n 2020-07-01 09:10:00  8.098645\n ...                       ...\n 2023-06-30 13:25:00  8.651734\n 2023-06-30 13:30:00  8.651870\n 2023-06-30 13:35:00  8.651870\n 2023-06-30 13:40:00  8.651724\n 2023-06-30 13:45:00  8.653558\n \n [43168 rows x 1 columns],\n 'DBF':                             0\n 2022-08-31 08:50:00  7.708260\n 2022-08-31 08:55:00  7.706721\n 2022-08-31 09:00:00  7.705261\n 2022-08-31 09:05:00  7.705539\n 2022-08-31 09:10:00  7.710863\n ...                       ...\n 2023-06-30 13:25:00  7.873256\n 2023-06-30 13:30:00  7.873629\n 2023-06-30 13:35:00  7.872518\n 2023-06-30 13:40:00  7.873788\n 2023-06-30 13:45:00  7.875146\n \n [11653 rows x 1 columns],\n 'JBF':                              0\n 2020-07-01 08:50:00  10.144818\n 2020-07-01 08:55:00  10.143090\n 2020-07-01 09:00:00  10.141957\n 2020-07-01 09:05:00  10.148323\n 2020-07-01 09:10:00  10.147436\n ...                        ...\n 2023-03-31 13:30:00  11.592199\n 2023-03-31 13:35:00  11.592199\n 2023-03-31 13:40:00  11.594240\n 2023-03-31 13:45:00  11.596807\n 2023-03-31 13:50:00  11.596807\n \n [27881 rows x 1 columns],\n 'NAF':                              0\n 2020-07-01 08:50:00  10.285718\n 2020-07-01 08:55:00  10.291028\n 2020-07-01 09:00:00  10.289779\n 2020-07-01 09:05:00  10.291761\n 2020-07-01 09:10:00  10.288862\n ...                        ...\n 2021-01-29 13:25:00  10.636160\n 2021-01-29 13:30:00  10.624725\n 2021-01-29 13:35:00  10.627068\n 2021-01-29 13:40:00  10.626800\n 2021-01-29 13:45:00  10.626412\n \n [7537 rows x 1 columns],\n 'QWF':                             0\n 2022-04-27 09:05:00  8.497465\n 2022-04-27 09:10:00  8.502324\n 2022-04-27 09:15:00  8.497203\n 2022-04-27 09:20:00  8.496160\n 2022-04-27 09:25:00  8.496521\n ...                       ...\n 2023-06-30 13:25:00  8.997498\n 2023-06-30 13:30:00  8.997668\n 2023-06-30 13:35:00  8.996593\n 2023-06-30 13:40:00  8.997485\n 2023-06-30 13:45:00  8.997628\n \n [16200 rows x 1 columns],\n 'EHF':                             0\n 2020-07-01 08:50:00  8.189780\n 2020-07-01 08:55:00  8.191463\n 2020-07-01 09:00:00  8.198933\n 2020-07-01 09:05:00  8.206013\n 2020-07-01 09:10:00  8.205218\n ...                       ...\n 2023-06-30 13:25:00  8.570156\n 2023-06-30 13:30:00  8.570734\n 2023-06-30 13:35:00  8.573033\n 2023-06-30 13:40:00  8.572628\n 2023-06-30 13:45:00  8.572628\n \n [39988 rows x 1 columns],\n 'PEF':                             0\n 2020-07-01 08:50:00  8.302142\n 2020-07-01 08:55:00  8.302142\n 2020-07-01 09:00:00  8.302142\n 2020-07-01 09:05:00  8.301483\n 2020-07-01 09:10:00  8.302882\n ...                       ...\n 2023-06-30 13:25:00  9.180883\n 2023-06-30 13:30:00  9.181233\n 2023-06-30 13:35:00  9.180311\n 2023-06-30 13:40:00  9.179430\n 2023-06-30 13:45:00  9.179967\n \n [43003 rows x 1 columns],\n 'QXF':                             0\n 2022-04-27 08:50:00  9.549998\n 2022-04-27 08:55:00  9.538524\n 2022-04-27 09:00:00  9.535653\n 2022-04-27 09:05:00  9.539487\n 2022-04-27 09:10:00  9.545971\n ...                       ...\n 2023-06-30 13:25:00  8.686154\n 2023-06-30 13:30:00  8.687440\n 2023-06-30 13:35:00  8.689209\n 2023-06-30 13:40:00  8.690306\n 2023-06-30 13:45:00  8.690306\n \n [17010 rows x 1 columns],\n 'IIF':                             0\n 2020-07-01 08:50:00  8.268274\n 2020-07-01 08:55:00  8.262301\n 2020-07-01 09:00:00  8.262301\n 2020-07-01 09:05:00  8.265056\n 2020-07-01 09:10:00  8.264234\n ...                       ...\n 2022-05-31 13:25:00  9.427317\n 2022-05-31 13:30:00  9.429474\n 2022-05-31 13:35:00  9.425215\n 2022-05-31 13:40:00  9.423434\n 2022-05-31 13:45:00  9.426000\n \n [21280 rows x 1 columns]}"
     },
     "execution_count": 10,
     "metadata": {},
     "output_type": "execute_result"
    }
   ]
  },
  {
   "cell_type": "code",
   "source": [
    "spreads = {}\n",
    "for futures in futuresData.keys():\n",
    "  spreads[futures] = (stockPriceFiveMinute[tradingPairs[futures]] - futuresPriceFiveMinute[futures]).dropna()\n",
    "  stockPriceFiveMinute[tradingPairs[futures]].to_csv('../tickData/midQuoteData/stock/' +tradingPairs[futures] + '_mid_quote.csv')\n",
    "  futuresPriceFiveMinute[futures].to_csv('../tickData/midQuoteData/futures/' + futures + '_mid_quote.csv')"
   ],
   "metadata": {
    "id": "WZ7W9pWbl9gI"
   },
   "execution_count": 11,
   "outputs": []
  }
 ]
}
