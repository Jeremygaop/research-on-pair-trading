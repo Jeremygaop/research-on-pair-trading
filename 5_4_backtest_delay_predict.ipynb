{
 "cells": [
  {
   "cell_type": "code",
   "execution_count": 1,
   "metadata": {},
   "outputs": [],
   "source": [
    "import warnings\n",
    "warnings.filterwarnings(\"ignore\")"
   ]
  },
  {
   "cell_type": "code",
   "execution_count": 2,
   "metadata": {},
   "outputs": [],
   "source": [
    "import pandas as pd\n",
    "import numpy as np\n",
    "import matplotlib.pyplot as plt\n",
    "from sklearn.linear_model import LinearRegression\n",
    "import lightgbm as lgb\n",
    "from tqdm import tqdm \n",
    "import datetime"
   ]
  },
  {
   "cell_type": "code",
   "execution_count": 3,
   "metadata": {},
   "outputs": [],
   "source": [
    "factor_path = \"/Users/shezihua/Documents/MAFM/2022-2023 Summer/MAFS 6100L/SummerIndependentProject/factor/\"\n",
    "\n",
    "futureCodeList = ['JBF', 'QWF', 'HCF', 'DBF', 'EHF', 'IPF', 'IIF', 'QXF', 'PEF', 'NAF']\n",
    "stockCodeList = ['3443', '2388', '2498', '2610', '1319', '3035', '3006', '2615', '5425', '3105']\n",
    "\n",
    "data_clean_path = '/Users/shezihua/Documents/MAFM/2022-2023 Summer/MAFS 6100L/SummerIndependentProject/dataCleaned/'"
   ]
  },
  {
   "cell_type": "code",
   "execution_count": 4,
   "metadata": {},
   "outputs": [],
   "source": [
    "futureCode = futureCodeList[4]\n",
    "stockCode = stockCodeList[4]\n",
    "\n",
    "stock = pd.read_csv(data_clean_path + futureCode + \"-\" + stockCode + \"/stock.csv.gz\", compression='gzip', index_col=0)\n",
    "future = pd.read_csv(data_clean_path + futureCode + \"-\" + stockCode + \"/future.csv.gz\", compression='gzip', index_col=0)\n",
    "spread = np.log(stock['price']) - np.log(future['midQ'])\n",
    "spread = pd.DataFrame(spread)\n",
    "spread.columns = ['spread']\n",
    "feature = pd.read_csv(factor_path + futureCode + \"-\" + stockCode + \"/factor.csv.gz\", compression='gzip', index_col=0)\n",
    "\n",
    "pool = pd.DataFrame()\n",
    "pool.index = stock.index\n",
    "pool['SP1'] = stock['SP1']\n",
    "pool['BP1'] = stock['BP1']\n",
    "pool['askPrice1'] = future['askPrice1']\n",
    "pool['bidPrice1'] = future['bidPrice1']\n",
    "pool['spread'] = spread['spread']\n",
    "pool.index = pd.to_datetime(pool.index)\n",
    "\n",
    "trade = pd.DataFrame()\n",
    "trade.index = pool.index\n",
    "trade['spread'] = pool['spread']\n",
    "trade['signal'] = 0\n",
    "trade['cap'] = 0\n",
    "trade['pnl'] = 0\n",
    "trade.index = pd.to_datetime(trade.index)"
   ]
  },
  {
   "cell_type": "code",
   "execution_count": 5,
   "metadata": {},
   "outputs": [
    {
     "name": "stderr",
     "output_type": "stream",
     "text": [
      "100%|██████████| 30/30 [01:08<00:00,  2.28s/it]\n"
     ]
    },
    {
     "data": {
      "text/plain": [
       "[<matplotlib.lines.Line2D at 0x7fde2f9caf40>]"
      ]
     },
     "execution_count": 5,
     "metadata": {},
     "output_type": "execute_result"
    },
    {
     "data": {
      "image/png": "[encoded data removed]",
      "text/plain": [
       "<Figure size 432x288 with 1 Axes>"
      ]
     },
     "metadata": {
      "needs_background": "light"
     },
     "output_type": "display_data"
    }
   ],
   "source": [
    "day_list = np.unique(pool.index.date)\n",
    "train_period = 3\n",
    "PnL = np.array([0])\n",
    "\n",
    "for i in tqdm(range(len(day_list) - train_period)[-30:]):\n",
    "    train_start_time = trade.index >= pd.to_datetime(str(day_list[i]) + ' 09:00:00.000', format = '%Y/%m/%d %H:%M:%S.%f')\n",
    "    train_end_time = trade.index <= pd.to_datetime(str(day_list[i + train_period - 1]) + ' 13:30:00.000', format = '%Y/%m/%d %H:%M:%S.%f')\n",
    "    train = trade[train_start_time & train_end_time]\n",
    "    test_start_time = trade.index >= pd.to_datetime(str(day_list[i + train_period]) + ' 09:00:00.000', format = '%Y/%m/%d %H:%M:%S.%f')\n",
    "    test_end_time = trade.index <= pd.to_datetime(str(day_list[i + train_period]) + ' 13:30:00.000', format = '%Y/%m/%d %H:%M:%S.%f')\n",
    "    test = trade[test_start_time & test_end_time]\n",
    "\n",
    "    feature_train = feature[train_start_time & train_end_time]\n",
    "    feature_test = feature[test_start_time & test_end_time]\n",
    "\n",
    "    current_pool = pool[test_start_time & test_end_time]\n",
    "\n",
    "    mean = np.mean(train['spread'])\n",
    "    std = np.std(train['spread'])\n",
    "\n",
    "    upper = mean + 1.5 * std\n",
    "    lower = mean - 1.5 * std\n",
    "\n",
    "    X_train = feature_train[feature_train.columns[0:-1]]\n",
    "    y_train = feature_train['delta_spread']\n",
    "    upper_quantile=0.85\n",
    "    lower_quantile=0.15\n",
    "    train_spread_upper = float(y_train.quantile(upper_quantile))\n",
    "    train_spread_lower = float(y_train.quantile(lower_quantile))\n",
    "\n",
    "    model_ols = LinearRegression()\n",
    "    model_ols.fit(X_train, y_train)\n",
    "    \n",
    "    X_test = feature_test[feature_test.columns[0:-1]]\n",
    "    y_test = feature_test['delta_spread']\n",
    "\n",
    "    y_test_pred = model_ols.predict(X_test)\n",
    "\n",
    "    for tick_idx in (range(len(test.index))): \n",
    "        current_data = test[0:tick_idx + 1]\n",
    "\n",
    "        if tick_idx != len(test.index) - 3:\n",
    "            # generate delay\n",
    "            delay_idx = np.random.rand()\n",
    "            delay = 0\n",
    "            if delay_idx < np.sin(np.pi/8*3):\n",
    "                pass\n",
    "            else: \n",
    "                delay = 1\n",
    "\n",
    "            # long spread\n",
    "            if test.loc[test.index[tick_idx]]['spread'] <= lower: \n",
    "                if np.sum(current_data['signal']) == 0: \n",
    "                    if y_test_pred[tick_idx] < train_spread_lower:\n",
    "                        test.at[test.index[tick_idx+1], 'signal'] = 1\n",
    "                        test.at[test.index[tick_idx+1], 'cap'] = current_pool.iloc[tick_idx]['SP1'] * 2 - current_pool.iloc[tick_idx]['bidPrice1']\n",
    "\n",
    "            # back to mean\n",
    "            elif test.loc[test.index[tick_idx]]['spread'] >= mean: \n",
    "                if np.sum(current_data['signal']) == 1: \n",
    "                    if y_test_pred[tick_idx] > train_spread_upper:\n",
    "                        test.at[test.index[tick_idx+1], 'signal'] = -1\n",
    "                        test.at[test.index[tick_idx+1], 'cap'] = - current_pool.iloc[tick_idx]['BP1'] * 2 + current_pool.iloc[tick_idx]['askPrice1']\n",
    "                        test.at[test.index[tick_idx+1], 'pnl'] = np.sum(current_data['cap']) #+ trade.loc[test.index[tick_idx]]['cap']\n",
    "\n",
    "            # short spread\n",
    "            elif test.loc[test.index[tick_idx]]['spread'] >= upper: \n",
    "                if np.sum(current_data['signal']) == 0: \n",
    "                    if y_test_pred[tick_idx] > train_spread_upper:\n",
    "                        test.at[test.index[tick_idx+1], 'signal'] = -1\n",
    "                        test.at[test.index[tick_idx+1], 'cap'] = - current_pool.iloc[tick_idx]['BP1'] * 2 + current_pool.iloc[tick_idx]['askPrice1']\n",
    "\n",
    "            # back to mean \n",
    "            elif test.loc[test.index[tick_idx]]['spread'] <= mean: \n",
    "                if np.sum(current_data['signal']) == -1: \n",
    "                    if y_test_pred[tick_idx] < train_spread_lower:\n",
    "                        test.at[test.index[tick_idx+1], 'signal'] = 1\n",
    "                        test.at[test.index[tick_idx+1], 'cap'] = current_pool.iloc[tick_idx]['SP1'] * 2 - current_pool.iloc[tick_idx]['bidPrice1']\n",
    "                        test.at[test.index[tick_idx+1], 'pnl'] = np.sum(current_data['cap'])# + trade.loc[test.index[tick_idx]]['cap']\n",
    "\n",
    "            else: \n",
    "                pass\n",
    "        \n",
    "        else:\n",
    "            pass\n",
    "            #if np.sum(current_data['signal']) == 1: \n",
    "            #    test.at[test.index[tick_idx], 'signal'] = -1\n",
    "            #    test.at[test.index[tick_idx], 'cap'] = - current_pool.iloc[tick_idx]['BP1'] * 2 + current_pool.iloc[tick_idx]['askPrice1']\n",
    "            #    test.at[test.index[tick_idx], 'pnl'] = np.sum(current_data['cap']) #+ trade.loc[test.index[tick_idx]]['cap']\n",
    "            #elif np.sum(current_data['signal']) == -1: \n",
    "            #    test.at[test.index[tick_idx], 'signal'] = 1\n",
    "            #    test.at[test.index[tick_idx], 'cap'] = current_pool.iloc[tick_idx]['SP1'] * 2 - current_pool.iloc[tick_idx]['bidPrice1']\n",
    "            #    test.at[test.index[tick_idx], 'pnl'] = np.sum(current_data['cap']) #+ trade.loc[test.index[tick_idx]]['cap']\n",
    "            #else:\n",
    "            #    pass\n",
    "    \n",
    "    \n",
    "    PnL = np.append(PnL, test[test['pnl'] != 0]['pnl'] + PnL[-1])\n",
    "\n",
    "plt.plot(PnL)"
   ]
  },
  {
   "cell_type": "code",
   "execution_count": null,
   "metadata": {},
   "outputs": [],
   "source": []
  },
  {
   "cell_type": "markdown",
   "metadata": {},
   "source": [
    "pair 3"
   ]
  },
  {
   "cell_type": "code",
   "execution_count": 8,
   "metadata": {},
   "outputs": [],
   "source": [
    "futureCode = futureCodeList[2]\n",
    "stockCode = stockCodeList[2]\n",
    "\n",
    "stock = pd.read_csv(data_clean_path + futureCode + \"-\" + stockCode + \"/stock.csv.gz\", compression='gzip', index_col=0)\n",
    "future = pd.read_csv(data_clean_path + futureCode + \"-\" + stockCode + \"/future.csv.gz\", compression='gzip', index_col=0)\n",
    "spread = np.log(stock['price']) - np.log(future['midQ'])\n",
    "spread = pd.DataFrame(spread)\n",
    "spread.columns = ['spread']\n",
    "feature = pd.read_csv(factor_path + futureCode + \"-\" + stockCode + \"/factor.csv.gz\", compression='gzip', index_col=0)\n",
    "\n",
    "pool = pd.DataFrame()\n",
    "pool.index = stock.index\n",
    "pool['SP1'] = stock['SP1']\n",
    "pool['BP1'] = stock['BP1']\n",
    "pool['askPrice1'] = future['askPrice1']\n",
    "pool['bidPrice1'] = future['bidPrice1']\n",
    "pool['spread'] = spread['spread']\n",
    "pool.index = pd.to_datetime(pool.index)\n",
    "\n",
    "trade = pd.DataFrame()\n",
    "trade.index = pool.index\n",
    "trade['spread'] = pool['spread']\n",
    "trade['signal'] = 0\n",
    "trade['cap'] = 0\n",
    "trade['pnl'] = 0\n",
    "trade.index = pd.to_datetime(trade.index)"
   ]
  },
  {
   "cell_type": "code",
   "execution_count": 9,
   "metadata": {},
   "outputs": [
    {
     "name": "stderr",
     "output_type": "stream",
     "text": [
      "100%|██████████| 30/30 [02:16<00:00,  4.56s/it]\n"
     ]
    },
    {
     "data": {
      "text/plain": [
       "[<matplotlib.lines.Line2D at 0x7fdeb094c9d0>]"
      ]
     },
     "execution_count": 9,
     "metadata": {},
     "output_type": "execute_result"
    },
    {
     "data": {
      "image/png": "[encoded data removed]",
      "text/plain": [
       "<Figure size 432x288 with 1 Axes>"
      ]
     },
     "metadata": {
      "needs_background": "light"
     },
     "output_type": "display_data"
    }
   ],
   "source": [
    "day_list = np.unique(pool.index.date)\n",
    "train_period = 3\n",
    "PnL = np.array([0])\n",
    "\n",
    "for i in tqdm(range(len(day_list) - train_period)[-30:]):\n",
    "    train_start_time = trade.index >= pd.to_datetime(str(day_list[i]) + ' 09:00:00.000', format = '%Y/%m/%d %H:%M:%S.%f')\n",
    "    train_end_time = trade.index <= pd.to_datetime(str(day_list[i + train_period - 1]) + ' 13:30:00.000', format = '%Y/%m/%d %H:%M:%S.%f')\n",
    "    train = trade[train_start_time & train_end_time]\n",
    "    test_start_time = trade.index >= pd.to_datetime(str(day_list[i + train_period]) + ' 09:00:00.000', format = '%Y/%m/%d %H:%M:%S.%f')\n",
    "    test_end_time = trade.index <= pd.to_datetime(str(day_list[i + train_period]) + ' 13:30:00.000', format = '%Y/%m/%d %H:%M:%S.%f')\n",
    "    test = trade[test_start_time & test_end_time]\n",
    "\n",
    "    feature_train = feature[train_start_time & train_end_time]\n",
    "    feature_test = feature[test_start_time & test_end_time]\n",
    "\n",
    "    current_pool = pool[test_start_time & test_end_time]\n",
    "\n",
    "    mean = np.mean(train['spread'])\n",
    "    std = np.std(train['spread'])\n",
    "\n",
    "    upper = mean + 1.5 * std\n",
    "    lower = mean - 1.5 * std\n",
    "\n",
    "    X_train = feature_train[feature_train.columns[0:-1]]\n",
    "    y_train = feature_train['delta_spread']\n",
    "    upper_quantile=0.85\n",
    "    lower_quantile=0.15\n",
    "    train_spread_upper = float(y_train.quantile(upper_quantile))\n",
    "    train_spread_lower = float(y_train.quantile(lower_quantile))\n",
    "\n",
    "    model_ols = LinearRegression()\n",
    "    model_ols.fit(X_train, y_train)\n",
    "    \n",
    "    X_test = feature_test[feature_test.columns[0:-1]]\n",
    "    y_test = feature_test['delta_spread']\n",
    "\n",
    "    y_test_pred = model_ols.predict(X_test)\n",
    "\n",
    "    for tick_idx in (range(len(test.index))): \n",
    "        current_data = test[0:tick_idx + 1]\n",
    "\n",
    "        if tick_idx != len(test.index) - 3:\n",
    "            # generate delay\n",
    "            delay_idx = np.random.rand()\n",
    "            delay = 0\n",
    "            if delay_idx < np.sin(np.pi/8*3):\n",
    "                pass\n",
    "            else: \n",
    "                delay = 1\n",
    "\n",
    "            # long spread\n",
    "            if test.loc[test.index[tick_idx]]['spread'] <= lower: \n",
    "                if np.sum(current_data['signal']) == 0: \n",
    "                    if y_test_pred[tick_idx] < train_spread_lower:\n",
    "                        test.at[test.index[tick_idx+1], 'signal'] = 1\n",
    "                        test.at[test.index[tick_idx+1], 'cap'] = current_pool.iloc[tick_idx]['SP1'] * 2 - current_pool.iloc[tick_idx]['bidPrice1']\n",
    "\n",
    "            # back to mean\n",
    "            elif test.loc[test.index[tick_idx]]['spread'] >= mean: \n",
    "                if np.sum(current_data['signal']) == 1: \n",
    "                    if y_test_pred[tick_idx] > train_spread_upper:\n",
    "                        test.at[test.index[tick_idx+1], 'signal'] = -1\n",
    "                        test.at[test.index[tick_idx+1], 'cap'] = - current_pool.iloc[tick_idx]['BP1'] * 2 + current_pool.iloc[tick_idx]['askPrice1']\n",
    "                        test.at[test.index[tick_idx+1], 'pnl'] = np.sum(current_data['cap']) #+ trade.loc[test.index[tick_idx]]['cap']\n",
    "\n",
    "            # short spread\n",
    "            elif test.loc[test.index[tick_idx]]['spread'] >= upper: \n",
    "                if np.sum(current_data['signal']) == 0: \n",
    "                    if y_test_pred[tick_idx] > train_spread_upper:\n",
    "                        test.at[test.index[tick_idx+1], 'signal'] = -1\n",
    "                        test.at[test.index[tick_idx+1], 'cap'] = - current_pool.iloc[tick_idx]['BP1'] * 2 + current_pool.iloc[tick_idx]['askPrice1']\n",
    "\n",
    "            # back to mean \n",
    "            elif test.loc[test.index[tick_idx]]['spread'] <= mean: \n",
    "                if np.sum(current_data['signal']) == -1: \n",
    "                    if y_test_pred[tick_idx] < train_spread_lower:\n",
    "                        test.at[test.index[tick_idx+1], 'signal'] = 1\n",
    "                        test.at[test.index[tick_idx+1], 'cap'] = current_pool.iloc[tick_idx]['SP1'] * 2 - current_pool.iloc[tick_idx]['bidPrice1']\n",
    "                        test.at[test.index[tick_idx+1], 'pnl'] = np.sum(current_data['cap'])# + trade.loc[test.index[tick_idx]]['cap']\n",
    "\n",
    "            else: \n",
    "                pass\n",
    "        \n",
    "        else:\n",
    "            pass\n",
    "            #if np.sum(current_data['signal']) == 1: \n",
    "            #    test.at[test.index[tick_idx], 'signal'] = -1\n",
    "            #    test.at[test.index[tick_idx], 'cap'] = - current_pool.iloc[tick_idx]['BP1'] * 2 + current_pool.iloc[tick_idx]['askPrice1']\n",
    "            #    test.at[test.index[tick_idx], 'pnl'] = np.sum(current_data['cap']) #+ trade.loc[test.index[tick_idx]]['cap']\n",
    "            #elif np.sum(current_data['signal']) == -1: \n",
    "            #    test.at[test.index[tick_idx], 'signal'] = 1\n",
    "            #    test.at[test.index[tick_idx], 'cap'] = current_pool.iloc[tick_idx]['SP1'] * 2 - current_pool.iloc[tick_idx]['bidPrice1']\n",
    "            #    test.at[test.index[tick_idx], 'pnl'] = np.sum(current_data['cap']) #+ trade.loc[test.index[tick_idx]]['cap']\n",
    "            #else:\n",
    "            #    pass\n",
    "    \n",
    "    \n",
    "    PnL = np.append(PnL, test[test['pnl'] != 0]['pnl'] + PnL[-1])\n",
    "\n",
    "plt.plot(PnL)"
   ]
  },
  {
   "cell_type": "code",
   "execution_count": null,
   "metadata": {},
   "outputs": [],
   "source": []
  }
 ],
 "metadata": {
  "kernelspec": {
   "display_name": "base",
   "language": "python",
   "name": "python3"
  },
  "language_info": {
   "codemirror_mode": {
    "name": "ipython",
    "version": 3
   },
   "file_extension": ".py",
   "mimetype": "text/x-python",
   "name": "python",
   "nbconvert_exporter": "python",
   "pygments_lexer": "ipython3",
   "version": "3.9.12"
  },
  "orig_nbformat": 4
 },
 "nbformat": 4,
 "nbformat_minor": 2
}
