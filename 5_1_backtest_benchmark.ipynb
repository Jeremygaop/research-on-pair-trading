{
 "cells": [
  {
   "cell_type": "code",
   "execution_count": 1,
   "metadata": {},
   "outputs": [],
   "source": [
    "import warnings\n",
    "warnings.filterwarnings(\"ignore\")"
   ]
  },
  {
   "cell_type": "code",
   "execution_count": 27,
   "metadata": {},
   "outputs": [],
   "source": [
    "import pandas as pd\n",
    "import numpy as np\n",
    "import matplotlib.pyplot as plt\n",
    "from sklearn.linear_model import LinearRegression\n",
    "import lightgbm as lgb\n",
    "from tqdm import tqdm \n",
    "import datetime\n",
    "from sympy import Integer"
   ]
  },
  {
   "cell_type": "code",
   "execution_count": 3,
   "metadata": {},
   "outputs": [],
   "source": [
    "factor_path = \"/Users/shezihua/Documents/MAFM/2022-2023 Summer/MAFS 6100L/SummerIndependentProject/factor/\"\n",
    "\n",
    "futureCodeList = ['JBF', 'QWF', 'HCF', 'DBF', 'EHF', 'IPF', 'IIF', 'QXF', 'PEF', 'NAF']\n",
    "stockCodeList = ['3443', '2388', '2498', '2610', '1319', '3035', '3006', '2615', '5425', '3105']\n",
    "\n",
    "data_clean_path = '/Users/shezihua/Documents/MAFM/2022-2023 Summer/MAFS 6100L/SummerIndependentProject/dataCleaned/'"
   ]
  },
  {
   "cell_type": "code",
   "execution_count": 4,
   "metadata": {},
   "outputs": [],
   "source": [
    "futureCode = futureCodeList[0]\n",
    "stockCode = stockCodeList[0]"
   ]
  },
  {
   "cell_type": "code",
   "execution_count": 5,
   "metadata": {},
   "outputs": [],
   "source": [
    "stock = pd.read_csv(data_clean_path + futureCode + \"-\" + stockCode + \"/stock.csv.gz\", compression='gzip', index_col=0)\n",
    "future = pd.read_csv(data_clean_path + futureCode + \"-\" + stockCode + \"/future.csv.gz\", compression='gzip', index_col=0)\n",
    "spread = np.log(stock['price']) - np.log(future['midQ'])\n",
    "spread = pd.DataFrame(spread)\n",
    "spread.columns = ['spread']"
   ]
  },
  {
   "cell_type": "code",
   "execution_count": 6,
   "metadata": {},
   "outputs": [],
   "source": [
    "pool = pd.DataFrame()\n",
    "pool.index = stock.index\n",
    "pool['SP1'] = stock['SP1']\n",
    "pool['BP1'] = stock['BP1']\n",
    "pool['askPrice1'] = future['askPrice1']\n",
    "pool['bidPrice1'] = future['bidPrice1']\n",
    "pool['spread'] = spread['spread']\n",
    "pool.index = pd.to_datetime(pool.index)"
   ]
  },
  {
   "cell_type": "code",
   "execution_count": null,
   "metadata": {},
   "outputs": [],
   "source": [
    "pool"
   ]
  },
  {
   "cell_type": "code",
   "execution_count": 7,
   "metadata": {},
   "outputs": [],
   "source": [
    "trade = pd.DataFrame()\n",
    "trade.index = pool.index\n",
    "trade['spread'] = pool['spread']\n",
    "trade['signal'] = 0\n",
    "trade['cap'] = 0\n",
    "trade['pnl'] = 0\n",
    "trade.index = pd.to_datetime(trade.index)"
   ]
  },
  {
   "cell_type": "code",
   "execution_count": null,
   "metadata": {},
   "outputs": [],
   "source": [
    "trade"
   ]
  },
  {
   "cell_type": "code",
   "execution_count": 8,
   "metadata": {},
   "outputs": [],
   "source": [
    "del stock\n",
    "del future\n",
    "del spread"
   ]
  },
  {
   "cell_type": "code",
   "execution_count": null,
   "metadata": {},
   "outputs": [],
   "source": [
    "day_list = np.unique(pool.index.date)\n",
    "train_period = 3"
   ]
  },
  {
   "cell_type": "code",
   "execution_count": null,
   "metadata": {},
   "outputs": [],
   "source": [
    "i = 0\n",
    "train_start_time = trade.index >= pd.to_datetime(str(day_list[i]) + ' 09:00:00.000', format = '%Y/%m/%d %H:%M:%S.%f')\n",
    "train_end_time = trade.index <= pd.to_datetime(str(day_list[i + train_period - 1]) + ' 13:30:00.000', format = '%Y/%m/%d %H:%M:%S.%f')\n",
    "train = trade[train_start_time & train_end_time]\n",
    "test_start_time = trade.index >= pd.to_datetime(str(day_list[i + train_period]) + ' 09:00:00.000', format = '%Y/%m/%d %H:%M:%S.%f')\n",
    "test_end_time = trade.index <= pd.to_datetime(str(day_list[i + train_period]) + ' 13:30:00.000', format = '%Y/%m/%d %H:%M:%S.%f')\n",
    "test = trade[test_start_time & test_end_time]\n",
    "\n",
    "current_pool = pool[test_start_time & test_end_time]\n",
    "\n",
    "mean = np.mean(train['spread'])\n",
    "std = np.std(train['spread'])\n",
    "\n",
    "upper = mean + 1.5 * std\n",
    "lower = mean - 1.5 * std"
   ]
  },
  {
   "cell_type": "code",
   "execution_count": null,
   "metadata": {},
   "outputs": [],
   "source": [
    "for tick_idx in tqdm(range(len(test.index))): \n",
    "    current_data = test[0:tick_idx + 1]\n",
    "\n",
    "    # long spread\n",
    "    if test.loc[test.index[tick_idx]]['spread'] <= lower: \n",
    "        if np.sum(current_data['signal']) == 0: \n",
    "            test.at[test.index[tick_idx], 'signal'] = 1\n",
    "            test.at[test.index[tick_idx], 'cap'] = - current_pool.iloc[tick_idx]['SP1'] * 2 + current_pool.iloc[tick_idx]['bidPrice1']\n",
    "\n",
    "    # back to mean\n",
    "    if test.loc[test.index[tick_idx]]['spread'] >= mean: \n",
    "        if np.sum(current_data['signal']) == 1: \n",
    "            test.at[test.index[tick_idx], 'signal'] = -1\n",
    "            test.at[test.index[tick_idx], 'cap'] = current_pool.iloc[tick_idx]['BP1'] * 2 - current_pool.iloc[tick_idx]['askPrice1']\n",
    "            test.at[test.index[tick_idx], 'pnl'] = np.sum(current_data['cap']) \n",
    "\n",
    "    # short spread\n",
    "    if test.loc[test.index[tick_idx]]['spread'] >= upper: \n",
    "        if np.sum(current_data['signal']) == 0: \n",
    "            test.at[test.index[tick_idx], 'signal'] = -1\n",
    "            test.at[test.index[tick_idx], 'cap'] = current_pool.iloc[tick_idx]['BP1'] * 2 - current_pool.iloc[tick_idx]['askPrice1']\n",
    "\n",
    "    # back to mean \n",
    "    if test.loc[test.index[tick_idx]]['spread'] <= mean: \n",
    "        if np.sum(current_data['signal']) == -1: \n",
    "            test.at[test.index[tick_idx], 'signal'] = 1\n",
    "            test.at[test.index[tick_idx], 'cap'] = - current_pool.iloc[tick_idx]['SP1'] * 2 + current_pool.iloc[tick_idx]['bidPrice1']\n",
    "            test.at[test.index[tick_idx], 'pnl'] = np.sum(current_data['cap'])\n",
    "    \n",
    "    if tick_idx == len(test.index) - 1:\n",
    "        if np.sum(current_data['signal']) == 1: \n",
    "            test.at[test.index[tick_idx], 'signal'] = -1\n",
    "            test.at[test.index[tick_idx], 'cap'] = current_pool.iloc[tick_idx]['BP1'] * 2 - current_pool.iloc[tick_idx]['askPrice1']\n",
    "            test.at[test.index[tick_idx], 'pnl'] = np.sum(current_data['cap']) \n",
    "        if np.sum(current_data['signal']) == -1: \n",
    "            test.at[test.index[tick_idx], 'signal'] = 1\n",
    "            test.at[test.index[tick_idx], 'cap'] = - current_pool.iloc[tick_idx]['SP1'] * 2 + current_pool.iloc[tick_idx]['bidPrice1']\n",
    "            test.at[test.index[tick_idx], 'pnl'] = np.sum(current_data['cap']) "
   ]
  },
  {
   "cell_type": "code",
   "execution_count": null,
   "metadata": {},
   "outputs": [],
   "source": [
    "day_list = np.unique(pool.index.date)\n",
    "train_period = 3\n",
    "\n",
    "for i in tqdm(range(len(day_list) - train_period)[-3:]):\n",
    "\n",
    "    train_start_time = trade.index >= pd.to_datetime(str(day_list[i]) + ' 09:00:00.000', format = '%Y/%m/%d %H:%M:%S.%f')\n",
    "    train_end_time = trade.index <= pd.to_datetime(str(day_list[i + train_period - 1]) + ' 13:30:00.000', format = '%Y/%m/%d %H:%M:%S.%f')\n",
    "    train = trade[train_start_time & train_end_time]\n",
    "    test_start_time = trade.index >= pd.to_datetime(str(day_list[i + train_period]) + ' 09:00:00.000', format = '%Y/%m/%d %H:%M:%S.%f')\n",
    "    test_end_time = trade.index <= pd.to_datetime(str(day_list[i + train_period]) + ' 13:30:00.000', format = '%Y/%m/%d %H:%M:%S.%f')\n",
    "    test = trade[test_start_time & test_end_time]\n",
    "\n",
    "    current_pool = pool[test_start_time & test_end_time]\n",
    "\n",
    "    mean = np.mean(train['spread'])\n",
    "    std = np.std(train['spread'])\n",
    "\n",
    "    upper = mean + 1.5 * std\n",
    "    lower = mean - 1.5 * std\n",
    "\n",
    "    for tick_idx in (range(len(test.index))): \n",
    "        current_data = test[0:tick_idx + 1]\n",
    "\n",
    "        if tick_idx != len(test.index) - 1:\n",
    "            # long spread\n",
    "            if test.loc[test.index[tick_idx]]['spread'] <= lower: \n",
    "                if np.sum(current_data['signal']) == 0: \n",
    "                    trade.at[test.index[tick_idx], 'signal'] = 1\n",
    "                    trade.at[test.index[tick_idx], 'cap'] = - current_pool.iloc[tick_idx]['SP1'] * 2 + current_pool.iloc[tick_idx]['bidPrice1']\n",
    "\n",
    "            # back to mean\n",
    "            elif test.loc[test.index[tick_idx]]['spread'] >= mean: \n",
    "                if np.sum(current_data['signal']) == 1: \n",
    "                    trade.at[test.index[tick_idx], 'signal'] = -1\n",
    "                    trade.at[test.index[tick_idx], 'cap'] = current_pool.iloc[tick_idx]['BP1'] * 2 - current_pool.iloc[tick_idx]['askPrice1']\n",
    "                    trade.at[test.index[tick_idx], 'pnl'] = np.sum(current_data['cap']) \n",
    "\n",
    "            # short spread\n",
    "            elif test.loc[test.index[tick_idx]]['spread'] >= upper: \n",
    "                if np.sum(current_data['signal']) == 0: \n",
    "                    trade.at[test.index[tick_idx], 'signal'] = -1\n",
    "                    trade.at[test.index[tick_idx], 'cap'] = current_pool.iloc[tick_idx]['BP1'] * 2 - current_pool.iloc[tick_idx]['askPrice1']\n",
    "\n",
    "            # back to mean \n",
    "            elif test.loc[test.index[tick_idx]]['spread'] <= mean: \n",
    "                if np.sum(current_data['signal']) == -1: \n",
    "                    trade.at[test.index[tick_idx], 'signal'] = 1\n",
    "                    trade.at[test.index[tick_idx], 'cap'] = - current_pool.iloc[tick_idx]['SP1'] * 2 + current_pool.iloc[tick_idx]['bidPrice1']\n",
    "                    trade.at[test.index[tick_idx], 'pnl'] = np.sum(current_data['cap'])\n",
    "\n",
    "            else: \n",
    "                pass\n",
    "        \n",
    "        else:\n",
    "            if np.sum(current_data['signal']) == 1: \n",
    "                trade.at[test.index[tick_idx], 'signal'] = -1\n",
    "                trade.at[test.index[tick_idx], 'cap'] = current_pool.iloc[tick_idx]['BP1'] * 2 - current_pool.iloc[tick_idx]['askPrice1']\n",
    "                trade.at[test.index[tick_idx], 'pnl'] = np.sum(current_data['cap']) \n",
    "            elif np.sum(current_data['signal']) == -1: \n",
    "                trade.at[test.index[tick_idx], 'signal'] = 1\n",
    "                trade.at[test.index[tick_idx], 'cap'] = - current_pool.iloc[tick_idx]['SP1'] * 2 + current_pool.iloc[tick_idx]['bidPrice1']\n",
    "                trade.at[test.index[tick_idx], 'pnl'] = np.sum(current_data['cap']) \n",
    "            else:\n",
    "                pass\n"
   ]
  },
  {
   "cell_type": "code",
   "execution_count": 10,
   "metadata": {},
   "outputs": [
    {
     "name": "stderr",
     "output_type": "stream",
     "text": [
      "100%|██████████| 30/30 [02:32<00:00,  5.08s/it]\n"
     ]
    }
   ],
   "source": [
    "day_list = np.unique(pool.index.date)\n",
    "train_period = 3\n",
    "PnL = np.array([0])\n",
    "\n",
    "for i in tqdm(range(len(day_list) - train_period)[-30:]):\n",
    "    train_start_time = trade.index >= pd.to_datetime(str(day_list[i]) + ' 09:00:00.000', format = '%Y/%m/%d %H:%M:%S.%f')\n",
    "    train_end_time = trade.index <= pd.to_datetime(str(day_list[i + train_period - 1]) + ' 13:30:00.000', format = '%Y/%m/%d %H:%M:%S.%f')\n",
    "    train = trade[train_start_time & train_end_time]\n",
    "    test_start_time = trade.index >= pd.to_datetime(str(day_list[i + train_period]) + ' 09:00:00.000', format = '%Y/%m/%d %H:%M:%S.%f')\n",
    "    test_end_time = trade.index <= pd.to_datetime(str(day_list[i + train_period]) + ' 13:30:00.000', format = '%Y/%m/%d %H:%M:%S.%f')\n",
    "    test = trade[test_start_time & test_end_time]\n",
    "\n",
    "    current_pool = pool[test_start_time & test_end_time]\n",
    "\n",
    "    mean = np.mean(train['spread'])\n",
    "    std = np.std(train['spread'])\n",
    "\n",
    "    upper = mean + 1.5 * std\n",
    "    lower = mean - 1.5 * std\n",
    "\n",
    "    for tick_idx in (range(len(test.index))): \n",
    "        current_data = test[0:tick_idx + 1]\n",
    "\n",
    "        if tick_idx != len(test.index) - 1:\n",
    "            # long spread\n",
    "            if test.loc[test.index[tick_idx]]['spread'] <= lower: \n",
    "                if np.sum(current_data['signal']) == 0: \n",
    "                    test.at[test.index[tick_idx], 'signal'] = 1\n",
    "                    test.at[test.index[tick_idx], 'cap'] = current_pool.iloc[tick_idx]['SP1'] * 2 - current_pool.iloc[tick_idx]['bidPrice1']\n",
    "\n",
    "            # back to mean\n",
    "            elif test.loc[test.index[tick_idx]]['spread'] >= mean: \n",
    "                if np.sum(current_data['signal']) == 1: \n",
    "                    test.at[test.index[tick_idx], 'signal'] = -1\n",
    "                    test.at[test.index[tick_idx], 'cap'] = - current_pool.iloc[tick_idx]['BP1'] * 2 + current_pool.iloc[tick_idx]['askPrice1']\n",
    "                    test.at[test.index[tick_idx], 'pnl'] = np.sum(current_data['cap']) #+ trade.loc[test.index[tick_idx]]['cap']\n",
    "\n",
    "            # short spread\n",
    "            elif test.loc[test.index[tick_idx]]['spread'] >= upper: \n",
    "                if np.sum(current_data['signal']) == 0: \n",
    "                    test.at[test.index[tick_idx], 'signal'] = -1\n",
    "                    test.at[test.index[tick_idx], 'cap'] = - current_pool.iloc[tick_idx]['BP1'] * 2 + current_pool.iloc[tick_idx]['askPrice1']\n",
    "\n",
    "            # back to mean \n",
    "            elif test.loc[test.index[tick_idx]]['spread'] <= mean: \n",
    "                if np.sum(current_data['signal']) == -1: \n",
    "                    test.at[test.index[tick_idx], 'signal'] = 1\n",
    "                    test.at[test.index[tick_idx], 'cap'] = current_pool.iloc[tick_idx]['SP1'] * 2 - current_pool.iloc[tick_idx]['bidPrice1']\n",
    "                    test.at[test.index[tick_idx], 'pnl'] = np.sum(current_data['cap'])# + trade.loc[test.index[tick_idx]]['cap']\n",
    "\n",
    "            else: \n",
    "                pass\n",
    "        \n",
    "        else:\n",
    "            if np.sum(current_data['signal']) == 1: \n",
    "                test.at[test.index[tick_idx], 'signal'] = -1\n",
    "                test.at[test.index[tick_idx], 'cap'] = - current_pool.iloc[tick_idx]['BP1'] * 2 + current_pool.iloc[tick_idx]['askPrice1']\n",
    "                test.at[test.index[tick_idx], 'pnl'] = np.sum(current_data['cap']) #+ trade.loc[test.index[tick_idx]]['cap']\n",
    "            elif np.sum(current_data['signal']) == -1: \n",
    "                test.at[test.index[tick_idx], 'signal'] = 1\n",
    "                test.at[test.index[tick_idx], 'cap'] = current_pool.iloc[tick_idx]['SP1'] * 2 - current_pool.iloc[tick_idx]['bidPrice1']\n",
    "                test.at[test.index[tick_idx], 'pnl'] = np.sum(current_data['cap']) #+ trade.loc[test.index[tick_idx]]['cap']\n",
    "            else:\n",
    "                pass\n",
    "    \n",
    "    \n",
    "    PnL = np.append(PnL, test[test['pnl'] != 0]['pnl'] + PnL[-1])"
   ]
  },
  {
   "cell_type": "code",
   "execution_count": 11,
   "metadata": {},
   "outputs": [
    {
     "data": {
      "text/plain": [
       "[<matplotlib.lines.Line2D at 0x7f7972dae700>]"
      ]
     },
     "execution_count": 11,
     "metadata": {},
     "output_type": "execute_result"
    },
    {
     "data": {
      "image/png": "[encoded data removed]",
      "text/plain": [
       "<Figure size 432x288 with 1 Axes>"
      ]
     },
     "metadata": {
      "needs_background": "light"
     },
     "output_type": "display_data"
    }
   ],
   "source": [
    "plt.plot(PnL)"
   ]
  },
  {
   "cell_type": "code",
   "execution_count": 13,
   "metadata": {},
   "outputs": [
    {
     "data": {
      "text/plain": [
       "array([     0,   1000,   1500,   2500,   3000,   3500,   4500,   5000,\n",
       "         5500,   6000,   7000,   8000,   8500,   9000,  10000,  11000,\n",
       "        12000,  12500,  13000,  14000,  15000,  16000,  16500,  17000,\n",
       "        17500,  18000,  18500,  19500,  20500,  21000,  22000,  23000,\n",
       "        23500,  24500,  25500,  26500,  27500,  28500,  29500,  30000,\n",
       "        30500,  31500,  32500,  33000,  33500,  34000,  35500,  36500,\n",
       "        37000,  37500,  38500,  39500,  40000,  41000,  41500,  42500,\n",
       "        43500,  44500,  45000,  45500,  46500,  47500,  47500,  48000,\n",
       "        49000,  49500,  50500,  51000,  51500,  52500,  53500,  54500,\n",
       "        55500,  56000,  56500,  57000,  57500,  58500,  59500,  60000,\n",
       "        61000,  61500,  62000,  62000,  63000,  64000,  65000,  66000,\n",
       "        66500,  67500,  68500,  69500,  70000,  70500,  71500,  72500,\n",
       "        73500,  74500,  75000,  76000,  77000,  77500,  78000,  79000,\n",
       "        80000,  80500,  81500,  82000,  82500,  83000,  83500,  84000,\n",
       "        84500,  85000,  86000,  86500,  87500,  88500,  89500,  91000,\n",
       "        91500,  91500,  92000,  92500,  93500,  94000,  94500,  94500,\n",
       "        93500,  94500,  95000,  94000,  95500,  95500,  96500,  97500,\n",
       "        99000, 100000, 101000, 103000, 103500, 105000, 106500, 108500,\n",
       "       110000, 111000, 112000, 112500, 111500, 112500, 113000, 113500,\n",
       "       112500, 113000, 115000, 115000, 116000, 117500, 118500, 120000,\n",
       "       122000, 123500, 125500, 126500, 128500, 129500, 130000, 131000,\n",
       "       130500, 131500, 132500, 133000, 133500, 133500, 133500, 134000,\n",
       "       134500, 135500, 136000, 136500, 137500, 138000, 139500, 139000,\n",
       "       140000, 140500, 140500, 141000, 142500, 143000, 143500, 144500,\n",
       "       145000, 145000, 145000, 144500, 145000, 144000, 145000, 145500,\n",
       "       146000, 147000, 147500, 150000, 149000, 149000, 149000, 149500,\n",
       "       149500, 150000, 149500, 149500, 150500, 152000, 153500, 155000,\n",
       "       155000, 156000, 156500, 157000, 157000, 158000, 158000, 158500,\n",
       "       160000, 160500, 162000, 170000, 170500, 171000, 172000, 172000,\n",
       "       173000, 174000, 174000, 174500, 175500, 176500, 178000, 179000,\n",
       "       179000, 180000, 181000, 181500, 182000, 181500, 182500, 183000,\n",
       "       185500, 186000, 186500, 186500, 186000, 186500, 187000, 186500,\n",
       "       187000, 187500, 188500, 189000, 189500, 190000, 190000, 190500,\n",
       "       190500, 190500, 190500, 191500, 190000, 191000, 192000, 193500,\n",
       "       194000, 195500, 196000, 196500, 196500, 196000, 196000, 197000,\n",
       "       198000, 198500, 198500, 196500, 197000, 197500, 197500, 198000,\n",
       "       199000, 199500, 200500, 202000, 202000, 202500, 202500, 203500,\n",
       "       204500, 204500, 205500, 206000, 207000, 208000, 208500, 209000,\n",
       "       210000, 211000, 211500, 213000, 213000, 213500, 214000, 214500,\n",
       "       215000, 216000, 217000, 217000, 217000, 218000, 218500, 218500,\n",
       "       220000, 220500, 222000, 221500, 221500, 221500, 221500, 224000,\n",
       "       225500, 227000, 226500, 226500, 228000, 229000, 230500, 232000,\n",
       "       233500, 232500, 232500, 231500, 232000, 231000, 232000, 232500,\n",
       "       234500, 235000, 235500, 235500, 234500, 236000, 237000, 238000,\n",
       "       238500, 238500, 239000, 240000, 240500, 240500, 241000, 242500,\n",
       "       243500])"
      ]
     },
     "execution_count": 13,
     "metadata": {},
     "output_type": "execute_result"
    }
   ],
   "source": [
    "PnL"
   ]
  },
  {
   "cell_type": "code",
   "execution_count": null,
   "metadata": {},
   "outputs": [],
   "source": []
  },
  {
   "cell_type": "markdown",
   "metadata": {},
   "source": [
    "# Try other pairs"
   ]
  },
  {
   "cell_type": "code",
   "execution_count": 14,
   "metadata": {},
   "outputs": [
    {
     "name": "stderr",
     "output_type": "stream",
     "text": [
      "100%|██████████| 30/30 [01:58<00:00,  3.94s/it]\n"
     ]
    }
   ],
   "source": [
    "futureCode = futureCodeList[1]\n",
    "stockCode = stockCodeList[1]\n",
    "\n",
    "stock = pd.read_csv(data_clean_path + futureCode + \"-\" + stockCode + \"/stock.csv.gz\", compression='gzip', index_col=0)\n",
    "future = pd.read_csv(data_clean_path + futureCode + \"-\" + stockCode + \"/future.csv.gz\", compression='gzip', index_col=0)\n",
    "spread = np.log(stock['price']) - np.log(future['midQ'])\n",
    "spread = pd.DataFrame(spread)\n",
    "spread.columns = ['spread']\n",
    "\n",
    "pool = pd.DataFrame()\n",
    "pool.index = stock.index\n",
    "pool['SP1'] = stock['SP1']\n",
    "pool['BP1'] = stock['BP1']\n",
    "pool['askPrice1'] = future['askPrice1']\n",
    "pool['bidPrice1'] = future['bidPrice1']\n",
    "pool['spread'] = spread['spread']\n",
    "pool.index = pd.to_datetime(pool.index)\n",
    "\n",
    "trade = pd.DataFrame()\n",
    "trade.index = pool.index\n",
    "trade['spread'] = pool['spread']\n",
    "trade['signal'] = 0\n",
    "trade['cap'] = 0\n",
    "trade['pnl'] = 0\n",
    "trade.index = pd.to_datetime(trade.index)\n",
    "\n",
    "day_list = np.unique(pool.index.date)\n",
    "train_period = 3\n",
    "PnL = np.array([0])\n",
    "\n",
    "for i in tqdm(range(len(day_list) - train_period)[-30:]):\n",
    "    train_start_time = trade.index >= pd.to_datetime(str(day_list[i]) + ' 09:00:00.000', format = '%Y/%m/%d %H:%M:%S.%f')\n",
    "    train_end_time = trade.index <= pd.to_datetime(str(day_list[i + train_period - 1]) + ' 13:30:00.000', format = '%Y/%m/%d %H:%M:%S.%f')\n",
    "    train = trade[train_start_time & train_end_time]\n",
    "    test_start_time = trade.index >= pd.to_datetime(str(day_list[i + train_period]) + ' 09:00:00.000', format = '%Y/%m/%d %H:%M:%S.%f')\n",
    "    test_end_time = trade.index <= pd.to_datetime(str(day_list[i + train_period]) + ' 13:30:00.000', format = '%Y/%m/%d %H:%M:%S.%f')\n",
    "    test = trade[test_start_time & test_end_time]\n",
    "\n",
    "    current_pool = pool[test_start_time & test_end_time]\n",
    "\n",
    "    mean = np.mean(train['spread'])\n",
    "    std = np.std(train['spread'])\n",
    "\n",
    "    upper = mean + 1.5 * std\n",
    "    lower = mean - 1.5 * std\n",
    "\n",
    "    for tick_idx in (range(len(test.index))): \n",
    "        current_data = test[0:tick_idx + 1]\n",
    "\n",
    "        if tick_idx != len(test.index) - 1:\n",
    "            # long spread\n",
    "            if test.loc[test.index[tick_idx]]['spread'] <= lower: \n",
    "                if np.sum(current_data['signal']) == 0: \n",
    "                    test.at[test.index[tick_idx], 'signal'] = 1\n",
    "                    test.at[test.index[tick_idx], 'cap'] = current_pool.iloc[tick_idx]['SP1'] * 2 - current_pool.iloc[tick_idx]['bidPrice1']\n",
    "\n",
    "            # back to mean\n",
    "            elif test.loc[test.index[tick_idx]]['spread'] >= mean: \n",
    "                if np.sum(current_data['signal']) == 1: \n",
    "                    test.at[test.index[tick_idx], 'signal'] = -1\n",
    "                    test.at[test.index[tick_idx], 'cap'] = - current_pool.iloc[tick_idx]['BP1'] * 2 + current_pool.iloc[tick_idx]['askPrice1']\n",
    "                    test.at[test.index[tick_idx], 'pnl'] = np.sum(current_data['cap']) #+ trade.loc[test.index[tick_idx]]['cap']\n",
    "\n",
    "            # short spread\n",
    "            elif test.loc[test.index[tick_idx]]['spread'] >= upper: \n",
    "                if np.sum(current_data['signal']) == 0: \n",
    "                    test.at[test.index[tick_idx], 'signal'] = -1\n",
    "                    test.at[test.index[tick_idx], 'cap'] = - current_pool.iloc[tick_idx]['BP1'] * 2 + current_pool.iloc[tick_idx]['askPrice1']\n",
    "\n",
    "            # back to mean \n",
    "            elif test.loc[test.index[tick_idx]]['spread'] <= mean: \n",
    "                if np.sum(current_data['signal']) == -1: \n",
    "                    test.at[test.index[tick_idx], 'signal'] = 1\n",
    "                    test.at[test.index[tick_idx], 'cap'] = current_pool.iloc[tick_idx]['SP1'] * 2 - current_pool.iloc[tick_idx]['bidPrice1']\n",
    "                    test.at[test.index[tick_idx], 'pnl'] = np.sum(current_data['cap'])# + trade.loc[test.index[tick_idx]]['cap']\n",
    "\n",
    "            else: \n",
    "                pass\n",
    "        \n",
    "        else:\n",
    "            if np.sum(current_data['signal']) == 1: \n",
    "                test.at[test.index[tick_idx], 'signal'] = -1\n",
    "                test.at[test.index[tick_idx], 'cap'] = - current_pool.iloc[tick_idx]['BP1'] * 2 + current_pool.iloc[tick_idx]['askPrice1']\n",
    "                test.at[test.index[tick_idx], 'pnl'] = np.sum(current_data['cap']) #+ trade.loc[test.index[tick_idx]]['cap']\n",
    "            elif np.sum(current_data['signal']) == -1: \n",
    "                test.at[test.index[tick_idx], 'signal'] = 1\n",
    "                test.at[test.index[tick_idx], 'cap'] = current_pool.iloc[tick_idx]['SP1'] * 2 - current_pool.iloc[tick_idx]['bidPrice1']\n",
    "                test.at[test.index[tick_idx], 'pnl'] = np.sum(current_data['cap']) #+ trade.loc[test.index[tick_idx]]['cap']\n",
    "            else:\n",
    "                pass\n",
    "    \n",
    "    \n",
    "    PnL = np.append(PnL, test[test['pnl'] != 0]['pnl'] + PnL[-1])"
   ]
  },
  {
   "cell_type": "code",
   "execution_count": 15,
   "metadata": {},
   "outputs": [
    {
     "data": {
      "text/plain": [
       "[<matplotlib.lines.Line2D at 0x7f783a26bb20>]"
      ]
     },
     "execution_count": 15,
     "metadata": {},
     "output_type": "execute_result"
    },
    {
     "data": {
      "image/png": "[encoded data removed]",
      "text/plain": [
       "<Figure size 432x288 with 1 Axes>"
      ]
     },
     "metadata": {
      "needs_background": "light"
     },
     "output_type": "display_data"
    }
   ],
   "source": [
    "plt.plot(PnL)"
   ]
  },
  {
   "cell_type": "code",
   "execution_count": null,
   "metadata": {},
   "outputs": [],
   "source": []
  },
  {
   "cell_type": "code",
   "execution_count": 16,
   "metadata": {},
   "outputs": [
    {
     "name": "stderr",
     "output_type": "stream",
     "text": [
      "100%|██████████| 30/30 [01:06<00:00,  2.21s/it]\n"
     ]
    }
   ],
   "source": [
    "futureCode = futureCodeList[4]\n",
    "stockCode = stockCodeList[4]\n",
    "\n",
    "stock = pd.read_csv(data_clean_path + futureCode + \"-\" + stockCode + \"/stock.csv.gz\", compression='gzip', index_col=0)\n",
    "future = pd.read_csv(data_clean_path + futureCode + \"-\" + stockCode + \"/future.csv.gz\", compression='gzip', index_col=0)\n",
    "spread = np.log(stock['price']) - np.log(future['midQ'])\n",
    "spread = pd.DataFrame(spread)\n",
    "spread.columns = ['spread']\n",
    "\n",
    "pool = pd.DataFrame()\n",
    "pool.index = stock.index\n",
    "pool['SP1'] = stock['SP1']\n",
    "pool['BP1'] = stock['BP1']\n",
    "pool['askPrice1'] = future['askPrice1']\n",
    "pool['bidPrice1'] = future['bidPrice1']\n",
    "pool['spread'] = spread['spread']\n",
    "pool.index = pd.to_datetime(pool.index)\n",
    "\n",
    "trade = pd.DataFrame()\n",
    "trade.index = pool.index\n",
    "trade['spread'] = pool['spread']\n",
    "trade['signal'] = 0\n",
    "trade['cap'] = 0\n",
    "trade['pnl'] = 0\n",
    "trade.index = pd.to_datetime(trade.index)\n",
    "\n",
    "day_list = np.unique(pool.index.date)\n",
    "train_period = 3\n",
    "PnL = np.array([0])\n",
    "\n",
    "for i in tqdm(range(len(day_list) - train_period)[-30:]):\n",
    "    train_start_time = trade.index >= pd.to_datetime(str(day_list[i]) + ' 09:00:00.000', format = '%Y/%m/%d %H:%M:%S.%f')\n",
    "    train_end_time = trade.index <= pd.to_datetime(str(day_list[i + train_period - 1]) + ' 13:30:00.000', format = '%Y/%m/%d %H:%M:%S.%f')\n",
    "    train = trade[train_start_time & train_end_time]\n",
    "    test_start_time = trade.index >= pd.to_datetime(str(day_list[i + train_period]) + ' 09:00:00.000', format = '%Y/%m/%d %H:%M:%S.%f')\n",
    "    test_end_time = trade.index <= pd.to_datetime(str(day_list[i + train_period]) + ' 13:30:00.000', format = '%Y/%m/%d %H:%M:%S.%f')\n",
    "    test = trade[test_start_time & test_end_time]\n",
    "\n",
    "    current_pool = pool[test_start_time & test_end_time]\n",
    "\n",
    "    mean = np.mean(train['spread'])\n",
    "    std = np.std(train['spread'])\n",
    "\n",
    "    upper = mean + 1.5 * std\n",
    "    lower = mean - 1.5 * std\n",
    "\n",
    "    for tick_idx in (range(len(test.index))): \n",
    "        current_data = test[0:tick_idx + 1]\n",
    "\n",
    "        if tick_idx != len(test.index) - 1:\n",
    "            # long spread\n",
    "            if test.loc[test.index[tick_idx]]['spread'] <= lower: \n",
    "                if np.sum(current_data['signal']) == 0: \n",
    "                    test.at[test.index[tick_idx], 'signal'] = 1\n",
    "                    test.at[test.index[tick_idx], 'cap'] = current_pool.iloc[tick_idx]['SP1'] * 2 - current_pool.iloc[tick_idx]['bidPrice1']\n",
    "\n",
    "            # back to mean\n",
    "            elif test.loc[test.index[tick_idx]]['spread'] >= mean: \n",
    "                if np.sum(current_data['signal']) == 1: \n",
    "                    test.at[test.index[tick_idx], 'signal'] = -1\n",
    "                    test.at[test.index[tick_idx], 'cap'] = - current_pool.iloc[tick_idx]['BP1'] * 2 + current_pool.iloc[tick_idx]['askPrice1']\n",
    "                    test.at[test.index[tick_idx], 'pnl'] = np.sum(current_data['cap']) #+ trade.loc[test.index[tick_idx]]['cap']\n",
    "\n",
    "            # short spread\n",
    "            elif test.loc[test.index[tick_idx]]['spread'] >= upper: \n",
    "                if np.sum(current_data['signal']) == 0: \n",
    "                    test.at[test.index[tick_idx], 'signal'] = -1\n",
    "                    test.at[test.index[tick_idx], 'cap'] = - current_pool.iloc[tick_idx]['BP1'] * 2 + current_pool.iloc[tick_idx]['askPrice1']\n",
    "\n",
    "            # back to mean \n",
    "            elif test.loc[test.index[tick_idx]]['spread'] <= mean: \n",
    "                if np.sum(current_data['signal']) == -1: \n",
    "                    test.at[test.index[tick_idx], 'signal'] = 1\n",
    "                    test.at[test.index[tick_idx], 'cap'] = current_pool.iloc[tick_idx]['SP1'] * 2 - current_pool.iloc[tick_idx]['bidPrice1']\n",
    "                    test.at[test.index[tick_idx], 'pnl'] = np.sum(current_data['cap'])# + trade.loc[test.index[tick_idx]]['cap']\n",
    "\n",
    "            else: \n",
    "                pass\n",
    "        \n",
    "        else:\n",
    "            if np.sum(current_data['signal']) == 1: \n",
    "                test.at[test.index[tick_idx], 'signal'] = -1\n",
    "                test.at[test.index[tick_idx], 'cap'] = - current_pool.iloc[tick_idx]['BP1'] * 2 + current_pool.iloc[tick_idx]['askPrice1']\n",
    "                test.at[test.index[tick_idx], 'pnl'] = np.sum(current_data['cap']) #+ trade.loc[test.index[tick_idx]]['cap']\n",
    "            elif np.sum(current_data['signal']) == -1: \n",
    "                test.at[test.index[tick_idx], 'signal'] = 1\n",
    "                test.at[test.index[tick_idx], 'cap'] = current_pool.iloc[tick_idx]['SP1'] * 2 - current_pool.iloc[tick_idx]['bidPrice1']\n",
    "                test.at[test.index[tick_idx], 'pnl'] = np.sum(current_data['cap']) #+ trade.loc[test.index[tick_idx]]['cap']\n",
    "            else:\n",
    "                pass\n",
    "    \n",
    "    \n",
    "    PnL = np.append(PnL, test[test['pnl'] != 0]['pnl'] + PnL[-1])"
   ]
  },
  {
   "cell_type": "code",
   "execution_count": 17,
   "metadata": {},
   "outputs": [
    {
     "data": {
      "text/plain": [
       "[<matplotlib.lines.Line2D at 0x7f77942b2eb0>]"
      ]
     },
     "execution_count": 17,
     "metadata": {},
     "output_type": "execute_result"
    },
    {
     "data": {
      "image/png": "[encoded data removed]",
      "text/plain": [
       "<Figure size 432x288 with 1 Axes>"
      ]
     },
     "metadata": {
      "needs_background": "light"
     },
     "output_type": "display_data"
    }
   ],
   "source": [
    "plt.plot(PnL)"
   ]
  },
  {
   "cell_type": "code",
   "execution_count": null,
   "metadata": {},
   "outputs": [],
   "source": []
  },
  {
   "cell_type": "markdown",
   "metadata": {},
   "source": [
    "Pair 3"
   ]
  },
  {
   "cell_type": "code",
   "execution_count": 30,
   "metadata": {},
   "outputs": [
    {
     "name": "stderr",
     "output_type": "stream",
     "text": [
      "100%|██████████| 30/30 [01:46<00:00,  3.55s/it]\n"
     ]
    },
    {
     "data": {
      "text/plain": [
       "[<matplotlib.lines.Line2D at 0x7f775f76ae50>]"
      ]
     },
     "execution_count": 30,
     "metadata": {},
     "output_type": "execute_result"
    },
    {
     "data": {
      "image/png": "[encoded data removed]",
      "text/plain": [
       "<Figure size 432x288 with 1 Axes>"
      ]
     },
     "metadata": {
      "needs_background": "light"
     },
     "output_type": "display_data"
    }
   ],
   "source": [
    "futureCode = futureCodeList[2]\n",
    "stockCode = stockCodeList[2]\n",
    "\n",
    "stock = pd.read_csv(data_clean_path + futureCode + \"-\" + stockCode + \"/stock.csv.gz\", compression='gzip', index_col=0)\n",
    "future = pd.read_csv(data_clean_path + futureCode + \"-\" + stockCode + \"/future.csv.gz\", compression='gzip', index_col=0)\n",
    "spread = np.log(stock['price']) - np.log(future['midQ'])\n",
    "spread = pd.DataFrame(spread)\n",
    "spread.columns = ['spread']\n",
    "\n",
    "pool = pd.DataFrame()\n",
    "pool.index = stock.index\n",
    "pool['SP1'] = stock['SP1']\n",
    "pool['BP1'] = stock['BP1']\n",
    "pool['askPrice1'] = future['askPrice1']\n",
    "pool['bidPrice1'] = future['bidPrice1']\n",
    "pool['spread'] = spread['spread']\n",
    "pool.index = pd.to_datetime(pool.index)\n",
    "\n",
    "trade = pd.DataFrame()\n",
    "trade.index = pool.index\n",
    "trade['spread'] = pool['spread']\n",
    "trade['signal'] = 0\n",
    "trade['cap'] = 0\n",
    "trade['pnl'] = 0\n",
    "trade.index = pd.to_datetime(trade.index)\n",
    "\n",
    "day_list = np.unique(pool.index.date)\n",
    "train_period = 3\n",
    "PnL = np.array([0])\n",
    "\n",
    "for i in tqdm(range(len(day_list) - train_period)[-30:]):\n",
    "    train_start_time = trade.index >= pd.to_datetime(str(day_list[i]) + ' 09:00:00.000', format = '%Y/%m/%d %H:%M:%S.%f')\n",
    "    train_end_time = trade.index <= pd.to_datetime(str(day_list[i + train_period - 1]) + ' 13:30:00.000', format = '%Y/%m/%d %H:%M:%S.%f')\n",
    "    train = trade[train_start_time & train_end_time]\n",
    "    test_start_time = trade.index >= pd.to_datetime(str(day_list[i + train_period]) + ' 09:00:00.000', format = '%Y/%m/%d %H:%M:%S.%f')\n",
    "    test_end_time = trade.index <= pd.to_datetime(str(day_list[i + train_period]) + ' 13:30:00.000', format = '%Y/%m/%d %H:%M:%S.%f')\n",
    "    test = trade[test_start_time & test_end_time]\n",
    "\n",
    "    current_pool = pool[test_start_time & test_end_time]\n",
    "\n",
    "    mean = np.mean(train['spread'])\n",
    "    std = np.std(train['spread'])\n",
    "\n",
    "    upper = mean + 1.5 * std\n",
    "    lower = mean - 1.5 * std\n",
    "\n",
    "    for tick_idx in (range(len(test.index))): \n",
    "        current_data = test[0:tick_idx + 1]\n",
    "\n",
    "        if tick_idx != len(test.index) - 1:\n",
    "            # long spread\n",
    "            if test.loc[test.index[tick_idx]]['spread'] <= lower: \n",
    "                if np.sum(current_data['signal']) == 0: \n",
    "                    test.at[test.index[tick_idx], 'signal'] = 1\n",
    "                    test.at[test.index[tick_idx], 'cap'] = current_pool.iloc[tick_idx]['SP1'] * 2 - current_pool.iloc[tick_idx]['bidPrice1']\n",
    "\n",
    "            # back to mean\n",
    "            elif test.loc[test.index[tick_idx]]['spread'] >= mean: \n",
    "                if np.sum(current_data['signal']) == 1: \n",
    "                    test.at[test.index[tick_idx], 'signal'] = -1\n",
    "                    test.at[test.index[tick_idx], 'cap'] = - current_pool.iloc[tick_idx]['BP1'] * 2 + current_pool.iloc[tick_idx]['askPrice1']\n",
    "                    test.at[test.index[tick_idx], 'pnl'] = np.sum(current_data['cap']) #+ trade.loc[test.index[tick_idx]]['cap']\n",
    "\n",
    "            # short spread\n",
    "            elif test.loc[test.index[tick_idx]]['spread'] >= upper: \n",
    "                if np.sum(current_data['signal']) == 0: \n",
    "                    test.at[test.index[tick_idx], 'signal'] = -1\n",
    "                    test.at[test.index[tick_idx], 'cap'] = - current_pool.iloc[tick_idx]['BP1'] * 2 + current_pool.iloc[tick_idx]['askPrice1']\n",
    "\n",
    "            # back to mean \n",
    "            elif test.loc[test.index[tick_idx]]['spread'] <= mean: \n",
    "                if np.sum(current_data['signal']) == -1: \n",
    "                    test.at[test.index[tick_idx], 'signal'] = 1\n",
    "                    test.at[test.index[tick_idx], 'cap'] = current_pool.iloc[tick_idx]['SP1'] * 2 - current_pool.iloc[tick_idx]['bidPrice1']\n",
    "                    test.at[test.index[tick_idx], 'pnl'] = np.sum(current_data['cap'])# + trade.loc[test.index[tick_idx]]['cap']\n",
    "\n",
    "            else: \n",
    "                pass\n",
    "        \n",
    "        else:\n",
    "            if np.sum(current_data['signal']) == 1: \n",
    "                test.at[test.index[tick_idx], 'signal'] = -1\n",
    "                test.at[test.index[tick_idx], 'cap'] = - current_pool.iloc[tick_idx]['BP1'] * 2 + current_pool.iloc[tick_idx]['askPrice1']\n",
    "                test.at[test.index[tick_idx], 'pnl'] = np.sum(current_data['cap']) #+ trade.loc[test.index[tick_idx]]['cap']\n",
    "            elif np.sum(current_data['signal']) == -1: \n",
    "                test.at[test.index[tick_idx], 'signal'] = 1\n",
    "                test.at[test.index[tick_idx], 'cap'] = current_pool.iloc[tick_idx]['SP1'] * 2 - current_pool.iloc[tick_idx]['bidPrice1']\n",
    "                test.at[test.index[tick_idx], 'pnl'] = np.sum(current_data['cap']) #+ trade.loc[test.index[tick_idx]]['cap']\n",
    "            else:\n",
    "                pass\n",
    "    \n",
    "    \n",
    "    PnL = np.append(PnL, test[test['pnl'] != 0]['pnl'] + PnL[-1])\n",
    "plt.plot(PnL)"
   ]
  },
  {
   "cell_type": "code",
   "execution_count": null,
   "metadata": {},
   "outputs": [],
   "source": []
  }
 ],
 "metadata": {
  "kernelspec": {
   "display_name": "base",
   "language": "python",
   "name": "python3"
  },
  "language_info": {
   "codemirror_mode": {
    "name": "ipython",
    "version": 3
   },
   "file_extension": ".py",
   "mimetype": "text/x-python",
   "name": "python",
   "nbconvert_exporter": "python",
   "pygments_lexer": "ipython3",
   "version": "3.9.12"
  },
  "orig_nbformat": 4
 },
 "nbformat": 4,
 "nbformat_minor": 2
}
