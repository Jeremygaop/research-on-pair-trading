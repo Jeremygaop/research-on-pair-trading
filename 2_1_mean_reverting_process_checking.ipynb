{
 "cells": [
  {
   "cell_type": "code",
   "execution_count": 1,
   "metadata": {},
   "outputs": [],
   "source": [
    "import pandas as pd\n",
    "import numpy as np\n",
    "import matplotlib.pyplot as plt\n",
    "import func\n",
    "import os\n",
    "from statsmodels.graphics.tsaplots import plot_pacf\n",
    "from statsmodels.tsa.ar_model import AutoReg\n",
    "import statsmodels.tsa.stattools as ts"
   ]
  },
  {
   "cell_type": "code",
   "execution_count": 2,
   "metadata": {},
   "outputs": [],
   "source": [
    "futureCodeList = ['JBF', 'QWF', 'HCF', 'DBF', 'EHF', 'IPF', 'IIF', 'QXF', 'PEF', 'NAF']\n",
    "stockCodeList = ['3443', '2388', '2498', '2610', '1319', '3035', '3006', '2615', '5425', '3105']\n",
    "\n",
    "maindir = os.getcwd()"
   ]
  },
  {
   "cell_type": "code",
   "execution_count": 10,
   "metadata": {},
   "outputs": [
    {
     "name": "stdout",
     "output_type": "stream",
     "text": [
      "Mean Reversion Tesing Begin. \n",
      "=================\n",
      "JBF-3443 spread test\n",
      "test stat: -97.63101793973865\n",
      "test threshold: -2.8615404403351756\n",
      "JBF-3443 is mean reverting. \n",
      "=================\n",
      "QWF-2388 spread test\n",
      "test stat: -61.136223752338545\n",
      "test threshold: -2.8615404611094153\n",
      "QWF-2388 is mean reverting. \n",
      "=================\n",
      "HCF-2498 spread test\n",
      "test stat: -131.67482759412405\n",
      "test threshold: -2.861540202472266\n",
      "HCF-2498 is mean reverting. \n",
      "=================\n",
      "DBF-2610 spread test\n",
      "test stat: -74.34521263156986\n",
      "test threshold: -2.8615404241594624\n",
      "DBF-2610 is mean reverting. \n",
      "=================\n",
      "EHF-1319 spread test\n",
      "test stat: -170.40274535285485\n",
      "test threshold: -2.861540809114321\n",
      "EHF-1319 is mean reverting. \n",
      "=================\n",
      "IPF-3035 spread test\n",
      "test stat: -198.64754758342596\n",
      "test threshold: -2.8615401585109934\n",
      "IPF-3035 is mean reverting. \n",
      "=================\n",
      "IIF-3006 spread test\n",
      "test stat: -81.92207203242627\n",
      "test threshold: -2.8615403575929155\n",
      "IIF-3006 is mean reverting. \n",
      "=================\n",
      "QXF-2615 spread test\n",
      "test stat: -130.48854128011212\n",
      "test threshold: -2.8615404784789167\n",
      "QXF-2615 is mean reverting. \n",
      "=================\n",
      "PEF-5425 spread test\n",
      "test stat: -153.52050178706796\n",
      "test threshold: -2.861540296436875\n",
      "PEF-5425 is mean reverting. \n",
      "=================\n",
      "NAF-3105 spread test\n",
      "test stat: -148.47353284899327\n",
      "test threshold: -2.8615405217746517\n",
      "NAF-3105 is mean reverting. \n",
      "=================\n"
     ]
    }
   ],
   "source": [
    "print(\"Mean Reversion Tesing Begin. \")\n",
    "print(\"=================\")\n",
    "\n",
    "for i in range(10):\n",
    "\n",
    "    futureCode = futureCodeList[i]\n",
    "    stockCode = stockCodeList[i]\n",
    "\n",
    "    print(futureCode + '-' + stockCode + \" spread test\")\n",
    "    X = pd.read_csv(maindir + '/dataCleaned/' + futureCode + '-' + stockCode + '/spread.csv.gz', compression='gzip', index_col=0)\n",
    "\n",
    "    adf = ts.adfuller(X, 1)\n",
    "    test_stat = adf[0]\n",
    "    five_percent_threshold = adf[4]['5%']\n",
    "    if test_stat <= five_percent_threshold:\n",
    "        print(\"test stat: \" + str(test_stat))\n",
    "        print(\"test threshold: \"+ str(five_percent_threshold))\n",
    "        print(futureCode + '-' + stockCode + \" is mean reverting. \")\n",
    "    else: \n",
    "        print(futureCode + '-' + stockCode + \" is NOT mean reverting. \")\n",
    "\n",
    "    print(\"=================\")"
   ]
  },
  {
   "cell_type": "code",
   "execution_count": null,
   "metadata": {},
   "outputs": [],
   "source": []
  },
  {
   "cell_type": "code",
   "execution_count": 4,
   "metadata": {},
   "outputs": [
    {
     "ename": "ValueError",
     "evalue": "could not convert string to float: '2020-07-01 09:00:02.246'",
     "output_type": "error",
     "traceback": [
      "\u001b[0;31m---------------------------------------------------------------------------\u001b[0m",
      "\u001b[0;31mValueError\u001b[0m                                Traceback (most recent call last)",
      "\u001b[1;32m/Users/shezihua/Documents/MAFM/2022-2023 Summer/MAFS 6100L/SummerIndependentProject/2_1_mean_reverting_process_checking.ipynb 单元格 5\u001b[0m in \u001b[0;36m<cell line: 6>\u001b[0;34m()\u001b[0m\n\u001b[1;32m      <a href='vscode-notebook-cell:/Users/shezihua/Documents/MAFM/2022-2023%20Summer/MAFS%206100L/SummerIndependentProject/2_1_mean_reverting_process_checking.ipynb#W4sZmlsZQ%3D%3D?line=1'>2</a>\u001b[0m stockCode \u001b[39m=\u001b[39m stockCodeList[\u001b[39m0\u001b[39m]\n\u001b[1;32m      <a href='vscode-notebook-cell:/Users/shezihua/Documents/MAFM/2022-2023%20Summer/MAFS%206100L/SummerIndependentProject/2_1_mean_reverting_process_checking.ipynb#W4sZmlsZQ%3D%3D?line=3'>4</a>\u001b[0m X \u001b[39m=\u001b[39m pd\u001b[39m.\u001b[39mread_csv(maindir \u001b[39m+\u001b[39m \u001b[39m'\u001b[39m\u001b[39m/dataCleaned/\u001b[39m\u001b[39m'\u001b[39m \u001b[39m+\u001b[39m futureCode \u001b[39m+\u001b[39m \u001b[39m'\u001b[39m\u001b[39m-\u001b[39m\u001b[39m'\u001b[39m \u001b[39m+\u001b[39m stockCode \u001b[39m+\u001b[39m \u001b[39m'\u001b[39m\u001b[39m/spread.csv.gz\u001b[39m\u001b[39m'\u001b[39m, compression\u001b[39m=\u001b[39m\u001b[39m'\u001b[39m\u001b[39mgzip\u001b[39m\u001b[39m'\u001b[39m)\n\u001b[0;32m----> <a href='vscode-notebook-cell:/Users/shezihua/Documents/MAFM/2022-2023%20Summer/MAFS%206100L/SummerIndependentProject/2_1_mean_reverting_process_checking.ipynb#W4sZmlsZQ%3D%3D?line=5'>6</a>\u001b[0m adf \u001b[39m=\u001b[39m ts\u001b[39m.\u001b[39;49madfuller(X, \u001b[39m1\u001b[39;49m)\n\u001b[1;32m      <a href='vscode-notebook-cell:/Users/shezihua/Documents/MAFM/2022-2023%20Summer/MAFS%206100L/SummerIndependentProject/2_1_mean_reverting_process_checking.ipynb#W4sZmlsZQ%3D%3D?line=6'>7</a>\u001b[0m test_stat \u001b[39m=\u001b[39m adf[\u001b[39m0\u001b[39m]\n\u001b[1;32m      <a href='vscode-notebook-cell:/Users/shezihua/Documents/MAFM/2022-2023%20Summer/MAFS%206100L/SummerIndependentProject/2_1_mean_reverting_process_checking.ipynb#W4sZmlsZQ%3D%3D?line=7'>8</a>\u001b[0m five_percent_threshold \u001b[39m=\u001b[39m adf[\u001b[39m4\u001b[39m][\u001b[39m'\u001b[39m\u001b[39m5\u001b[39m\u001b[39m%\u001b[39m\u001b[39m'\u001b[39m]\n",
      "File \u001b[0;32m/opt/anaconda3/lib/python3.9/site-packages/statsmodels/tsa/stattools.py:260\u001b[0m, in \u001b[0;36madfuller\u001b[0;34m(x, maxlag, regression, autolag, store, regresults)\u001b[0m\n\u001b[1;32m    165\u001b[0m \u001b[39mdef\u001b[39;00m \u001b[39madfuller\u001b[39m(\n\u001b[1;32m    166\u001b[0m     x,\n\u001b[1;32m    167\u001b[0m     maxlag: \u001b[39mint\u001b[39m \u001b[39m|\u001b[39m \u001b[39mNone\u001b[39;00m \u001b[39m=\u001b[39m \u001b[39mNone\u001b[39;00m,\n\u001b[0;32m   (...)\u001b[0m\n\u001b[1;32m    171\u001b[0m     regresults\u001b[39m=\u001b[39m\u001b[39mFalse\u001b[39;00m,\n\u001b[1;32m    172\u001b[0m ):\n\u001b[1;32m    173\u001b[0m \u001b[39m    \u001b[39m\u001b[39m\"\"\"\u001b[39;00m\n\u001b[1;32m    174\u001b[0m \u001b[39m    Augmented Dickey-Fuller unit root test.\u001b[39;00m\n\u001b[1;32m    175\u001b[0m \n\u001b[0;32m   (...)\u001b[0m\n\u001b[1;32m    258\u001b[0m \u001b[39m    See example notebook\u001b[39;00m\n\u001b[1;32m    259\u001b[0m \u001b[39m    \"\"\"\u001b[39;00m\n\u001b[0;32m--> 260\u001b[0m     x \u001b[39m=\u001b[39m array_like(x, \u001b[39m\"\u001b[39;49m\u001b[39mx\u001b[39;49m\u001b[39m\"\u001b[39;49m)\n\u001b[1;32m    261\u001b[0m     maxlag \u001b[39m=\u001b[39m int_like(maxlag, \u001b[39m\"\u001b[39m\u001b[39mmaxlag\u001b[39m\u001b[39m\"\u001b[39m, optional\u001b[39m=\u001b[39m\u001b[39mTrue\u001b[39;00m)\n\u001b[1;32m    262\u001b[0m     regression \u001b[39m=\u001b[39m rename_trend(regression)\n",
      "File \u001b[0;32m/opt/anaconda3/lib/python3.9/site-packages/statsmodels/tools/validation/validation.py:135\u001b[0m, in \u001b[0;36marray_like\u001b[0;34m(obj, name, dtype, ndim, maxdim, shape, order, contiguous, optional)\u001b[0m\n\u001b[1;32m    133\u001b[0m \u001b[39mif\u001b[39;00m optional \u001b[39mand\u001b[39;00m obj \u001b[39mis\u001b[39;00m \u001b[39mNone\u001b[39;00m:\n\u001b[1;32m    134\u001b[0m     \u001b[39mreturn\u001b[39;00m \u001b[39mNone\u001b[39;00m\n\u001b[0;32m--> 135\u001b[0m arr \u001b[39m=\u001b[39m np\u001b[39m.\u001b[39;49masarray(obj, dtype\u001b[39m=\u001b[39;49mdtype, order\u001b[39m=\u001b[39;49morder)\n\u001b[1;32m    136\u001b[0m \u001b[39mif\u001b[39;00m maxdim \u001b[39mis\u001b[39;00m \u001b[39mnot\u001b[39;00m \u001b[39mNone\u001b[39;00m:\n\u001b[1;32m    137\u001b[0m     \u001b[39mif\u001b[39;00m arr\u001b[39m.\u001b[39mndim \u001b[39m>\u001b[39m maxdim:\n",
      "File \u001b[0;32m/opt/anaconda3/lib/python3.9/site-packages/pandas/core/generic.py:2072\u001b[0m, in \u001b[0;36mNDFrame.__array__\u001b[0;34m(self, dtype)\u001b[0m\n\u001b[1;32m   2071\u001b[0m \u001b[39mdef\u001b[39;00m \u001b[39m__array__\u001b[39m(\u001b[39mself\u001b[39m, dtype: npt\u001b[39m.\u001b[39mDTypeLike \u001b[39m|\u001b[39m \u001b[39mNone\u001b[39;00m \u001b[39m=\u001b[39m \u001b[39mNone\u001b[39;00m) \u001b[39m-\u001b[39m\u001b[39m>\u001b[39m np\u001b[39m.\u001b[39mndarray:\n\u001b[0;32m-> 2072\u001b[0m     \u001b[39mreturn\u001b[39;00m np\u001b[39m.\u001b[39;49masarray(\u001b[39mself\u001b[39;49m\u001b[39m.\u001b[39;49m_values, dtype\u001b[39m=\u001b[39;49mdtype)\n",
      "\u001b[0;31mValueError\u001b[0m: could not convert string to float: '2020-07-01 09:00:02.246'"
     ]
    }
   ],
   "source": [
    "futureCode = futureCodeList[0]\n",
    "stockCode = stockCodeList[0]\n",
    "\n",
    "X = pd.read_csv(maindir + '/dataCleaned/' + futureCode + '-' + stockCode + '/spread.csv.gz', compression='gzip')\n",
    "\n",
    "adf = ts.adfuller(X, 1)\n",
    "test_stat = adf[0]\n",
    "five_percent_threshold = adf[4]['5%']\n",
    "if test_stat <= five_percent_threshold:\n",
    "    print(\"This spread is mean reverting. \")\n",
    "else: \n",
    "    print(\"This spread is NOT mean reverting. \")"
   ]
  },
  {
   "cell_type": "code",
   "execution_count": null,
   "metadata": {},
   "outputs": [],
   "source": []
  }
 ],
 "metadata": {
  "kernelspec": {
   "display_name": "base",
   "language": "python",
   "name": "python3"
  },
  "language_info": {
   "codemirror_mode": {
    "name": "ipython",
    "version": 3
   },
   "file_extension": ".py",
   "mimetype": "text/x-python",
   "name": "python",
   "nbconvert_exporter": "python",
   "pygments_lexer": "ipython3",
   "version": "3.9.12"
  },
  "orig_nbformat": 4
 },
 "nbformat": 4,
 "nbformat_minor": 2
}
