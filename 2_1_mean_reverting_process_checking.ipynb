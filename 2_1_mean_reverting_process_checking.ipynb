{
 "cells": [
  {
   "cell_type": "code",
   "execution_count": 15,
   "metadata": {},
   "outputs": [],
   "source": [
    "import pandas as pd\n",
    "import numpy as np\n",
    "import matplotlib.pyplot as plt\n",
    "import func\n",
    "import os\n",
    "from statsmodels.graphics.tsaplots import plot_pacf\n",
    "from statsmodels.tsa.ar_model import AutoReg\n",
    "import statsmodels.tsa.stattools as ts"
   ]
  },
  {
   "cell_type": "code",
   "execution_count": 16,
   "metadata": {},
   "outputs": [],
   "source": [
    "futureCodeList = ['JBF', 'QWF', 'HCF', 'DBF', 'EHF', 'IPF', 'IIF', 'QXF', 'PEF', 'NAF']\n",
    "stockCodeList = ['3443', '2388', '2498', '2610', '1319', '3035', '3006', '2615', '5425', '3105']\n",
    "\n",
    "maindir = os.getcwd()"
   ]
  },
  {
   "cell_type": "code",
   "execution_count": 17,
   "metadata": {},
   "outputs": [
    {
     "name": "stdout",
     "output_type": "stream",
     "text": [
      "Mean Reversion Tesing Begin. \n",
      "=================\n",
      "JBF-3443 spread test\n",
      "JBF-3443 is mean reverting. \n",
      "=================\n",
      "QWF-2388 spread test\n",
      "QWF-2388 is mean reverting. \n",
      "=================\n",
      "HCF-2498 spread test\n",
      "HCF-2498 is mean reverting. \n",
      "=================\n",
      "DBF-2610 spread test\n",
      "DBF-2610 is mean reverting. \n",
      "=================\n",
      "EHF-1319 spread test\n",
      "EHF-1319 is mean reverting. \n",
      "=================\n",
      "IPF-3035 spread test\n",
      "IPF-3035 is mean reverting. \n",
      "=================\n",
      "IIF-3006 spread test\n",
      "IIF-3006 is mean reverting. \n",
      "=================\n",
      "QXF-2615 spread test\n",
      "QXF-2615 is mean reverting. \n",
      "=================\n",
      "PEF-5425 spread test\n",
      "PEF-5425 is mean reverting. \n",
      "=================\n",
      "NAF-3105 spread test\n",
      "NAF-3105 is mean reverting. \n",
      "=================\n"
     ]
    }
   ],
   "source": [
    "print(\"Mean Reversion Tesing Begin. \")\n",
    "print(\"=================\")\n",
    "\n",
    "for i in range(10):\n",
    "\n",
    "    futureCode = futureCodeList[i]\n",
    "    stockCode = stockCodeList[i]\n",
    "\n",
    "    print(futureCode + '-' + stockCode + \" spread test\")\n",
    "    X = pd.read_csv(maindir + '/dataCleaned/' + futureCode + '-' + stockCode + '/spread.csv.gz', compression='gzip')\n",
    "\n",
    "    adf = ts.adfuller(X, 1)\n",
    "    test_stat = adf[0]\n",
    "    five_percent_threshold = adf[4]['5%']\n",
    "    if test_stat <= five_percent_threshold:\n",
    "        print(futureCode + '-' + stockCode + \" is mean reverting. \")\n",
    "    else: \n",
    "        print(futureCode + '-' + stockCode + \" is NOT mean reverting. \")\n",
    "\n",
    "    print(\"=================\")"
   ]
  },
  {
   "cell_type": "code",
   "execution_count": null,
   "metadata": {},
   "outputs": [],
   "source": []
  },
  {
   "cell_type": "code",
   "execution_count": 13,
   "metadata": {},
   "outputs": [
    {
     "name": "stdout",
     "output_type": "stream",
     "text": [
      "(-97.63101793973294, 0.0, 1, 6563865, {'1%': -3.4303509962579297, '5%': -2.8615404403351756, '10%': -2.5667702343741725}, -81329224.2882387)\n",
      "This spread is mean reverting. \n"
     ]
    }
   ],
   "source": [
    "futureCode = futureCodeList[0]\n",
    "stockCode = stockCodeList[0]\n",
    "\n",
    "X = pd.read_csv(maindir + '/dataCleaned/' + futureCode + '-' + stockCode + '/spread.csv.gz', compression='gzip')\n",
    "\n",
    "adf = ts.adfuller(X, 1)\n",
    "test_stat = adf[0]\n",
    "five_percent_threshold = adf[4]['5%']\n",
    "if test_stat <= five_percent_threshold:\n",
    "    print(\"This spread is mean reverting. \")\n",
    "else: \n",
    "    print(\"This spread is NOT mean reverting. \")"
   ]
  },
  {
   "cell_type": "code",
   "execution_count": null,
   "metadata": {},
   "outputs": [],
   "source": []
  }
 ],
 "metadata": {
  "kernelspec": {
   "display_name": "base",
   "language": "python",
   "name": "python3"
  },
  "language_info": {
   "codemirror_mode": {
    "name": "ipython",
    "version": 3
   },
   "file_extension": ".py",
   "mimetype": "text/x-python",
   "name": "python",
   "nbconvert_exporter": "python",
   "pygments_lexer": "ipython3",
   "version": "3.9.12"
  },
  "orig_nbformat": 4
 },
 "nbformat": 4,
 "nbformat_minor": 2
}
