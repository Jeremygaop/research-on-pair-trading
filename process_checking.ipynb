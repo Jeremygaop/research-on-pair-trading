{
 "cells": [
  {
   "cell_type": "code",
   "execution_count": null,
   "metadata": {},
   "outputs": [],
   "source": [
    "import pandas as pd\n",
    "import numpy as np\n",
    "import matplotlib.pyplot as plt\n",
    "import func\n",
    "import os\n",
    "from statsmodels.graphics.tsaplots import plot_pacf\n",
    "from statsmodels.tsa.ar_model import AutoReg"
   ]
  },
  {
   "cell_type": "code",
   "execution_count": null,
   "metadata": {},
   "outputs": [],
   "source": [
    "futureCodeList = ['JBF', 'QWF', 'HCF', 'DBF', 'EHF', 'IPF', 'IIF', 'QXF', 'PEF', 'NAF']\n",
    "stockCodeList = ['3443', '2388', '2498', '2610', '1319', '3035', '3006', '2615', '5425', '3105']\n",
    "\n",
    "maindir = os.getcwd()"
   ]
  },
  {
   "cell_type": "code",
   "execution_count": null,
   "metadata": {},
   "outputs": [],
   "source": [
    "for i in range(10):\n",
    "    futureCode = futureCodeList[i]\n",
    "    stockCode = stockCodeList[i]\n",
    "\n",
    "    print(futureCode + '-' + stockCode + \" spread test\")\n",
    "    X = pd.read_csv(maindir + '/dataCleaned/' + futureCode + '-' + stockCode + '/spread.csv.gz', compression='gzip')\n",
    "    func.pricePlot(X)\n",
    "    plt.title(futureCode + '-' + stockCode + \" spread\")\n",
    "    plt.show()\n",
    "\n",
    "    pacf = plot_pacf(X, lags=10)\n",
    "    plt.title(\"PACF of spread\")\n",
    "    pacf.show()\n",
    "\n",
    "    model = AutoReg(X, lags=1).fit()\n",
    "    pacf = plot_pacf(model.resid, lags=10)\n",
    "    plt.title(\"PACF of residual\")\n",
    "    pacf.show()\n",
    "    print(\"=================\")"
   ]
  },
  {
   "cell_type": "code",
   "execution_count": null,
   "metadata": {},
   "outputs": [],
   "source": []
  },
  {
   "cell_type": "code",
   "execution_count": null,
   "metadata": {},
   "outputs": [],
   "source": [
    "futureCode = futureCodeList[0]\n",
    "stockCode = stockCodeList[0]\n",
    "\n",
    "X = pd.read_csv(maindir + '/dataCleaned/' + futureCode + '-' + stockCode + '/spread.csv.gz', compression='gzip')\n",
    "\n",
    "model = AutoReg(X, lags=1).fit()\n",
    "pacf = plot_pacf(model.resid, lags=10)\n",
    "plt.title(\"PACF of residual\")\n",
    "pacf.show()\n"
   ]
  }
 ],
 "metadata": {
  "kernelspec": {
   "display_name": "base",
   "language": "python",
   "name": "python3"
  },
  "language_info": {
   "codemirror_mode": {
    "name": "ipython",
    "version": 3
   },
   "file_extension": ".py",
   "mimetype": "text/x-python",
   "name": "python",
   "nbconvert_exporter": "python",
   "pygments_lexer": "ipython3",
   "version": "3.9.12"
  },
  "orig_nbformat": 4
 },
 "nbformat": 4,
 "nbformat_minor": 2
}
