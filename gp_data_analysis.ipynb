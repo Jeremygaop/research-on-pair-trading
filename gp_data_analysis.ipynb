{
 "nbformat": 4,
 "nbformat_minor": 0,
 "metadata": {
  "colab": {
   "provenance": []
  },
  "kernelspec": {
   "name": "python3",
   "display_name": "Python 3"
  },
  "language_info": {
   "name": "python"
  }
 },
 "cells": [
  {
   "cell_type": "code",
   "execution_count": 32,
   "outputs": [],
   "source": [
    "import pandas as pd\n",
    "import os\n",
    "import numpy as np\n",
    "from tqdm import tqdm"
   ],
   "metadata": {
    "collapsed": false
   }
  },
  {
   "cell_type": "code",
   "source": [
    "tradingPairs = {'JBF':'3443','QWF':'2388','HCF':'2498','DBF':'2610','EHF':'1319','IPF':'3035','IIF':'3006','QXF':'2615','PEF':'5425','NAF':'3105'}"
   ],
   "metadata": {
    "id": "P5_s0iwlFGLd"
   },
   "execution_count": 33,
   "outputs": []
  },
  {
   "cell_type": "code",
   "source": [
    "stockPath = \"../tickData/stocks\"\n",
    "stockFiles = os.listdir(stockPath)\n",
    "futuresPath = \"../tickData/futuresOB\"\n",
    "futuresFiles = os.listdir(futuresPath)\n",
    "stockFiles.remove('.DS_Store')\n",
    "futuresFiles.remove('.DS_Store')"
   ],
   "metadata": {
    "id": "6SYw61kYkShi"
   },
   "execution_count": 34,
   "outputs": []
  },
  {
   "cell_type": "code",
   "source": [
    "stockData = {}\n",
    "futuresData = {}\n",
    "for file in stockFiles:\n",
    "  stockData[file] = os.listdir(stockPath + '/' + file)\n",
    "for file in futuresFiles:\n",
    "  futuresData[file] = os.listdir(futuresPath + '/' + file)"
   ],
   "metadata": {
    "id": "CJbe1jBMlbB9"
   },
   "execution_count": 35,
   "outputs": []
  },
  {
   "cell_type": "code",
   "execution_count": 36,
   "outputs": [
    {
     "data": {
      "text/plain": "       Unnamed: 0        date       time  lastPx  size  volume     SP5  \\\n0               0  2020-07-01   90023105  3670.0   5.0       5  3700.0   \n1               1  2020-07-01   90025201     NaN   NaN       5  3700.0   \n2               2  2020-07-01   90035492  3670.0   1.0       6  3700.0   \n3               3  2020-07-01   90039927     NaN   NaN       6  3700.0   \n4               4  2020-07-01   90053917  3670.0   5.0      11  3700.0   \n...           ...         ...        ...     ...   ...     ...     ...   \n43440         960  2020-07-31  132431079  3450.0   3.0     290  3480.0   \n43441         961  2020-07-31  132431141     NaN   NaN     290  3480.0   \n43442         962  2020-07-31  132432238     NaN   NaN     290  3480.0   \n43443         963  2020-07-31  132441213  3455.0   1.0     291  3480.0   \n43444         964  2020-07-31  132445337     NaN   NaN     291  3480.0   \n\n          SP4     SP3     SP2  ...  SV5  SV4  SV3  SV2  SV1  BV1  BV2  BV3  \\\n0      3695.0  3690.0  3680.0  ...   14    3    1    1    8    1    7   20   \n1      3695.0  3690.0  3680.0  ...   14    4    1    1    8    1    7   20   \n2      3695.0  3690.0  3680.0  ...   14    4    1    1    7    1    7   20   \n3      3695.0  3690.0  3680.0  ...   14    4    1    1    7    1    9   20   \n4      3695.0  3690.0  3680.0  ...   14    4    1    1    2    1    9   20   \n...       ...     ...     ...  ...  ...  ...  ...  ...  ...  ...  ...  ...   \n43440  3475.0  3470.0  3465.0  ...   20    4   44    5   24   13    4    7   \n43441  3475.0  3470.0  3465.0  ...   18    4   44    5   24   13    4    7   \n43442  3475.0  3470.0  3465.0  ...   18    4   44    5   24    3   13    4   \n43443  3475.0  3470.0  3465.0  ...   18    4   44    5   24    2   13    4   \n43444  3475.0  3470.0  3465.0  ...   18    4   44    5   21    2   13    4   \n\n       BV4  BV5  \n0       21    3  \n1       21    3  \n2       21    3  \n3       21    3  \n4       21    3  \n...    ...  ...  \n43440    6   24  \n43441    6   24  \n43442    7    6  \n43443    7    6  \n43444    7    6  \n\n[43445 rows x 26 columns]",
      "text/html": "<div>\n<style scoped>\n    .dataframe tbody tr th:only-of-type {\n        vertical-align: middle;\n    }\n\n    .dataframe tbody tr th {\n        vertical-align: top;\n    }\n\n    .dataframe thead th {\n        text-align: right;\n    }\n</style>\n<table border=\"1\" class=\"dataframe\">\n  <thead>\n    <tr style=\"text-align: right;\">\n      <th></th>\n      <th>Unnamed: 0</th>\n      <th>date</th>\n      <th>time</th>\n      <th>lastPx</th>\n      <th>size</th>\n      <th>volume</th>\n      <th>SP5</th>\n      <th>SP4</th>\n      <th>SP3</th>\n      <th>SP2</th>\n      <th>...</th>\n      <th>SV5</th>\n      <th>SV4</th>\n      <th>SV3</th>\n      <th>SV2</th>\n      <th>SV1</th>\n      <th>BV1</th>\n      <th>BV2</th>\n      <th>BV3</th>\n      <th>BV4</th>\n      <th>BV5</th>\n    </tr>\n  </thead>\n  <tbody>\n    <tr>\n      <th>0</th>\n      <td>0</td>\n      <td>2020-07-01</td>\n      <td>90023105</td>\n      <td>3670.0</td>\n      <td>5.0</td>\n      <td>5</td>\n      <td>3700.0</td>\n      <td>3695.0</td>\n      <td>3690.0</td>\n      <td>3680.0</td>\n      <td>...</td>\n      <td>14</td>\n      <td>3</td>\n      <td>1</td>\n      <td>1</td>\n      <td>8</td>\n      <td>1</td>\n      <td>7</td>\n      <td>20</td>\n      <td>21</td>\n      <td>3</td>\n    </tr>\n    <tr>\n      <th>1</th>\n      <td>1</td>\n      <td>2020-07-01</td>\n      <td>90025201</td>\n      <td>NaN</td>\n      <td>NaN</td>\n      <td>5</td>\n      <td>3700.0</td>\n      <td>3695.0</td>\n      <td>3690.0</td>\n      <td>3680.0</td>\n      <td>...</td>\n      <td>14</td>\n      <td>4</td>\n      <td>1</td>\n      <td>1</td>\n      <td>8</td>\n      <td>1</td>\n      <td>7</td>\n      <td>20</td>\n      <td>21</td>\n      <td>3</td>\n    </tr>\n    <tr>\n      <th>2</th>\n      <td>2</td>\n      <td>2020-07-01</td>\n      <td>90035492</td>\n      <td>3670.0</td>\n      <td>1.0</td>\n      <td>6</td>\n      <td>3700.0</td>\n      <td>3695.0</td>\n      <td>3690.0</td>\n      <td>3680.0</td>\n      <td>...</td>\n      <td>14</td>\n      <td>4</td>\n      <td>1</td>\n      <td>1</td>\n      <td>7</td>\n      <td>1</td>\n      <td>7</td>\n      <td>20</td>\n      <td>21</td>\n      <td>3</td>\n    </tr>\n    <tr>\n      <th>3</th>\n      <td>3</td>\n      <td>2020-07-01</td>\n      <td>90039927</td>\n      <td>NaN</td>\n      <td>NaN</td>\n      <td>6</td>\n      <td>3700.0</td>\n      <td>3695.0</td>\n      <td>3690.0</td>\n      <td>3680.0</td>\n      <td>...</td>\n      <td>14</td>\n      <td>4</td>\n      <td>1</td>\n      <td>1</td>\n      <td>7</td>\n      <td>1</td>\n      <td>9</td>\n      <td>20</td>\n      <td>21</td>\n      <td>3</td>\n    </tr>\n    <tr>\n      <th>4</th>\n      <td>4</td>\n      <td>2020-07-01</td>\n      <td>90053917</td>\n      <td>3670.0</td>\n      <td>5.0</td>\n      <td>11</td>\n      <td>3700.0</td>\n      <td>3695.0</td>\n      <td>3690.0</td>\n      <td>3680.0</td>\n      <td>...</td>\n      <td>14</td>\n      <td>4</td>\n      <td>1</td>\n      <td>1</td>\n      <td>2</td>\n      <td>1</td>\n      <td>9</td>\n      <td>20</td>\n      <td>21</td>\n      <td>3</td>\n    </tr>\n    <tr>\n      <th>...</th>\n      <td>...</td>\n      <td>...</td>\n      <td>...</td>\n      <td>...</td>\n      <td>...</td>\n      <td>...</td>\n      <td>...</td>\n      <td>...</td>\n      <td>...</td>\n      <td>...</td>\n      <td>...</td>\n      <td>...</td>\n      <td>...</td>\n      <td>...</td>\n      <td>...</td>\n      <td>...</td>\n      <td>...</td>\n      <td>...</td>\n      <td>...</td>\n      <td>...</td>\n      <td>...</td>\n    </tr>\n    <tr>\n      <th>43440</th>\n      <td>960</td>\n      <td>2020-07-31</td>\n      <td>132431079</td>\n      <td>3450.0</td>\n      <td>3.0</td>\n      <td>290</td>\n      <td>3480.0</td>\n      <td>3475.0</td>\n      <td>3470.0</td>\n      <td>3465.0</td>\n      <td>...</td>\n      <td>20</td>\n      <td>4</td>\n      <td>44</td>\n      <td>5</td>\n      <td>24</td>\n      <td>13</td>\n      <td>4</td>\n      <td>7</td>\n      <td>6</td>\n      <td>24</td>\n    </tr>\n    <tr>\n      <th>43441</th>\n      <td>961</td>\n      <td>2020-07-31</td>\n      <td>132431141</td>\n      <td>NaN</td>\n      <td>NaN</td>\n      <td>290</td>\n      <td>3480.0</td>\n      <td>3475.0</td>\n      <td>3470.0</td>\n      <td>3465.0</td>\n      <td>...</td>\n      <td>18</td>\n      <td>4</td>\n      <td>44</td>\n      <td>5</td>\n      <td>24</td>\n      <td>13</td>\n      <td>4</td>\n      <td>7</td>\n      <td>6</td>\n      <td>24</td>\n    </tr>\n    <tr>\n      <th>43442</th>\n      <td>962</td>\n      <td>2020-07-31</td>\n      <td>132432238</td>\n      <td>NaN</td>\n      <td>NaN</td>\n      <td>290</td>\n      <td>3480.0</td>\n      <td>3475.0</td>\n      <td>3470.0</td>\n      <td>3465.0</td>\n      <td>...</td>\n      <td>18</td>\n      <td>4</td>\n      <td>44</td>\n      <td>5</td>\n      <td>24</td>\n      <td>3</td>\n      <td>13</td>\n      <td>4</td>\n      <td>7</td>\n      <td>6</td>\n    </tr>\n    <tr>\n      <th>43443</th>\n      <td>963</td>\n      <td>2020-07-31</td>\n      <td>132441213</td>\n      <td>3455.0</td>\n      <td>1.0</td>\n      <td>291</td>\n      <td>3480.0</td>\n      <td>3475.0</td>\n      <td>3470.0</td>\n      <td>3465.0</td>\n      <td>...</td>\n      <td>18</td>\n      <td>4</td>\n      <td>44</td>\n      <td>5</td>\n      <td>24</td>\n      <td>2</td>\n      <td>13</td>\n      <td>4</td>\n      <td>7</td>\n      <td>6</td>\n    </tr>\n    <tr>\n      <th>43444</th>\n      <td>964</td>\n      <td>2020-07-31</td>\n      <td>132445337</td>\n      <td>NaN</td>\n      <td>NaN</td>\n      <td>291</td>\n      <td>3480.0</td>\n      <td>3475.0</td>\n      <td>3470.0</td>\n      <td>3465.0</td>\n      <td>...</td>\n      <td>18</td>\n      <td>4</td>\n      <td>44</td>\n      <td>5</td>\n      <td>21</td>\n      <td>2</td>\n      <td>13</td>\n      <td>4</td>\n      <td>7</td>\n      <td>6</td>\n    </tr>\n  </tbody>\n</table>\n<p>43445 rows × 26 columns</p>\n</div>"
     },
     "execution_count": 36,
     "metadata": {},
     "output_type": "execute_result"
    }
   ],
   "source": [
    "stockTick = pd.read_csv('/Users/jeremyg/Documents/GitHub/SummerIndependentProject/tickData/stocks/1319/1319_md_202007_202007.csv.gz', compression='gzip')\n",
    "stockTick"
   ],
   "metadata": {
    "collapsed": false
   }
  },
  {
   "cell_type": "code",
   "source": [
    "stockPriceFiveMinute = {}\n",
    "futuresPriceFiveMinute = {}"
   ],
   "metadata": {
    "id": "9gbjzhVbziL3"
   },
   "execution_count": 37,
   "outputs": []
  },
  {
   "cell_type": "code",
   "source": [
    "for stock in tqdm(stockData.keys()):\n",
    "  stockPriceFiveMinute[stock] = pd.DataFrame()\n",
    "  stock = '2610'\n",
    "  for date in stockData[stock]:\n",
    "    stockTick = pd.read_csv(stockPath + '/' + stock + '/' + date, compression='gzip')\n",
    "    #Data processing\n",
    "    stockTick = stockTick.loc[stockTick['SP1'] * stockTick['BP1'] != 0]\n",
    "    stockTick['date'] = pd.to_datetime(stockTick['date'], format=\"%Y-%m-%d\")\n",
    "    # get the column 'SP1','BP1' and calculate the mid quote\n",
    "    stockTick['midQuote'] = np.log(stockTick[['SP1','BP1']].mean(axis=1))\n",
    "    # set a timestamp every 5 min starting from 9:05, if the time is smaller than the tim\n",
    "    stockTick['new_time'] =  stockTick['time'] +(500000- stockTick['time'] % 500000)\n",
    "    # if the last 7 digits in new_time == 6000000, then add 4000000 to new_time\n",
    "    stockTick['new_time'] = stockTick['new_time'] + (stockTick['new_time'] % 10000000 == 6000000) * 4000000\n",
    "    stockTick['TimeStamp'] = pd.to_datetime(stockTick.date.astype(str) + ' ' + stockTick.new_time.astype(str), format=\"%Y-%m-%d %H%M%S%f\")\n",
    "    stockTick['Stock_Ask_Bid_Price_Depth_Ratio'] = (stockTick['SP5']- stockTick['SP1'])/ (stockTick['BP1']- stockTick['BP5'])\n",
    "    ask_vol = stockTick[['SV1','SV2','SV3','SV4','SV5']].sum(axis=1)\n",
    "    bid_vol = stockTick[['BV1','BV2','BV3','BV4','BV5']].sum(axis=1)\n",
    "    stockTick['Stock_Ask_Bid_Total_Volume_Ratio'] = ask_vol/bid_vol\n",
    "    stockPrice = stockTick[['TimeStamp','midQuote',  'volume', 'Stock_Ask_Bid_Price_Depth_Ratio', 'Stock_Ask_Bid_Total_Volume_Ratio']]\n",
    "    stockPrice_ = stockPrice.groupby(['TimeStamp']).mean()\n",
    "    stockPriceFiveMinute[stock] = pd.concat([stockPriceFiveMinute[stock], stockPrice_], axis=0)\n",
    "  stockPriceFiveMinute[stock] = stockPriceFiveMinute[stock].sort_index()"
   ],
   "metadata": {
    "id": "7-9SjN9B0bJs"
   },
   "execution_count": 38,
   "outputs": [
    {
     "name": "stderr",
     "output_type": "stream",
     "text": [
      "100%|██████████| 10/10 [09:48<00:00, 58.80s/it]\n"
     ]
    }
   ]
  },
  {
   "cell_type": "code",
   "source": [
    "stockPriceFiveMinute"
   ],
   "metadata": {
    "colab": {
     "base_uri": "https://localhost:8080/"
    },
    "id": "UFf6WzPR2utB",
    "outputId": "de459b37-9b47-44a4-db03-2eec3d4a5dc3"
   },
   "execution_count": 39,
   "outputs": [
    {
     "data": {
      "text/plain": "{'2610':                      midQuote        volume  Stock_Ask_Bid_Price_Depth_Ratio  \\\n TimeStamp                                                                      \n 2020-07-01 09:05:00  6.714164    133.897196                              1.0   \n 2020-07-01 09:05:00  6.714164    133.897196                              1.0   \n 2020-07-01 09:05:00  6.714164    133.897196                              1.0   \n 2020-07-01 09:05:00  6.714164    133.897196                              1.0   \n 2020-07-01 09:05:00  6.714164    133.897196                              1.0   \n ...                       ...           ...                              ...   \n 2023-06-30 13:25:00  7.873561  56277.545146                              1.0   \n 2023-06-30 13:25:00  7.873561  56277.545146                              1.0   \n 2023-06-30 13:25:00  7.873561  56277.545146                              1.0   \n 2023-06-30 13:25:00  7.873561  56277.545146                              1.0   \n 2023-06-30 13:25:00  7.873561  56277.545146                              1.0   \n \n                      Stock_Ask_Bid_Total_Volume_Ratio  \n TimeStamp                                              \n 2020-07-01 09:05:00                          0.342735  \n 2020-07-01 09:05:00                          0.342735  \n 2020-07-01 09:05:00                          0.342735  \n 2020-07-01 09:05:00                          0.342735  \n 2020-07-01 09:05:00                          0.342735  \n ...                                               ...  \n 2023-06-30 13:25:00                          0.635713  \n 2023-06-30 13:25:00                          0.635713  \n 2023-06-30 13:25:00                          0.635713  \n 2023-06-30 13:25:00                          0.635713  \n 2023-06-30 13:25:00                          0.635713  \n \n [195650 rows x 4 columns],\n '3105': Empty DataFrame\n Columns: []\n Index: [],\n '1319': Empty DataFrame\n Columns: []\n Index: [],\n '3006': Empty DataFrame\n Columns: []\n Index: [],\n '2498': Empty DataFrame\n Columns: []\n Index: [],\n '2615': Empty DataFrame\n Columns: []\n Index: [],\n '3443': Empty DataFrame\n Columns: []\n Index: [],\n '2388': Empty DataFrame\n Columns: []\n Index: [],\n '3035': Empty DataFrame\n Columns: []\n Index: [],\n '5425': Empty DataFrame\n Columns: []\n Index: []}"
     },
     "execution_count": 39,
     "metadata": {},
     "output_type": "execute_result"
    }
   ]
  },
  {
   "cell_type": "code",
   "source": [
    "for futures in tqdm(futuresData.keys()):\n",
    "  futuresPriceFiveMinute[futures] = pd.DataFrame()\n",
    "  for date in futuresData[futures]:\n",
    "    futuresTick = pd.read_csv(futuresPath + '/' + futures + '/' + date)\n",
    "    #Data processing\n",
    "    futuresTick = futuresTick.loc[futuresTick['askPrice1'] * futuresTick['bidPrice1'] != 0]\n",
    "    futuresTick['date'] = pd.to_datetime(futuresTick['date'], format=\"%Y-%m-%d\")\n",
    "    # get the column 'SP1','BP1' and calculate the mid quote\n",
    "    futuresTick['midQuote'] = np.log(futuresTick[['askPrice1','bidPrice1']].mean(axis=1))\n",
    "    # past 5 min average\n",
    "    futuresTick['new_time'] =  futuresTick['time'] +(500000- futuresTick['time'] % 500000)\n",
    "    # if the last 7 digits in new_time == 6000000, then add 4000000 to new_time\n",
    "    futuresTick['new_time'] = futuresTick['new_time'] + (futuresTick['new_time'] % 10000000 == 6000000) * 4000000\n",
    "    futuresTick['TimeStamp'] = pd.to_datetime(futuresTick.date.astype(str) + ' ' + futuresTick.new_time.astype(str), format=\"%Y-%m-%d %H%M%S%f\")\n",
    "    futuresTick['Futures_Ask_Bid_Price_Depth_Ratio'] = (futuresTick['askPrice5']- futuresTick['askPrice1'])/ (futuresTick['bidPrice1']- futuresTick['bidPrice5'])\n",
    "    ask_vol = futuresTick[['askSize1','askSize2','askSize3','askSize4','askSize5']].sum(axis=1)\n",
    "    bid_vol = futuresTick[['bidSize1','bidSize2','bidSize3','bidSize4','bidSize5']].sum(axis=1)\n",
    "    futuresTick['Futures_Ask_Bid_Total_Volume_Ratio'] = ask_vol/bid_vol\n",
    "    futuresPrice = futuresTick[['TimeStamp','midQuote', 'Futures_Ask_Bid_Price_Depth_Ratio', 'Futures_Ask_Bid_Total_Volume_Ratio']]\n",
    "    futuresPrice_ = futuresPrice.groupby(['TimeStamp'])['midQuote'].mean()\n",
    "    futuresPriceFiveMinute[futures] = pd.concat([futuresPriceFiveMinute[futures], futuresPrice_], axis=0)\n",
    "  futuresPriceFiveMinute[futures] = futuresPriceFiveMinute[futures].sort_index()"
   ],
   "metadata": {
    "colab": {
     "base_uri": "https://localhost:8080/"
    },
    "id": "gxCcfvgYCNBE",
    "outputId": "8108746b-bdd7-417e-8247-d4b5c23354cd"
   },
   "execution_count": 40,
   "outputs": [
    {
     "name": "stderr",
     "output_type": "stream",
     "text": [
      "100%|██████████| 10/10 [02:30<00:00, 15.03s/it]\n"
     ]
    }
   ]
  },
  {
   "cell_type": "code",
   "source": [
    "futuresPriceFiveMinute"
   ],
   "metadata": {
    "colab": {
     "base_uri": "https://localhost:8080/"
    },
    "id": "67mft_y_D6Cs",
    "outputId": "f96b25ce-9a8b-4545-fb9c-76ee2739d278"
   },
   "execution_count": 41,
   "outputs": [
    {
     "data": {
      "text/plain": "{'IPF':                              0\n 2020-07-01 08:50:00   8.428568\n 2020-07-01 08:55:00   8.440785\n 2020-07-01 09:00:00   8.447843\n 2020-07-01 09:05:00   8.450001\n 2020-07-01 09:10:00   8.435341\n ...                        ...\n 2022-03-31 13:25:00  10.319801\n 2022-03-31 13:30:00  10.321673\n 2022-03-31 13:35:00  10.323292\n 2022-03-31 13:40:00  10.320911\n 2022-03-31 13:45:00  10.321375\n \n [23682 rows x 1 columns],\n 'HCF':                             0\n 2020-07-01 08:50:00  8.118272\n 2020-07-01 08:55:00  8.117322\n 2020-07-01 09:00:00  8.119836\n 2020-07-01 09:05:00  8.106474\n 2020-07-01 09:10:00  8.098645\n ...                       ...\n 2023-06-30 13:25:00  8.651734\n 2023-06-30 13:30:00  8.651870\n 2023-06-30 13:35:00  8.651870\n 2023-06-30 13:40:00  8.651724\n 2023-06-30 13:45:00  8.653558\n \n [43168 rows x 1 columns],\n 'DBF':                             0\n 2022-08-31 08:50:00  7.708260\n 2022-08-31 08:55:00  7.706721\n 2022-08-31 09:00:00  7.705261\n 2022-08-31 09:05:00  7.705539\n 2022-08-31 09:10:00  7.710863\n ...                       ...\n 2023-06-30 13:25:00  7.873256\n 2023-06-30 13:30:00  7.873629\n 2023-06-30 13:35:00  7.872518\n 2023-06-30 13:40:00  7.873788\n 2023-06-30 13:45:00  7.875146\n \n [11653 rows x 1 columns],\n 'JBF':                              0\n 2020-07-01 08:50:00  10.144818\n 2020-07-01 08:55:00  10.143090\n 2020-07-01 09:00:00  10.141957\n 2020-07-01 09:05:00  10.148323\n 2020-07-01 09:10:00  10.147436\n ...                        ...\n 2023-03-31 13:30:00  11.592199\n 2023-03-31 13:35:00  11.592199\n 2023-03-31 13:40:00  11.594240\n 2023-03-31 13:45:00  11.596807\n 2023-03-31 13:50:00  11.596807\n \n [27881 rows x 1 columns],\n 'NAF':                              0\n 2020-07-01 08:50:00  10.285718\n 2020-07-01 08:55:00  10.291028\n 2020-07-01 09:00:00  10.289779\n 2020-07-01 09:05:00  10.291761\n 2020-07-01 09:10:00  10.288862\n ...                        ...\n 2021-01-29 13:25:00  10.636160\n 2021-01-29 13:30:00  10.624725\n 2021-01-29 13:35:00  10.627068\n 2021-01-29 13:40:00  10.626800\n 2021-01-29 13:45:00  10.626412\n \n [7537 rows x 1 columns],\n 'QWF':                             0\n 2022-04-27 09:05:00  8.497465\n 2022-04-27 09:10:00  8.502324\n 2022-04-27 09:15:00  8.497203\n 2022-04-27 09:20:00  8.496160\n 2022-04-27 09:25:00  8.496521\n ...                       ...\n 2023-06-30 13:25:00  8.997498\n 2023-06-30 13:30:00  8.997668\n 2023-06-30 13:35:00  8.996593\n 2023-06-30 13:40:00  8.997485\n 2023-06-30 13:45:00  8.997628\n \n [16200 rows x 1 columns],\n 'EHF':                             0\n 2020-07-01 08:50:00  8.189780\n 2020-07-01 08:55:00  8.191463\n 2020-07-01 09:00:00  8.198933\n 2020-07-01 09:05:00  8.206013\n 2020-07-01 09:10:00  8.205218\n ...                       ...\n 2023-06-30 13:25:00  8.570156\n 2023-06-30 13:30:00  8.570734\n 2023-06-30 13:35:00  8.573033\n 2023-06-30 13:40:00  8.572628\n 2023-06-30 13:45:00  8.572628\n \n [39988 rows x 1 columns],\n 'PEF':                             0\n 2020-07-01 08:50:00  8.302142\n 2020-07-01 08:55:00  8.302142\n 2020-07-01 09:00:00  8.302142\n 2020-07-01 09:05:00  8.301483\n 2020-07-01 09:10:00  8.302882\n ...                       ...\n 2023-06-30 13:25:00  9.180883\n 2023-06-30 13:30:00  9.181233\n 2023-06-30 13:35:00  9.180311\n 2023-06-30 13:40:00  9.179430\n 2023-06-30 13:45:00  9.179967\n \n [43003 rows x 1 columns],\n 'QXF':                             0\n 2022-04-27 08:50:00  9.549998\n 2022-04-27 08:55:00  9.538524\n 2022-04-27 09:00:00  9.535653\n 2022-04-27 09:05:00  9.539487\n 2022-04-27 09:10:00  9.545971\n ...                       ...\n 2023-06-30 13:25:00  8.686154\n 2023-06-30 13:30:00  8.687440\n 2023-06-30 13:35:00  8.689209\n 2023-06-30 13:40:00  8.690306\n 2023-06-30 13:45:00  8.690306\n \n [17010 rows x 1 columns],\n 'IIF':                             0\n 2020-07-01 08:50:00  8.268274\n 2020-07-01 08:55:00  8.262301\n 2020-07-01 09:00:00  8.262301\n 2020-07-01 09:05:00  8.265056\n 2020-07-01 09:10:00  8.264234\n ...                       ...\n 2022-05-31 13:25:00  9.427317\n 2022-05-31 13:30:00  9.429474\n 2022-05-31 13:35:00  9.425215\n 2022-05-31 13:40:00  9.423434\n 2022-05-31 13:45:00  9.426000\n \n [21280 rows x 1 columns]}"
     },
     "execution_count": 41,
     "metadata": {},
     "output_type": "execute_result"
    }
   ]
  },
  {
   "cell_type": "code",
   "source": [
    "spreads = {}\n",
    "for futures in futuresData.keys():\n",
    "  spreads[futures] = (stockPriceFiveMinute[tradingPairs[futures]] - futuresPriceFiveMinute[futures]).dropna()\n",
    "  stockPriceFiveMinute[tradingPairs[futures]].to_csv('../tickData/midQuoteData/stock/' +tradingPairs[futures] + '_mid_quote.csv')\n",
    "  futuresPriceFiveMinute[futures].to_csv('../tickData/midQuoteData/futures/' + futures + '_mid_quote.csv')"
   ],
   "metadata": {
    "id": "WZ7W9pWbl9gI"
   },
   "execution_count": 42,
   "outputs": []
  }
 ]
}
