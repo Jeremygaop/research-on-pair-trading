{
 "cells": [
  {
   "cell_type": "code",
   "execution_count": 4,
   "metadata": {},
   "outputs": [],
   "source": [
    "import warnings\n",
    "warnings.filterwarnings(\"ignore\")"
   ]
  },
  {
   "cell_type": "code",
   "execution_count": 5,
   "metadata": {},
   "outputs": [],
   "source": [
    "import pandas as pd\n",
    "import numpy as np\n",
    "import matplotlib.pyplot as plt\n",
    "from sklearn.linear_model import LinearRegression\n",
    "import lightgbm as lgb\n",
    "from tqdm import tqdm \n",
    "import datetime"
   ]
  },
  {
   "cell_type": "code",
   "execution_count": 6,
   "metadata": {},
   "outputs": [],
   "source": [
    "factor_path = \"/Users/shezihua/Documents/MAFM/2022-2023 Summer/MAFS 6100L/SummerIndependentProject/factor/\"\n",
    "\n",
    "futureCodeList = ['JBF', 'QWF', 'HCF', 'DBF', 'EHF', 'IPF', 'IIF', 'QXF', 'PEF', 'NAF']\n",
    "stockCodeList = ['3443', '2388', '2498', '2610', '1319', '3035', '3006', '2615', '5425', '3105']\n",
    "\n",
    "data_clean_path = '/Users/shezihua/Documents/MAFM/2022-2023 Summer/MAFS 6100L/SummerIndependentProject/dataCleaned/'"
   ]
  },
  {
   "cell_type": "code",
   "execution_count": 7,
   "metadata": {},
   "outputs": [],
   "source": [
    "futureCode = futureCodeList[4]\n",
    "stockCode = stockCodeList[4]\n",
    "\n",
    "stock = pd.read_csv(data_clean_path + futureCode + \"-\" + stockCode + \"/stock.csv.gz\", compression='gzip', index_col=0)\n",
    "future = pd.read_csv(data_clean_path + futureCode + \"-\" + stockCode + \"/future.csv.gz\", compression='gzip', index_col=0)\n",
    "spread = np.log(stock['price']) - np.log(future['midQ'])\n",
    "spread = pd.DataFrame(spread)\n",
    "spread.columns = ['spread']\n",
    "feature = pd.read_csv(factor_path + futureCode + \"-\" + stockCode + \"/factor.csv.gz\", compression='gzip', index_col=0)\n",
    "\n",
    "pool = pd.DataFrame()\n",
    "pool.index = stock.index\n",
    "pool['SP1'] = stock['SP1']\n",
    "pool['BP1'] = stock['BP1']\n",
    "pool['askPrice1'] = future['askPrice1']\n",
    "pool['bidPrice1'] = future['bidPrice1']\n",
    "pool['spread'] = spread['spread']\n",
    "pool.index = pd.to_datetime(pool.index)\n",
    "\n",
    "trade = pd.DataFrame()\n",
    "trade.index = pool.index\n",
    "trade['spread'] = pool['spread']\n",
    "trade['signal'] = 0\n",
    "trade['cap'] = 0\n",
    "trade['pnl'] = 0\n",
    "trade.index = pd.to_datetime(trade.index)"
   ]
  },
  {
   "cell_type": "code",
   "execution_count": 38,
   "metadata": {},
   "outputs": [
    {
     "name": "stderr",
     "output_type": "stream",
     "text": [
      "100%|██████████| 30/30 [01:08<00:00,  2.27s/it]\n"
     ]
    }
   ],
   "source": [
    "day_list = np.unique(pool.index.date)\n",
    "train_period = 3\n",
    "PnL = np.array([0])\n",
    "\n",
    "for i in tqdm(range(len(day_list) - train_period)[-30:]):\n",
    "    train_start_time = trade.index >= pd.to_datetime(str(day_list[i]) + ' 09:00:00.000', format = '%Y/%m/%d %H:%M:%S.%f')\n",
    "    train_end_time = trade.index <= pd.to_datetime(str(day_list[i + train_period - 1]) + ' 13:30:00.000', format = '%Y/%m/%d %H:%M:%S.%f')\n",
    "    train = trade[train_start_time & train_end_time]\n",
    "    test_start_time = trade.index >= pd.to_datetime(str(day_list[i + train_period]) + ' 09:00:00.000', format = '%Y/%m/%d %H:%M:%S.%f')\n",
    "    test_end_time = trade.index <= pd.to_datetime(str(day_list[i + train_period]) + ' 13:30:00.000', format = '%Y/%m/%d %H:%M:%S.%f')\n",
    "    test = trade[test_start_time & test_end_time]\n",
    "\n",
    "    current_pool = pool[test_start_time & test_end_time]\n",
    "    today_stock = stock[test_start_time & test_end_time]\n",
    "    today_future = future[test_start_time & test_end_time]\n",
    "\n",
    "    mean = np.mean(train['spread'])\n",
    "    std = np.std(train['spread'])\n",
    "\n",
    "    upper = mean + 1.5 * std\n",
    "    lower = mean - 1.5 * std\n",
    "\n",
    "    for tick_idx in (range(len(test.index))): \n",
    "        current_data = test[0:tick_idx + 1]\n",
    "\n",
    "        if tick_idx != len(test.index) - 1:\n",
    "            # long spread\n",
    "            if test.loc[test.index[tick_idx]]['spread'] <= lower: \n",
    "                if np.sum(current_data['signal']) == 0: \n",
    "                    lead = 1\n",
    "                    while (today_stock[tick_idx + lead : tick_idx + lead + 1]['SP1'][0] > today_stock[tick_idx : tick_idx + 1]['SP1'][0]) and ((tick_idx + lead) < len(test.index) - 1):\n",
    "                        lead = lead + 1\n",
    "                    test.at[test.index[tick_idx + lead], 'signal'] = 1\n",
    "                    test.at[test.index[tick_idx + lead], 'cap'] = today_stock[tick_idx + lead : tick_idx + lead + 1]['SP1'][0] * 2 - today_future[tick_idx + lead : tick_idx + lead + 1]['bidPrice1'][0]\n",
    "\n",
    "            # back to mean\n",
    "            elif test.loc[test.index[tick_idx]]['spread'] >= mean: \n",
    "                if np.sum(current_data['signal']) == 1: \n",
    "                    lead = 1\n",
    "                    while (today_stock[tick_idx + lead : tick_idx + lead + 1]['BP1'][0] < today_stock[tick_idx : tick_idx + 1]['BP1'][0]) and ((tick_idx + lead) < len(test.index) - 1):\n",
    "                        lead = lead + 1\n",
    "                    test.at[test.index[tick_idx], 'signal'] = -1\n",
    "                    test.at[test.index[tick_idx], 'cap'] = - today_stock[tick_idx + lead : tick_idx + lead + 1]['BP1'][0] * 2 + today_future[tick_idx + lead : tick_idx + lead + 1]['askPrice1'][0]\n",
    "                    test.at[test.index[tick_idx], 'pnl'] = np.sum(current_data['cap']) #+ trade.loc[test.index[tick_idx]]['cap']\n",
    "\n",
    "            # short spread\n",
    "            elif test.loc[test.index[tick_idx]]['spread'] >= upper: \n",
    "                if np.sum(current_data['signal']) == 0: \n",
    "                    lead = 1\n",
    "                    while (today_stock[tick_idx + lead : tick_idx + lead + 1]['BP1'][0] < today_stock[tick_idx : tick_idx + 1]['BP1'][0]) and ((tick_idx + lead) < len(test.index) - 1):\n",
    "                        lead = lead + 1\n",
    "                    test.at[test.index[tick_idx], 'signal'] = -1\n",
    "                    test.at[test.index[tick_idx], 'cap'] = - today_stock[tick_idx + lead : tick_idx + lead + 1]['BP1'][0] * 2 + today_future[tick_idx + lead : tick_idx + lead + 1]['askPrice1'][0]\n",
    "\n",
    "            # back to mean \n",
    "            elif test.loc[test.index[tick_idx]]['spread'] <= mean: \n",
    "                if np.sum(current_data['signal']) == -1: \n",
    "                    lead = 1\n",
    "                    while (today_stock[tick_idx + lead : tick_idx + lead + 1]['SP1'][0] > today_stock[tick_idx : tick_idx + 1]['SP1'][0]) and ((tick_idx + lead) < len(test.index) - 1):\n",
    "                        lead = lead + 1\n",
    "                    test.at[test.index[tick_idx], 'signal'] = 1\n",
    "                    test.at[test.index[tick_idx], 'cap'] = today_stock[tick_idx + lead : tick_idx + lead + 1]['SP1'][0] * 2 - today_future[tick_idx + lead : tick_idx + lead + 1]['bidPrice1'][0]\n",
    "                    test.at[test.index[tick_idx], 'pnl'] = np.sum(current_data['cap'])# + trade.loc[test.index[tick_idx]]['cap']\n",
    "\n",
    "            else: \n",
    "                pass\n",
    "        \n",
    "        else:\n",
    "            if np.sum(current_data['signal']) == 1: \n",
    "                test.at[test.index[tick_idx], 'signal'] = -1\n",
    "                test.at[test.index[tick_idx], 'cap'] = - current_pool.iloc[tick_idx]['BP1'] * 2 + current_pool.iloc[tick_idx]['askPrice1']\n",
    "                test.at[test.index[tick_idx], 'pnl'] = np.sum(current_data['cap']) #+ trade.loc[test.index[tick_idx]]['cap']\n",
    "            elif np.sum(current_data['signal']) == -1: \n",
    "                test.at[test.index[tick_idx], 'signal'] = 1\n",
    "                test.at[test.index[tick_idx], 'cap'] = current_pool.iloc[tick_idx]['SP1'] * 2 - current_pool.iloc[tick_idx]['bidPrice1']\n",
    "                test.at[test.index[tick_idx], 'pnl'] = np.sum(current_data['cap']) #+ trade.loc[test.index[tick_idx]]['cap']\n",
    "            else:\n",
    "                pass\n",
    "    \n",
    "    \n",
    "    PnL = np.append(PnL, test[test['pnl'] != 0]['pnl'] + PnL[-1])"
   ]
  },
  {
   "cell_type": "code",
   "execution_count": 39,
   "metadata": {},
   "outputs": [
    {
     "data": {
      "text/plain": [
       "array([    0,    45,   150,   220,   240,   260,   350,   400,   490,\n",
       "         540,   570,   590,   630,   670,   690,   740,   760,   810,\n",
       "         840,   890,   900,   910,   950,   980,  1040,  1050,  1060,\n",
       "        1140,  1200,  1265,  1285,  1335,  1445,  1525,  1620,  1690,\n",
       "        1740,  1820,  1870,  1900,  1930,  1960,  1990,  2040,  2155,\n",
       "        2225,  2235,  2275, -2660,  2330,  2380, -2570, -2520, -2465,\n",
       "       -2440, -2430, -2390, -2330, -2290, -2250, -2200, -2150, -2130,\n",
       "       -2120, -2090, -2070, -2060, -2010, -2000, -1980, -1890, -1860,\n",
       "       -1820, -1780, -1770, -1760, -1740, -1690, -1620, -1540, -1500,\n",
       "       -1450, -1400, -1360, -1310, -1270, -1260, -1220, -1150, -1110,\n",
       "       -1100, -1070, -1060, -1010,  -970,  -920,  -890,  -860,  -840,\n",
       "        -810,  -760,  -750,  -740,  -710,  -660,  -630,  -610,  -570,\n",
       "        -560,  -530,  -510,  -480,  -470,  -430,  -420,  -370,  -330,\n",
       "        -330,  -300,  -270,  -230,  -200,  -180,  -160,  -130,  -120,\n",
       "        -110,   -90,   -90,     0,    30,    80,   150,   170,   190,\n",
       "         220,   240,   260,   300,   330,   340,   350,   370,   390,\n",
       "         420,   550,   630,   670,   700,   750,   780,   840,   870,\n",
       "         910,   970,   990,  1000,  1090,  1170,  1230,  1280, -3950,\n",
       "        1400,  1460,  1490,  1510,  1530,  1560,  1590,  1730,  1840,\n",
       "        1880,  2000,  2150,  2260,  2410,  2510,  2580,  2630,  2670,\n",
       "        2740,  2760,  2810,  2840,  2880,  2910,  2960,  3010,  3030,\n",
       "        3070,  3090,  3120,  3140,  3180,  3210,  3230,  3240,  3260,\n",
       "        3280,  3350,  3380,  3430,  3460,  3470,  3510,  3550,  3580,\n",
       "        3610,  3630,  3690,  3720,  3760,  3790,  3810,  3830,  3850,\n",
       "        3860,  3880,  3890,  3890,  3930,  3960,  4010,  4020,  4080,\n",
       "        4080,  4120,  4180,  4210,  4250,  -910,  -870,  -850,  -810,\n",
       "        -790,  -780])"
      ]
     },
     "execution_count": 39,
     "metadata": {},
     "output_type": "execute_result"
    }
   ],
   "source": [
    "PnL"
   ]
  },
  {
   "cell_type": "code",
   "execution_count": 40,
   "metadata": {},
   "outputs": [
    {
     "data": {
      "text/plain": [
       "[<matplotlib.lines.Line2D at 0x7fae3d785ee0>]"
      ]
     },
     "execution_count": 40,
     "metadata": {},
     "output_type": "execute_result"
    },
    {
     "data": {
      "image/png": "[encoded data removed]",
      "text/plain": [
       "<Figure size 432x288 with 1 Axes>"
      ]
     },
     "metadata": {
      "needs_background": "light"
     },
     "output_type": "display_data"
    }
   ],
   "source": [
    "plt.plot(PnL)"
   ]
  },
  {
   "cell_type": "code",
   "execution_count": null,
   "metadata": {},
   "outputs": [],
   "source": []
  },
  {
   "cell_type": "markdown",
   "metadata": {},
   "source": [
    "# Find where the lead time can be arbitrage"
   ]
  },
  {
   "cell_type": "code",
   "execution_count": 69,
   "metadata": {},
   "outputs": [
    {
     "name": "stderr",
     "output_type": "stream",
     "text": [
      "100%|██████████| 30/30 [01:04<00:00,  2.16s/it]\n"
     ]
    }
   ],
   "source": [
    "day_list = np.unique(pool.index.date)\n",
    "train_period = 3\n",
    "PnL = np.array([0])\n",
    "\n",
    "for i in tqdm(range(len(day_list) - train_period)[-30:]):\n",
    "    train_start_time = trade.index >= pd.to_datetime(str(day_list[i]) + ' 09:00:00.000', format = '%Y/%m/%d %H:%M:%S.%f')\n",
    "    train_end_time = trade.index <= pd.to_datetime(str(day_list[i + train_period - 1]) + ' 13:30:00.000', format = '%Y/%m/%d %H:%M:%S.%f')\n",
    "    train = trade[train_start_time & train_end_time]\n",
    "    test_start_time = trade.index >= pd.to_datetime(str(day_list[i + train_period]) + ' 09:00:00.000', format = '%Y/%m/%d %H:%M:%S.%f')\n",
    "    test_end_time = trade.index <= pd.to_datetime(str(day_list[i + train_period]) + ' 13:30:00.000', format = '%Y/%m/%d %H:%M:%S.%f')\n",
    "    test = trade[test_start_time & test_end_time]\n",
    "\n",
    "    current_pool = pool[test_start_time & test_end_time]\n",
    "    today_stock = stock[test_start_time & test_end_time]\n",
    "    today_future = future[test_start_time & test_end_time]\n",
    "\n",
    "    mean = np.mean(train['spread'])\n",
    "    std = np.std(train['spread'])\n",
    "\n",
    "    upper = mean + 1.5 * std\n",
    "    lower = mean - 1.5 * std\n",
    "\n",
    "    for tick_idx in (range(len(test.index))): \n",
    "        current_data = test[0:tick_idx + 1]\n",
    "\n",
    "        if tick_idx != len(test.index) - 1:\n",
    "            # long spread\n",
    "            if test.loc[test.index[tick_idx]]['spread'] <= lower: \n",
    "                if np.sum(current_data['signal']) == 0: \n",
    "                    lead = 1\n",
    "                    while (today_stock[tick_idx + lead : tick_idx + lead + 1]['SP1'][0] > today_stock[tick_idx : tick_idx + 1]['SP1'][0]) and ((tick_idx + lead) < tick_idx + 3):\n",
    "                        lead = lead + 1\n",
    "                    # if np.log(today_stock[tick_idx + lead : tick_idx + lead + 1]['SP1'][0]) - np.log(today_future[tick_idx + lead : tick_idx + lead + 1]['bidPrice1'][0]) <= lower:\n",
    "                    test.at[test.index[tick_idx + lead], 'signal'] = 1\n",
    "                    test.at[test.index[tick_idx + lead], 'cap'] = today_stock[tick_idx + lead : tick_idx + lead + 1]['SP1'][0] * 2 - today_future[tick_idx + lead : tick_idx + lead + 1]['bidPrice1'][0]\n",
    "\n",
    "            # back to mean\n",
    "            elif test.loc[test.index[tick_idx]]['spread'] >= mean: \n",
    "                if np.sum(current_data['signal']) == 1: \n",
    "                    lead = 1\n",
    "                    while (today_stock[tick_idx + lead : tick_idx + lead + 1]['BP1'][0] < today_stock[tick_idx : tick_idx + 1]['BP1'][0]) and ((tick_idx + lead) < tick_idx + 3):\n",
    "                        lead = lead + 1\n",
    "                    # if np.log(today_stock[tick_idx + lead : tick_idx + lead + 1]['BP1'][0]) - np.log(today_future[tick_idx + lead : tick_idx + lead + 1]['askPrice1'][0]) >= mean:\n",
    "                    test.at[test.index[tick_idx], 'signal'] = -1\n",
    "                    test.at[test.index[tick_idx], 'cap'] = - today_stock[tick_idx + lead : tick_idx + lead + 1]['BP1'][0] * 2 + today_future[tick_idx + lead : tick_idx + lead + 1]['askPrice1'][0]\n",
    "                    test.at[test.index[tick_idx], 'pnl'] = np.sum(current_data['cap']) #+ trade.loc[test.index[tick_idx]]['cap']\n",
    "\n",
    "            # short spread\n",
    "            elif test.loc[test.index[tick_idx]]['spread'] >= upper: \n",
    "                if np.sum(current_data['signal']) == 0: \n",
    "                    lead = 1\n",
    "                    while (today_stock[tick_idx + lead : tick_idx + lead + 1]['BP1'][0] < today_stock[tick_idx : tick_idx + 1]['BP1'][0]) and ((tick_idx + lead) < tick_idx + 3):\n",
    "                        lead = lead + 1\n",
    "                    #if np.log(today_stock[tick_idx + lead : tick_idx + lead + 1]['BP1'][0]) - np.log(today_future[tick_idx + lead : tick_idx + lead + 1]['askPrice1'][0]) >= upper:\n",
    "                    test.at[test.index[tick_idx], 'signal'] = -1\n",
    "                    test.at[test.index[tick_idx], 'cap'] = - today_stock[tick_idx + lead : tick_idx + lead + 1]['BP1'][0] * 2 + today_future[tick_idx + lead : tick_idx + lead + 1]['askPrice1'][0]\n",
    "\n",
    "            # back to mean \n",
    "            elif test.loc[test.index[tick_idx]]['spread'] <= mean: \n",
    "                if np.sum(current_data['signal']) == -1: \n",
    "                    lead = 1\n",
    "                    while (today_stock[tick_idx + lead : tick_idx + lead + 1]['SP1'][0] > today_stock[tick_idx : tick_idx + 1]['SP1'][0]) and ((tick_idx + lead) < tick_idx + 3):\n",
    "                        lead = lead + 1\n",
    "                    #if np.log(today_stock[tick_idx + lead : tick_idx + lead + 1]['SP1'][0]) - np.log(today_future[tick_idx + lead : tick_idx + lead + 1]['bidPrice1'][0]) <= mean:\n",
    "                    test.at[test.index[tick_idx], 'signal'] = 1\n",
    "                    test.at[test.index[tick_idx], 'cap'] = today_stock[tick_idx + lead : tick_idx + lead + 1]['SP1'][0] * 2 - today_future[tick_idx + lead : tick_idx + lead + 1]['bidPrice1'][0]\n",
    "                    test.at[test.index[tick_idx], 'pnl'] = np.sum(current_data['cap'])# + trade.loc[test.index[tick_idx]]['cap']\n",
    "\n",
    "            else: \n",
    "                pass\n",
    "        \n",
    "        else:\n",
    "            if np.sum(current_data['signal']) == 1: \n",
    "                test.at[test.index[tick_idx], 'signal'] = -1\n",
    "                test.at[test.index[tick_idx], 'cap'] = - current_pool.iloc[tick_idx]['BP1'] * 2 + current_pool.iloc[tick_idx]['askPrice1']\n",
    "                test.at[test.index[tick_idx], 'pnl'] = np.sum(current_data['cap']) #+ trade.loc[test.index[tick_idx]]['cap']\n",
    "            elif np.sum(current_data['signal']) == -1: \n",
    "                test.at[test.index[tick_idx], 'signal'] = 1\n",
    "                test.at[test.index[tick_idx], 'cap'] = current_pool.iloc[tick_idx]['SP1'] * 2 - current_pool.iloc[tick_idx]['bidPrice1']\n",
    "                test.at[test.index[tick_idx], 'pnl'] = np.sum(current_data['cap']) #+ trade.loc[test.index[tick_idx]]['cap']\n",
    "            else:\n",
    "                pass\n",
    "    \n",
    "    \n",
    "    PnL = np.append(PnL, test[test['pnl'] != 0]['pnl'] + PnL[-1])"
   ]
  },
  {
   "cell_type": "code",
   "execution_count": 70,
   "metadata": {},
   "outputs": [
    {
     "data": {
      "text/plain": [
       "array([    0,    45,   165,   235,   255,   275,   365,   415,   505,\n",
       "         555,   585,   605,   665,   705,   725,   775,   795,   835,\n",
       "         865,   915,   925,   935,  1015,  1045,  1105,  1115,  1125,\n",
       "        1205,  1265,  1330,  1350,  1400,  1560,  1640,  1735,  1805,\n",
       "        1855,  1935,  1985,  2015,  2045,  2075,  2105,  2155,  2270,\n",
       "        2340,  2350,  2390, -2540,  2450, -2485,  2500,  2550,  2600,\n",
       "        2655,  2680,  2690,  2730,  2790,  2830,  2870,  2920,  2970,\n",
       "        3010,  3020,  3050,  3070,  3100,  3150,  3160,  3180,  3270,\n",
       "        3340,  3380,  3420,  3430,  3460,  3480,  3530,  3650,  3780,\n",
       "        3840,  3890,  3940,  3980,  4030,  4070,  4080,  4120,  4190,\n",
       "        4230,  4250,  4280,  4290,  4340,  4380,  4430,  4460,  4480,\n",
       "        4510,  4530,  4560,  4610,  4620,  4630,  4660,  4710,  4740,\n",
       "        4760,  4800,  4820,  4870,  4890,  4920,  4930,  4970,  4980,\n",
       "        5030,  5070,  5070,  5100,  5130,  5170,  5200,  5220,  5260,\n",
       "        5290,  5300,  5310,  5330,  5330,  5420,  5450,  5500,  5570,\n",
       "        5600,  5620,  5650,  5670,  5690,  5730,  5760,  5800,  5830,\n",
       "        5850,  5870,  5900,  6030,  6110,  6150,  6170,  6200,  6250,\n",
       "        6310,  6360,  6400,  6460,  6500,  6530,  6620,  6700,  6760,\n",
       "        6830,  6890,  6950,  6980,  7000,  7050,  7080,  7110,  7330,\n",
       "        7490,  7620,  7680,  7800,  7950,  8060,  8210,  8310,  8380,\n",
       "        8430,  8490,  8560,  8580,  8650,  8680,  8720,  8770,  3120,\n",
       "        8800,  8860,  8910,  8940,  8980,  9020,  9070,  9100,  9140,\n",
       "        9190,  9210,  9240,  9250,  9270,  9290,  9360,  9430,  9480,\n",
       "        9510,  9520,  9560,  9600,  9630,  9660,  9700,  9760,  9810,\n",
       "        9870,  9900,  9920,  9940,  9960,  9970,  9990, 10000, 10000,\n",
       "       10050, 10080, 10130, 10140, 10200, 10210, 10250, 10310, 10340,\n",
       "       10400, 10430,  5310, 10500, 10520, 10560, 10580, 10630])"
      ]
     },
     "execution_count": 70,
     "metadata": {},
     "output_type": "execute_result"
    }
   ],
   "source": [
    "PnL"
   ]
  },
  {
   "cell_type": "code",
   "execution_count": 71,
   "metadata": {},
   "outputs": [
    {
     "data": {
      "text/plain": [
       "[<matplotlib.lines.Line2D at 0x7fad3ef4c370>]"
      ]
     },
     "execution_count": 71,
     "metadata": {},
     "output_type": "execute_result"
    },
    {
     "data": {
      "image/png": "[encoded data removed]",
      "text/plain": [
       "<Figure size 432x288 with 1 Axes>"
      ]
     },
     "metadata": {
      "needs_background": "light"
     },
     "output_type": "display_data"
    }
   ],
   "source": [
    "plt.plot(PnL)"
   ]
  },
  {
   "cell_type": "code",
   "execution_count": null,
   "metadata": {},
   "outputs": [],
   "source": []
  },
  {
   "cell_type": "markdown",
   "metadata": {},
   "source": [
    "# model"
   ]
  },
  {
   "cell_type": "code",
   "execution_count": null,
   "metadata": {},
   "outputs": [],
   "source": [
    "day_list = np.unique(pool.index.date)\n",
    "train_period = 3\n",
    "PnL = np.array([0])\n",
    "\n",
    "for i in tqdm(range(len(day_list) - train_period)[-30:]):\n",
    "    train_start_time = trade.index >= pd.to_datetime(str(day_list[i]) + ' 09:00:00.000', format = '%Y/%m/%d %H:%M:%S.%f')\n",
    "    train_end_time = trade.index <= pd.to_datetime(str(day_list[i + train_period - 1]) + ' 13:30:00.000', format = '%Y/%m/%d %H:%M:%S.%f')\n",
    "    train = trade[train_start_time & train_end_time]\n",
    "    test_start_time = trade.index >= pd.to_datetime(str(day_list[i + train_period]) + ' 09:00:00.000', format = '%Y/%m/%d %H:%M:%S.%f')\n",
    "    test_end_time = trade.index <= pd.to_datetime(str(day_list[i + train_period]) + ' 13:30:00.000', format = '%Y/%m/%d %H:%M:%S.%f')\n",
    "    test = trade[test_start_time & test_end_time]\n",
    "\n",
    "    feature_train = feature[train_start_time & train_end_time]\n",
    "    feature_test = feature[test_start_time & test_end_time]\n",
    "\n",
    "    current_pool = pool[test_start_time & test_end_time]\n",
    "\n",
    "    mean = np.mean(train['spread'])\n",
    "    std = np.std(train['spread'])\n",
    "\n",
    "    upper = mean + 1.5 * std\n",
    "    lower = mean - 1.5 * std\n",
    "\n",
    "    X_train = feature_train[feature_train.columns[0:-1]]\n",
    "    y_train = feature_train['delta_spread']\n",
    "    upper_quantile=0.85\n",
    "    lower_quantile=0.15\n",
    "    train_spread_upper = float(y_train.quantile(upper_quantile))\n",
    "    train_spread_lower = float(y_train.quantile(lower_quantile))\n",
    "\n",
    "    model_ols = LinearRegression()\n",
    "    model_ols.fit(X_train, y_train)\n",
    "    \n",
    "    X_test = feature_test[feature_test.columns[0:-1]]\n",
    "    y_test = feature_test['delta_spread']\n",
    "\n",
    "    y_test_pred = model_ols.predict(X_test)\n",
    "\n",
    "    for tick_idx in (range(len(test.index))): \n",
    "        current_data = test[0:tick_idx + 1]\n",
    "\n",
    "        if tick_idx != len(test.index) - 3:\n",
    "\n",
    "            # long spread\n",
    "            if test.loc[test.index[tick_idx]]['spread'] <= lower: \n",
    "                if np.sum(current_data['signal']) == 0: \n",
    "                    if y_test_pred[tick_idx] < train_spread_lower:\n",
    "                        test.at[test.index[tick_idx+1], 'signal'] = 1\n",
    "                        test.at[test.index[tick_idx+1], 'cap'] = current_pool.iloc[tick_idx]['SP1'] * 2 - current_pool.iloc[tick_idx]['bidPrice1']\n",
    "\n",
    "            # back to mean\n",
    "            elif test.loc[test.index[tick_idx]]['spread'] >= mean: \n",
    "                if np.sum(current_data['signal']) == 1: \n",
    "                    if y_test_pred[tick_idx] > train_spread_upper:\n",
    "                        test.at[test.index[tick_idx+1], 'signal'] = -1\n",
    "                        test.at[test.index[tick_idx+1], 'cap'] = - current_pool.iloc[tick_idx]['BP1'] * 2 + current_pool.iloc[tick_idx]['askPrice1']\n",
    "                        test.at[test.index[tick_idx+1], 'pnl'] = np.sum(current_data['cap']) #+ trade.loc[test.index[tick_idx]]['cap']\n",
    "\n",
    "            # short spread\n",
    "            elif test.loc[test.index[tick_idx]]['spread'] >= upper: \n",
    "                if np.sum(current_data['signal']) == 0: \n",
    "                    if y_test_pred[tick_idx] > train_spread_upper:\n",
    "                        test.at[test.index[tick_idx+1], 'signal'] = -1\n",
    "                        test.at[test.index[tick_idx+1], 'cap'] = - current_pool.iloc[tick_idx]['BP1'] * 2 + current_pool.iloc[tick_idx]['askPrice1']\n",
    "\n",
    "            # back to mean \n",
    "            elif test.loc[test.index[tick_idx]]['spread'] <= mean: \n",
    "                if np.sum(current_data['signal']) == -1: \n",
    "                    if y_test_pred[tick_idx] < train_spread_lower:\n",
    "                        test.at[test.index[tick_idx+1], 'signal'] = 1\n",
    "                        test.at[test.index[tick_idx+1], 'cap'] = current_pool.iloc[tick_idx]['SP1'] * 2 - current_pool.iloc[tick_idx]['bidPrice1']\n",
    "                        test.at[test.index[tick_idx+1], 'pnl'] = np.sum(current_data['cap'])# + trade.loc[test.index[tick_idx]]['cap']\n",
    "\n",
    "            else: \n",
    "                pass\n",
    "        \n",
    "        else:\n",
    "            pass\n",
    "            #if np.sum(current_data['signal']) == 1: \n",
    "            #    test.at[test.index[tick_idx], 'signal'] = -1\n",
    "            #    test.at[test.index[tick_idx], 'cap'] = - current_pool.iloc[tick_idx]['BP1'] * 2 + current_pool.iloc[tick_idx]['askPrice1']\n",
    "            #    test.at[test.index[tick_idx], 'pnl'] = np.sum(current_data['cap']) #+ trade.loc[test.index[tick_idx]]['cap']\n",
    "            #elif np.sum(current_data['signal']) == -1: \n",
    "            #    test.at[test.index[tick_idx], 'signal'] = 1\n",
    "            #    test.at[test.index[tick_idx], 'cap'] = current_pool.iloc[tick_idx]['SP1'] * 2 - current_pool.iloc[tick_idx]['bidPrice1']\n",
    "            #    test.at[test.index[tick_idx], 'pnl'] = np.sum(current_data['cap']) #+ trade.loc[test.index[tick_idx]]['cap']\n",
    "            #else:\n",
    "            #    pass\n",
    "    \n",
    "    \n",
    "    PnL = np.append(PnL, test[test['pnl'] != 0]['pnl'] + PnL[-1])\n",
    "\n",
    "plt.plot(PnL)"
   ]
  }
 ],
 "metadata": {
  "kernelspec": {
   "display_name": "base",
   "language": "python",
   "name": "python3"
  },
  "language_info": {
   "codemirror_mode": {
    "name": "ipython",
    "version": 3
   },
   "file_extension": ".py",
   "mimetype": "text/x-python",
   "name": "python",
   "nbconvert_exporter": "python",
   "pygments_lexer": "ipython3",
   "version": "3.9.12"
  },
  "orig_nbformat": 4
 },
 "nbformat": 4,
 "nbformat_minor": 2
}
