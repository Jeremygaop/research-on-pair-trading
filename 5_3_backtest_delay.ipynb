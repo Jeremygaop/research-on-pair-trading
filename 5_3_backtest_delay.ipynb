{
 "cells": [
  {
   "cell_type": "code",
   "execution_count": 1,
   "metadata": {},
   "outputs": [],
   "source": [
    "import warnings\n",
    "warnings.filterwarnings(\"ignore\")"
   ]
  },
  {
   "cell_type": "code",
   "execution_count": 2,
   "metadata": {},
   "outputs": [],
   "source": [
    "import pandas as pd\n",
    "import numpy as np\n",
    "import matplotlib.pyplot as plt\n",
    "from sklearn.linear_model import LinearRegression\n",
    "import lightgbm as lgb\n",
    "from tqdm import tqdm \n",
    "import datetime"
   ]
  },
  {
   "cell_type": "code",
   "execution_count": 3,
   "metadata": {},
   "outputs": [],
   "source": [
    "factor_path = \"/Users/shezihua/Documents/MAFM/2022-2023 Summer/MAFS 6100L/SummerIndependentProject/factor/\"\n",
    "\n",
    "futureCodeList = ['JBF', 'QWF', 'HCF', 'DBF', 'EHF', 'IPF', 'IIF', 'QXF', 'PEF', 'NAF']\n",
    "stockCodeList = ['3443', '2388', '2498', '2610', '1319', '3035', '3006', '2615', '5425', '3105']\n",
    "\n",
    "data_clean_path = '/Users/shezihua/Documents/MAFM/2022-2023 Summer/MAFS 6100L/SummerIndependentProject/dataCleaned/'"
   ]
  },
  {
   "cell_type": "code",
   "execution_count": 4,
   "metadata": {},
   "outputs": [],
   "source": [
    "futureCode = futureCodeList[0]\n",
    "stockCode = stockCodeList[0]"
   ]
  },
  {
   "cell_type": "code",
   "execution_count": 5,
   "metadata": {},
   "outputs": [],
   "source": [
    "stock = pd.read_csv(data_clean_path + futureCode + \"-\" + stockCode + \"/stock.csv.gz\", compression='gzip', index_col=0)\n",
    "future = pd.read_csv(data_clean_path + futureCode + \"-\" + stockCode + \"/future.csv.gz\", compression='gzip', index_col=0)\n",
    "spread = np.log(stock['price']) - np.log(future['midQ'])\n",
    "spread = pd.DataFrame(spread)\n",
    "spread.columns = ['spread']"
   ]
  },
  {
   "cell_type": "code",
   "execution_count": 6,
   "metadata": {},
   "outputs": [],
   "source": [
    "pool = pd.DataFrame()\n",
    "pool.index = stock.index\n",
    "pool['SP1'] = stock['SP1']\n",
    "pool['BP1'] = stock['BP1']\n",
    "pool['askPrice1'] = future['askPrice1']\n",
    "pool['bidPrice1'] = future['bidPrice1']\n",
    "pool['spread'] = spread['spread']\n",
    "pool.index = pd.to_datetime(pool.index)"
   ]
  },
  {
   "cell_type": "code",
   "execution_count": 7,
   "metadata": {},
   "outputs": [],
   "source": [
    "trade = pd.DataFrame()\n",
    "trade.index = pool.index\n",
    "trade['spread'] = pool['spread']\n",
    "trade['signal'] = 0\n",
    "trade['cap'] = 0\n",
    "trade['pnl'] = 0\n",
    "trade.index = pd.to_datetime(trade.index)"
   ]
  },
  {
   "cell_type": "code",
   "execution_count": 37,
   "metadata": {},
   "outputs": [
    {
     "name": "stderr",
     "output_type": "stream",
     "text": [
      "100%|██████████| 30/30 [02:31<00:00,  5.05s/it]\n"
     ]
    }
   ],
   "source": [
    "day_list = np.unique(pool.index.date)\n",
    "train_period = 3\n",
    "PnL = np.array([0])\n",
    "\n",
    "\n",
    "for i in tqdm(range(len(day_list) - train_period)[-30:]):\n",
    "    train_start_time = trade.index >= pd.to_datetime(str(day_list[i]) + ' 09:00:00.000', format = '%Y/%m/%d %H:%M:%S.%f')\n",
    "    train_end_time = trade.index <= pd.to_datetime(str(day_list[i + train_period - 1]) + ' 13:30:00.000', format = '%Y/%m/%d %H:%M:%S.%f')\n",
    "    train = trade[train_start_time & train_end_time]\n",
    "    test_start_time = trade.index >= pd.to_datetime(str(day_list[i + train_period]) + ' 09:00:00.000', format = '%Y/%m/%d %H:%M:%S.%f')\n",
    "    test_end_time = trade.index <= pd.to_datetime(str(day_list[i + train_period]) + ' 13:30:00.000', format = '%Y/%m/%d %H:%M:%S.%f')\n",
    "    test = trade[test_start_time & test_end_time]\n",
    "\n",
    "    current_pool = pool[test_start_time & test_end_time]\n",
    "\n",
    "    mean = np.mean(train['spread'])\n",
    "    std = np.std(train['spread'])\n",
    "\n",
    "    upper = mean + 1.5 * std\n",
    "    lower = mean - 1.5 * std\n",
    "\n",
    "    for tick_idx in (range(len(test.index))): \n",
    "        current_data = test[0:tick_idx + 1]\n",
    "\n",
    "        if tick_idx != len(test.index) - 4:\n",
    "            # generate delay\n",
    "            delay_idx = np.random.rand()\n",
    "            delay = 0\n",
    "            if delay_idx < np.sin(np.pi/8*3):\n",
    "                pass\n",
    "            else: \n",
    "                delay = 2\n",
    "\n",
    "            # long spread\n",
    "            if test.loc[test.index[tick_idx]]['spread'] <= lower: \n",
    "                if np.sum(current_data['signal']) == 0: \n",
    "                    test.at[test.index[tick_idx+delay], 'signal'] = 1\n",
    "                    test.at[test.index[tick_idx+delay], 'cap'] = current_pool.iloc[tick_idx]['SP1'] * 2 - current_pool.iloc[tick_idx]['bidPrice1']\n",
    "\n",
    "            # back to mean\n",
    "            elif test.loc[test.index[tick_idx]]['spread'] >= mean: \n",
    "                if np.sum(current_data['signal']) == 1: \n",
    "                    test.at[test.index[tick_idx+delay], 'signal'] = -1\n",
    "                    test.at[test.index[tick_idx+delay], 'cap'] = - current_pool.iloc[tick_idx]['BP1'] * 2 + current_pool.iloc[tick_idx]['askPrice1']\n",
    "                    test.at[test.index[tick_idx+delay], 'pnl'] = np.sum(current_data['cap']) #+ trade.loc[test.index[tick_idx]]['cap']\n",
    "\n",
    "            # short spread\n",
    "            elif test.loc[test.index[tick_idx]]['spread'] >= upper: \n",
    "                if np.sum(current_data['signal']) == 0: \n",
    "                    test.at[test.index[tick_idx+delay], 'signal'] = -1\n",
    "                    test.at[test.index[tick_idx+delay], 'cap'] = - current_pool.iloc[tick_idx]['BP1'] * 2 + current_pool.iloc[tick_idx]['askPrice1']\n",
    "\n",
    "            # back to mean \n",
    "            elif test.loc[test.index[tick_idx]]['spread'] <= mean: \n",
    "                if np.sum(current_data['signal']) == -1: \n",
    "                    test.at[test.index[tick_idx+delay], 'signal'] = 1\n",
    "                    test.at[test.index[tick_idx+delay], 'cap'] = current_pool.iloc[tick_idx]['SP1'] * 2 - current_pool.iloc[tick_idx]['bidPrice1']\n",
    "                    test.at[test.index[tick_idx+delay], 'pnl'] = np.sum(current_data['cap'])# + trade.loc[test.index[tick_idx]]['cap']\n",
    "\n",
    "            else: \n",
    "                pass\n",
    "        \n",
    "        else:\n",
    "            pass\n",
    "            if np.sum(current_data['signal']) == 1: \n",
    "                test.at[test.index[tick_idx], 'signal'] = -1\n",
    "                test.at[test.index[tick_idx], 'cap'] = - current_pool.iloc[tick_idx]['BP1'] * 2 + current_pool.iloc[tick_idx]['askPrice1']\n",
    "                test.at[test.index[tick_idx], 'pnl'] = np.sum(current_data['cap']) #+ trade.loc[test.index[tick_idx]]['cap']\n",
    "            elif np.sum(current_data['signal']) == -1: \n",
    "                test.at[test.index[tick_idx], 'signal'] = 1\n",
    "                test.at[test.index[tick_idx], 'cap'] = current_pool.iloc[tick_idx]['SP1'] * 2 - current_pool.iloc[tick_idx]['bidPrice1']\n",
    "                test.at[test.index[tick_idx], 'pnl'] = np.sum(current_data['cap']) #+ trade.loc[test.index[tick_idx]]['cap']\n",
    "            else:\n",
    "                pass\n",
    "    \n",
    "    \n",
    "    PnL = np.append(PnL, test[test['pnl'] != 0]['pnl'] + PnL[-1])"
   ]
  },
  {
   "cell_type": "code",
   "execution_count": 38,
   "metadata": {},
   "outputs": [
    {
     "data": {
      "text/plain": [
       "array([     0,   1000,   1500,   2500,   3000, 119000, 119000,   5000,\n",
       "         6000,   6500,   7000,   7500,   8500,   9500,  10000,  11000,\n",
       "       124000,  13500,  14500,  15500,  16000,  17000,  17500,  18500,\n",
       "       132500,  20000,  21000,  22000,  22500,  23000,  24000,  25000,\n",
       "        26500,  27000,  27000,  27500, 149500,  29000,  29500,  30500,\n",
       "       152500,  32000,  32500,  33000,  33000,  32000,  33000,  33500,\n",
       "        32500,  34000,  34000,  35000,  36000,  37500,  38500,  39500,\n",
       "        41500,  42000,  43500,  45000,  47000,  48500,  49500,  50500,\n",
       "        51000,  50500,  51500,  52500,  53000,  53500,  53500,  53500,\n",
       "        54000,  55500,  55000,  56000,  56500,  56500,  57000,  58500,\n",
       "        59000,  59000, 206500,  60000,  61000,  61000, 211000,  62500,\n",
       "        63000,  64500,  66000,  66500,  67000,  68000,  69000,  69000,\n",
       "       213000, 213000,  71000,  72000,  73000,  74500,  75500,  75500,\n",
       "        76500,  77500,  78000,  78500,  78000,  78500,  79000,  79000,\n",
       "        78500,  79000,  79500,  79000,  79500,  80000,  81000,  81500,\n",
       "        82000,  82500,  82500,  83500,  84000,  84000,  84500,  84500,\n",
       "        85500, 250500,  87500,  88500,  88500,  89500,  90000,  91000,\n",
       "        92000,  92500,  93000,  94000,  93500,  93500, 252000,  95000,\n",
       "        95500,  96500,  97500,  99000, 100500, 102000, 101000, 102000,\n",
       "       260000, 103500, 103500])"
      ]
     },
     "execution_count": 38,
     "metadata": {},
     "output_type": "execute_result"
    }
   ],
   "source": [
    "PnL"
   ]
  },
  {
   "cell_type": "code",
   "execution_count": 39,
   "metadata": {},
   "outputs": [
    {
     "data": {
      "text/plain": [
       "[<matplotlib.lines.Line2D at 0x7f87693d87f0>]"
      ]
     },
     "execution_count": 39,
     "metadata": {},
     "output_type": "execute_result"
    },
    {
     "data": {
      "image/png": "[encoded data removed]",
      "text/plain": [
       "<Figure size 432x288 with 1 Axes>"
      ]
     },
     "metadata": {
      "needs_background": "light"
     },
     "output_type": "display_data"
    }
   ],
   "source": [
    "plt.plot(PnL)"
   ]
  },
  {
   "cell_type": "code",
   "execution_count": null,
   "metadata": {},
   "outputs": [],
   "source": []
  },
  {
   "cell_type": "markdown",
   "metadata": {},
   "source": [
    "# Try on other pairs"
   ]
  },
  {
   "cell_type": "code",
   "execution_count": 49,
   "metadata": {},
   "outputs": [
    {
     "name": "stderr",
     "output_type": "stream",
     "text": [
      "100%|██████████| 10/10 [00:31<00:00,  3.19s/it]\n"
     ]
    }
   ],
   "source": [
    "futureCode = futureCodeList[1]\n",
    "stockCode = stockCodeList[1]\n",
    "\n",
    "stock = pd.read_csv(data_clean_path + futureCode + \"-\" + stockCode + \"/stock.csv.gz\", compression='gzip', index_col=0)\n",
    "future = pd.read_csv(data_clean_path + futureCode + \"-\" + stockCode + \"/future.csv.gz\", compression='gzip', index_col=0)\n",
    "spread = np.log(stock['price']) - np.log(future['midQ'])\n",
    "spread = pd.DataFrame(spread)\n",
    "spread.columns = ['spread']\n",
    "\n",
    "pool = pd.DataFrame()\n",
    "pool.index = stock.index\n",
    "pool['SP1'] = stock['SP1']\n",
    "pool['BP1'] = stock['BP1']\n",
    "pool['askPrice1'] = future['askPrice1']\n",
    "pool['bidPrice1'] = future['bidPrice1']\n",
    "pool['spread'] = spread['spread']\n",
    "pool.index = pd.to_datetime(pool.index)\n",
    "\n",
    "trade = pd.DataFrame()\n",
    "trade.index = pool.index\n",
    "trade['spread'] = pool['spread']\n",
    "trade['signal'] = 0\n",
    "trade['cap'] = 0\n",
    "trade['pnl'] = 0\n",
    "trade.index = pd.to_datetime(trade.index)\n",
    "\n",
    "day_list = np.unique(pool.index.date)\n",
    "train_period = 3\n",
    "PnL = np.array([0])\n",
    "\n",
    "for i in tqdm(range(len(day_list) - train_period)[-30:]):\n",
    "    train_start_time = trade.index >= pd.to_datetime(str(day_list[i]) + ' 09:00:00.000', format = '%Y/%m/%d %H:%M:%S.%f')\n",
    "    train_end_time = trade.index <= pd.to_datetime(str(day_list[i + train_period - 1]) + ' 13:30:00.000', format = '%Y/%m/%d %H:%M:%S.%f')\n",
    "    train = trade[train_start_time & train_end_time]\n",
    "    test_start_time = trade.index >= pd.to_datetime(str(day_list[i + train_period]) + ' 09:00:00.000', format = '%Y/%m/%d %H:%M:%S.%f')\n",
    "    test_end_time = trade.index <= pd.to_datetime(str(day_list[i + train_period]) + ' 13:30:00.000', format = '%Y/%m/%d %H:%M:%S.%f')\n",
    "    test = trade[test_start_time & test_end_time]\n",
    "\n",
    "    current_pool = pool[test_start_time & test_end_time]\n",
    "\n",
    "    mean = np.mean(train['spread'])\n",
    "    std = np.std(train['spread'])\n",
    "\n",
    "    upper = mean + 1.5 * std\n",
    "    lower = mean - 1.5 * std\n",
    "\n",
    "    for tick_idx in (range(len(test.index))): \n",
    "        current_data = test[0:tick_idx + 1]\n",
    "\n",
    "        if tick_idx != len(test.index) - 3:\n",
    "            # generate delay\n",
    "            delay_idx = np.random.rand()\n",
    "            delay = 0\n",
    "            if delay_idx < np.sin(np.pi/8*3):\n",
    "                pass\n",
    "            else: \n",
    "                delay = 1\n",
    "\n",
    "            # long spread\n",
    "            if test.loc[test.index[tick_idx]]['spread'] <= lower: \n",
    "                if np.sum(current_data['signal']) == 0: \n",
    "                    test.at[test.index[tick_idx+delay], 'signal'] = 1\n",
    "                    test.at[test.index[tick_idx+delay], 'cap'] = current_pool.iloc[tick_idx]['SP1'] * 2 - current_pool.iloc[tick_idx]['bidPrice1']\n",
    "\n",
    "            # back to mean\n",
    "            elif test.loc[test.index[tick_idx]]['spread'] >= mean: \n",
    "                if np.sum(current_data['signal']) == 1: \n",
    "                    test.at[test.index[tick_idx+delay], 'signal'] = -1\n",
    "                    test.at[test.index[tick_idx+delay], 'cap'] = - current_pool.iloc[tick_idx]['BP1'] * 2 + current_pool.iloc[tick_idx]['askPrice1']\n",
    "                    test.at[test.index[tick_idx+delay], 'pnl'] = np.sum(current_data['cap']) #+ trade.loc[test.index[tick_idx]]['cap']\n",
    "\n",
    "            # short spread\n",
    "            elif test.loc[test.index[tick_idx]]['spread'] >= upper: \n",
    "                if np.sum(current_data['signal']) == 0: \n",
    "                    test.at[test.index[tick_idx+delay], 'signal'] = -1\n",
    "                    test.at[test.index[tick_idx+delay], 'cap'] = - current_pool.iloc[tick_idx]['BP1'] * 2 + current_pool.iloc[tick_idx]['askPrice1']\n",
    "\n",
    "            # back to mean \n",
    "            elif test.loc[test.index[tick_idx]]['spread'] <= mean: \n",
    "                if np.sum(current_data['signal']) == -1: \n",
    "                    test.at[test.index[tick_idx+delay], 'signal'] = 1\n",
    "                    test.at[test.index[tick_idx+delay], 'cap'] = current_pool.iloc[tick_idx]['SP1'] * 2 - current_pool.iloc[tick_idx]['bidPrice1']\n",
    "                    test.at[test.index[tick_idx+delay], 'pnl'] = np.sum(current_data['cap'])# + trade.loc[test.index[tick_idx]]['cap']\n",
    "\n",
    "            else: \n",
    "                pass\n",
    "        \n",
    "        else:\n",
    "            pass\n",
    "            if np.sum(current_data['signal']) == 1: \n",
    "                test.at[test.index[tick_idx], 'signal'] = -1\n",
    "                test.at[test.index[tick_idx], 'cap'] = - current_pool.iloc[tick_idx]['BP1'] * 2 + current_pool.iloc[tick_idx]['askPrice1']\n",
    "                test.at[test.index[tick_idx], 'pnl'] = np.sum(current_data['cap']) #+ trade.loc[test.index[tick_idx]]['cap']\n",
    "            elif np.sum(current_data['signal']) == -1: \n",
    "                test.at[test.index[tick_idx], 'signal'] = 1\n",
    "                test.at[test.index[tick_idx], 'cap'] = current_pool.iloc[tick_idx]['SP1'] * 2 - current_pool.iloc[tick_idx]['bidPrice1']\n",
    "                test.at[test.index[tick_idx], 'pnl'] = np.sum(current_data['cap']) #+ trade.loc[test.index[tick_idx]]['cap']\n",
    "            else:\n",
    "                pass\n",
    "    \n",
    "    \n",
    "    PnL = np.append(PnL, test[test['pnl'] != 0]['pnl'] + PnL[-1])"
   ]
  },
  {
   "cell_type": "code",
   "execution_count": 50,
   "metadata": {},
   "outputs": [
    {
     "data": {
      "text/plain": [
       "[<matplotlib.lines.Line2D at 0x7fe2ebb60fd0>]"
      ]
     },
     "execution_count": 50,
     "metadata": {},
     "output_type": "execute_result"
    },
    {
     "data": {
      "image/png": "[encoded data removed]",
      "text/plain": [
       "<Figure size 432x288 with 1 Axes>"
      ]
     },
     "metadata": {
      "needs_background": "light"
     },
     "output_type": "display_data"
    }
   ],
   "source": [
    "plt.plot(PnL)"
   ]
  },
  {
   "cell_type": "code",
   "execution_count": null,
   "metadata": {},
   "outputs": [],
   "source": []
  },
  {
   "cell_type": "code",
   "execution_count": 51,
   "metadata": {},
   "outputs": [
    {
     "name": "stderr",
     "output_type": "stream",
     "text": [
      "100%|██████████| 30/30 [01:07<00:00,  2.26s/it]\n"
     ]
    },
    {
     "data": {
      "text/plain": [
       "[<matplotlib.lines.Line2D at 0x7fe2c0f4b130>]"
      ]
     },
     "execution_count": 51,
     "metadata": {},
     "output_type": "execute_result"
    },
    {
     "data": {
      "image/png": "[encoded data removed]",
      "text/plain": [
       "<Figure size 432x288 with 1 Axes>"
      ]
     },
     "metadata": {
      "needs_background": "light"
     },
     "output_type": "display_data"
    }
   ],
   "source": [
    "futureCode = futureCodeList[4]\n",
    "stockCode = stockCodeList[4]\n",
    "\n",
    "stock = pd.read_csv(data_clean_path + futureCode + \"-\" + stockCode + \"/stock.csv.gz\", compression='gzip', index_col=0)\n",
    "future = pd.read_csv(data_clean_path + futureCode + \"-\" + stockCode + \"/future.csv.gz\", compression='gzip', index_col=0)\n",
    "spread = np.log(stock['price']) - np.log(future['midQ'])\n",
    "spread = pd.DataFrame(spread)\n",
    "spread.columns = ['spread']\n",
    "\n",
    "pool = pd.DataFrame()\n",
    "pool.index = stock.index\n",
    "pool['SP1'] = stock['SP1']\n",
    "pool['BP1'] = stock['BP1']\n",
    "pool['askPrice1'] = future['askPrice1']\n",
    "pool['bidPrice1'] = future['bidPrice1']\n",
    "pool['spread'] = spread['spread']\n",
    "pool.index = pd.to_datetime(pool.index)\n",
    "\n",
    "trade = pd.DataFrame()\n",
    "trade.index = pool.index\n",
    "trade['spread'] = pool['spread']\n",
    "trade['signal'] = 0\n",
    "trade['cap'] = 0\n",
    "trade['pnl'] = 0\n",
    "trade.index = pd.to_datetime(trade.index)\n",
    "\n",
    "day_list = np.unique(pool.index.date)\n",
    "train_period = 3\n",
    "PnL = np.array([0])\n",
    "\n",
    "for i in tqdm(range(len(day_list) - train_period)[-30:]):\n",
    "    train_start_time = trade.index >= pd.to_datetime(str(day_list[i]) + ' 09:00:00.000', format = '%Y/%m/%d %H:%M:%S.%f')\n",
    "    train_end_time = trade.index <= pd.to_datetime(str(day_list[i + train_period - 1]) + ' 13:30:00.000', format = '%Y/%m/%d %H:%M:%S.%f')\n",
    "    train = trade[train_start_time & train_end_time]\n",
    "    test_start_time = trade.index >= pd.to_datetime(str(day_list[i + train_period]) + ' 09:00:00.000', format = '%Y/%m/%d %H:%M:%S.%f')\n",
    "    test_end_time = trade.index <= pd.to_datetime(str(day_list[i + train_period]) + ' 13:30:00.000', format = '%Y/%m/%d %H:%M:%S.%f')\n",
    "    test = trade[test_start_time & test_end_time]\n",
    "\n",
    "    current_pool = pool[test_start_time & test_end_time]\n",
    "\n",
    "    mean = np.mean(train['spread'])\n",
    "    std = np.std(train['spread'])\n",
    "\n",
    "    upper = mean + 1.5 * std\n",
    "    lower = mean - 1.5 * std\n",
    "\n",
    "    for tick_idx in (range(len(test.index))): \n",
    "        current_data = test[0:tick_idx + 1]\n",
    "\n",
    "        if tick_idx != len(test.index) - 3:\n",
    "            # generate delay\n",
    "            delay_idx = np.random.rand()\n",
    "            delay = 0\n",
    "            if delay_idx < np.sin(np.pi/8*3):\n",
    "                pass\n",
    "            else: \n",
    "                delay = 1\n",
    "\n",
    "            # long spread\n",
    "            if test.loc[test.index[tick_idx]]['spread'] <= lower: \n",
    "                if np.sum(current_data['signal']) == 0: \n",
    "                    test.at[test.index[tick_idx+delay], 'signal'] = 1\n",
    "                    test.at[test.index[tick_idx+delay], 'cap'] = current_pool.iloc[tick_idx]['SP1'] * 2 - current_pool.iloc[tick_idx]['bidPrice1']\n",
    "\n",
    "            # back to mean\n",
    "            elif test.loc[test.index[tick_idx]]['spread'] >= mean: \n",
    "                if np.sum(current_data['signal']) == 1: \n",
    "                    test.at[test.index[tick_idx+delay], 'signal'] = -1\n",
    "                    test.at[test.index[tick_idx+delay], 'cap'] = - current_pool.iloc[tick_idx]['BP1'] * 2 + current_pool.iloc[tick_idx]['askPrice1']\n",
    "                    test.at[test.index[tick_idx+delay], 'pnl'] = np.sum(current_data['cap']) #+ trade.loc[test.index[tick_idx]]['cap']\n",
    "\n",
    "            # short spread\n",
    "            elif test.loc[test.index[tick_idx]]['spread'] >= upper: \n",
    "                if np.sum(current_data['signal']) == 0: \n",
    "                    test.at[test.index[tick_idx+delay], 'signal'] = -1\n",
    "                    test.at[test.index[tick_idx+delay], 'cap'] = - current_pool.iloc[tick_idx]['BP1'] * 2 + current_pool.iloc[tick_idx]['askPrice1']\n",
    "\n",
    "            # back to mean \n",
    "            elif test.loc[test.index[tick_idx]]['spread'] <= mean: \n",
    "                if np.sum(current_data['signal']) == -1: \n",
    "                    test.at[test.index[tick_idx+delay], 'signal'] = 1\n",
    "                    test.at[test.index[tick_idx+delay], 'cap'] = current_pool.iloc[tick_idx]['SP1'] * 2 - current_pool.iloc[tick_idx]['bidPrice1']\n",
    "                    test.at[test.index[tick_idx+delay], 'pnl'] = np.sum(current_data['cap'])# + trade.loc[test.index[tick_idx]]['cap']\n",
    "\n",
    "            else: \n",
    "                pass\n",
    "        \n",
    "        else:\n",
    "            pass\n",
    "            if np.sum(current_data['signal']) == 1: \n",
    "                test.at[test.index[tick_idx], 'signal'] = -1\n",
    "                test.at[test.index[tick_idx], 'cap'] = - current_pool.iloc[tick_idx]['BP1'] * 2 + current_pool.iloc[tick_idx]['askPrice1']\n",
    "                test.at[test.index[tick_idx], 'pnl'] = np.sum(current_data['cap']) #+ trade.loc[test.index[tick_idx]]['cap']\n",
    "            elif np.sum(current_data['signal']) == -1: \n",
    "                test.at[test.index[tick_idx], 'signal'] = 1\n",
    "                test.at[test.index[tick_idx], 'cap'] = current_pool.iloc[tick_idx]['SP1'] * 2 - current_pool.iloc[tick_idx]['bidPrice1']\n",
    "                test.at[test.index[tick_idx], 'pnl'] = np.sum(current_data['cap']) #+ trade.loc[test.index[tick_idx]]['cap']\n",
    "            else:\n",
    "                pass\n",
    "    \n",
    "    \n",
    "    PnL = np.append(PnL, test[test['pnl'] != 0]['pnl'] + PnL[-1])\n",
    "\n",
    "plt.plot(PnL)"
   ]
  },
  {
   "cell_type": "code",
   "execution_count": null,
   "metadata": {},
   "outputs": [],
   "source": []
  },
  {
   "cell_type": "markdown",
   "metadata": {},
   "source": [
    "pair 3"
   ]
  },
  {
   "cell_type": "code",
   "execution_count": 54,
   "metadata": {},
   "outputs": [
    {
     "name": "stderr",
     "output_type": "stream",
     "text": [
      "100%|██████████| 30/30 [01:51<00:00,  3.73s/it]\n"
     ]
    },
    {
     "data": {
      "text/plain": [
       "[<matplotlib.lines.Line2D at 0x7fe2d8cc36d0>]"
      ]
     },
     "execution_count": 54,
     "metadata": {},
     "output_type": "execute_result"
    },
    {
     "data": {
      "image/png": "[encoded data removed]",
      "text/plain": [
       "<Figure size 432x288 with 1 Axes>"
      ]
     },
     "metadata": {
      "needs_background": "light"
     },
     "output_type": "display_data"
    }
   ],
   "source": [
    "futureCode = futureCodeList[2]\n",
    "stockCode = stockCodeList[2]\n",
    "\n",
    "stock = pd.read_csv(data_clean_path + futureCode + \"-\" + stockCode + \"/stock.csv.gz\", compression='gzip', index_col=0)\n",
    "future = pd.read_csv(data_clean_path + futureCode + \"-\" + stockCode + \"/future.csv.gz\", compression='gzip', index_col=0)\n",
    "spread = np.log(stock['price']) - np.log(future['midQ'])\n",
    "spread = pd.DataFrame(spread)\n",
    "spread.columns = ['spread']\n",
    "\n",
    "pool = pd.DataFrame()\n",
    "pool.index = stock.index\n",
    "pool['SP1'] = stock['SP1']\n",
    "pool['BP1'] = stock['BP1']\n",
    "pool['askPrice1'] = future['askPrice1']\n",
    "pool['bidPrice1'] = future['bidPrice1']\n",
    "pool['spread'] = spread['spread']\n",
    "pool.index = pd.to_datetime(pool.index)\n",
    "\n",
    "trade = pd.DataFrame()\n",
    "trade.index = pool.index\n",
    "trade['spread'] = pool['spread']\n",
    "trade['signal'] = 0\n",
    "trade['cap'] = 0\n",
    "trade['pnl'] = 0\n",
    "trade.index = pd.to_datetime(trade.index)\n",
    "\n",
    "day_list = np.unique(pool.index.date)\n",
    "train_period = 3\n",
    "PnL = np.array([0])\n",
    "\n",
    "for i in tqdm(range(len(day_list) - train_period)[-30:]):\n",
    "    train_start_time = trade.index >= pd.to_datetime(str(day_list[i]) + ' 09:00:00.000', format = '%Y/%m/%d %H:%M:%S.%f')\n",
    "    train_end_time = trade.index <= pd.to_datetime(str(day_list[i + train_period - 1]) + ' 13:30:00.000', format = '%Y/%m/%d %H:%M:%S.%f')\n",
    "    train = trade[train_start_time & train_end_time]\n",
    "    test_start_time = trade.index >= pd.to_datetime(str(day_list[i + train_period]) + ' 09:00:00.000', format = '%Y/%m/%d %H:%M:%S.%f')\n",
    "    test_end_time = trade.index <= pd.to_datetime(str(day_list[i + train_period]) + ' 13:30:00.000', format = '%Y/%m/%d %H:%M:%S.%f')\n",
    "    test = trade[test_start_time & test_end_time]\n",
    "\n",
    "    current_pool = pool[test_start_time & test_end_time]\n",
    "\n",
    "    mean = np.mean(train['spread'])\n",
    "    std = np.std(train['spread'])\n",
    "\n",
    "    upper = mean + 1.5 * std\n",
    "    lower = mean - 1.5 * std\n",
    "\n",
    "    for tick_idx in (range(len(test.index))): \n",
    "        current_data = test[0:tick_idx + 1]\n",
    "\n",
    "        if tick_idx != len(test.index) - 3:\n",
    "            # generate delay\n",
    "            delay_idx = np.random.rand()\n",
    "            delay = 0\n",
    "            if delay_idx < np.sin(np.pi/8*3):\n",
    "                pass\n",
    "            else: \n",
    "                delay = 1\n",
    "\n",
    "            # long spread\n",
    "            if test.loc[test.index[tick_idx]]['spread'] <= lower: \n",
    "                if np.sum(current_data['signal']) == 0: \n",
    "                    test.at[test.index[tick_idx+delay], 'signal'] = 1\n",
    "                    test.at[test.index[tick_idx+delay], 'cap'] = current_pool.iloc[tick_idx]['SP1'] * 2 - current_pool.iloc[tick_idx]['bidPrice1']\n",
    "\n",
    "            # back to mean\n",
    "            elif test.loc[test.index[tick_idx]]['spread'] >= mean: \n",
    "                if np.sum(current_data['signal']) == 1: \n",
    "                    test.at[test.index[tick_idx+delay], 'signal'] = -1\n",
    "                    test.at[test.index[tick_idx+delay], 'cap'] = - current_pool.iloc[tick_idx]['BP1'] * 2 + current_pool.iloc[tick_idx]['askPrice1']\n",
    "                    test.at[test.index[tick_idx+delay], 'pnl'] = np.sum(current_data['cap']) #+ trade.loc[test.index[tick_idx]]['cap']\n",
    "\n",
    "            # short spread\n",
    "            elif test.loc[test.index[tick_idx]]['spread'] >= upper: \n",
    "                if np.sum(current_data['signal']) == 0: \n",
    "                    test.at[test.index[tick_idx+delay], 'signal'] = -1\n",
    "                    test.at[test.index[tick_idx+delay], 'cap'] = - current_pool.iloc[tick_idx]['BP1'] * 2 + current_pool.iloc[tick_idx]['askPrice1']\n",
    "\n",
    "            # back to mean \n",
    "            elif test.loc[test.index[tick_idx]]['spread'] <= mean: \n",
    "                if np.sum(current_data['signal']) == -1: \n",
    "                    test.at[test.index[tick_idx+delay], 'signal'] = 1\n",
    "                    test.at[test.index[tick_idx+delay], 'cap'] = current_pool.iloc[tick_idx]['SP1'] * 2 - current_pool.iloc[tick_idx]['bidPrice1']\n",
    "                    test.at[test.index[tick_idx+delay], 'pnl'] = np.sum(current_data['cap'])# + trade.loc[test.index[tick_idx]]['cap']\n",
    "\n",
    "            else: \n",
    "                pass\n",
    "        \n",
    "        else:\n",
    "            pass\n",
    "            if np.sum(current_data['signal']) == 1: \n",
    "                test.at[test.index[tick_idx], 'signal'] = -1\n",
    "                test.at[test.index[tick_idx], 'cap'] = - current_pool.iloc[tick_idx]['BP1'] * 2 + current_pool.iloc[tick_idx]['askPrice1']\n",
    "                test.at[test.index[tick_idx], 'pnl'] = np.sum(current_data['cap']) #+ trade.loc[test.index[tick_idx]]['cap']\n",
    "            elif np.sum(current_data['signal']) == -1: \n",
    "                test.at[test.index[tick_idx], 'signal'] = 1\n",
    "                test.at[test.index[tick_idx], 'cap'] = current_pool.iloc[tick_idx]['SP1'] * 2 - current_pool.iloc[tick_idx]['bidPrice1']\n",
    "                test.at[test.index[tick_idx], 'pnl'] = np.sum(current_data['cap']) #+ trade.loc[test.index[tick_idx]]['cap']\n",
    "            else:\n",
    "                pass\n",
    "    \n",
    "    \n",
    "    PnL = np.append(PnL, test[test['pnl'] != 0]['pnl'] + PnL[-1])\n",
    "\n",
    "plt.plot(PnL)"
   ]
  },
  {
   "cell_type": "code",
   "execution_count": null,
   "metadata": {},
   "outputs": [],
   "source": []
  }
 ],
 "metadata": {
  "kernelspec": {
   "display_name": "base",
   "language": "python",
   "name": "python3"
  },
  "language_info": {
   "codemirror_mode": {
    "name": "ipython",
    "version": 3
   },
   "file_extension": ".py",
   "mimetype": "text/x-python",
   "name": "python",
   "nbconvert_exporter": "python",
   "pygments_lexer": "ipython3",
   "version": "3.9.12"
  },
  "orig_nbformat": 4
 },
 "nbformat": 4,
 "nbformat_minor": 2
}
